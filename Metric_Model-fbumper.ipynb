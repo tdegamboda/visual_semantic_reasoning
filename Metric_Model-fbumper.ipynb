{
 "cells": [
  {
   "cell_type": "markdown",
   "metadata": {},
   "source": [
    "Import necessary libraries"
   ]
  },
  {
   "cell_type": "code",
   "execution_count": 4,
   "metadata": {},
   "outputs": [],
   "source": [
    "import pandas as pd\n",
    "import matplotlib.pyplot as plt\n",
    "import matplotlib.image as mpimg\n",
    "import numpy as np\n",
    "\n",
    "import cv2\n",
    "import os\n",
    "import time\n",
    "import string\n",
    "\n",
    "from random import choice, sample\n",
    "from IPython.display import clear_output\n",
    "\n",
    "import gensim\n",
    "from gensim.models import Word2Vec\n",
    "from gensim.models import KeyedVectors\n",
    "\n",
    "import tensorflow as tf\n",
    "import tensorflow.keras.backend as K\n",
    "from tensorflow.keras.applications import ResNet50\n",
    "from tensorflow.keras.applications.resnet50 import preprocess_input\n",
    "from tensorflow.keras.callbacks import ModelCheckpoint, ReduceLROnPlateau, EarlyStopping\n",
    "from tensorflow.keras.layers import Input, GlobalMaxPool2D, Conv2D, MaxPooling2D, Flatten, GlobalMaxPool1D, Dense, Embedding, GRU, \\\n",
    "    Bidirectional, Concatenate, Lambda, SpatialDropout1D\n",
    "from tensorflow.keras.models import Model\n",
    "from tensorflow.keras.optimizers import Adam, SGD\n",
    "from tensorflow.python.keras.utils.data_utils import Sequence\n",
    "\n",
    "from helper_functions import *"
   ]
  },
  {
   "cell_type": "code",
   "execution_count": 5,
   "metadata": {},
   "outputs": [
    {
     "name": "stdout",
     "output_type": "stream",
     "text": [
      "2.1.0\n"
     ]
    }
   ],
   "source": [
    "print(tf.__version__)"
   ]
  },
  {
   "cell_type": "markdown",
   "metadata": {},
   "source": [
    "Check whether GPUs are available"
   ]
  },
  {
   "cell_type": "code",
   "execution_count": 6,
   "metadata": {},
   "outputs": [
    {
     "data": {
      "text/plain": [
       "[]"
      ]
     },
     "execution_count": 6,
     "metadata": {},
     "output_type": "execute_result"
    }
   ],
   "source": [
    "get_available_gpus()"
   ]
  },
  {
   "cell_type": "code",
   "execution_count": 4,
   "metadata": {},
   "outputs": [],
   "source": [
    "clean_test_fbumper = pd.read_csv('/data/data_for_thevin/clean_test_set/fbumper_ud_test.csv')"
   ]
  },
  {
   "cell_type": "code",
   "execution_count": 5,
   "metadata": {},
   "outputs": [],
   "source": [
    "clean_fbumper = clean_test_fbumper.loc[clean_test_fbumper['fbumper_part_scores'] > 0.5]"
   ]
  },
  {
   "cell_type": "code",
   "execution_count": null,
   "metadata": {},
   "outputs": [],
   "source": [
    "clean_fbumper.head()"
   ]
  },
  {
   "cell_type": "code",
   "execution_count": 7,
   "metadata": {},
   "outputs": [],
   "source": [
    "mappings = pd.read_csv('/data/data_for_thevin/mapping/mapping_may20.csv')"
   ]
  },
  {
   "cell_type": "code",
   "execution_count": null,
   "metadata": {},
   "outputs": [],
   "source": [
    "mappings.loc[mappings['t_part'] == 'bonnet']"
   ]
  },
  {
   "cell_type": "code",
   "execution_count": 9,
   "metadata": {},
   "outputs": [],
   "source": [
    "dict_ = mappings.to_dict('split')"
   ]
  },
  {
   "cell_type": "code",
   "execution_count": 10,
   "metadata": {},
   "outputs": [],
   "source": [
    "map_dict = {}\n",
    "for i in dict_['data']:\n",
    "    map_dict[i[0]] = i[1]"
   ]
  },
  {
   "cell_type": "code",
   "execution_count": 11,
   "metadata": {},
   "outputs": [],
   "source": [
    "mapping_keys = np.unique(mappings['t_part'].values)"
   ]
  },
  {
   "cell_type": "code",
   "execution_count": 12,
   "metadata": {},
   "outputs": [],
   "source": [
    "mapping_dict = {}\n",
    "for i in mapping_keys:\n",
    "    mapping_dict[i] = mappings.loc[mappings['t_part'] == i, 'description'].values.tolist()"
   ]
  },
  {
   "cell_type": "markdown",
   "metadata": {},
   "source": [
    "## First csv Analysis"
   ]
  },
  {
   "cell_type": "code",
   "execution_count": 13,
   "metadata": {},
   "outputs": [],
   "source": [
    "data = pd.read_csv('/data/data_for_thevin/claim_split/imbag_to_image_id_mapping_with_part_scores.csv')"
   ]
  },
  {
   "cell_type": "code",
   "execution_count": null,
   "metadata": {},
   "outputs": [],
   "source": [
    "data.head()"
   ]
  },
  {
   "cell_type": "code",
   "execution_count": 14,
   "metadata": {},
   "outputs": [
    {
     "data": {
      "text/plain": [
       "1861458"
      ]
     },
     "execution_count": 14,
     "metadata": {},
     "output_type": "execute_result"
    }
   ],
   "source": [
    "len(data)"
   ]
  },
  {
   "cell_type": "code",
   "execution_count": 15,
   "metadata": {},
   "outputs": [
    {
     "data": {
      "text/plain": [
       "Index(['image_id', 'imbag_id', 'RecordID', 'set', 'fbumper', 'bbumper',\n",
       "       'bonnet', 'bootlid', 'flwing', 'blwing', 'fldoor', 'rldoor', 'frwing',\n",
       "       'brwing', 'frdoor', 'rrdoor', 'grille', 'rheadlamp', 'rtaillamp',\n",
       "       'rmirror', 'lheadlamp', 'ltaillamp', 'lmirror', 'lrockerpanel',\n",
       "       'rrockerpanel', 'fwindshield', 'rwindshield'],\n",
       "      dtype='object')"
      ]
     },
     "execution_count": 15,
     "metadata": {},
     "output_type": "execute_result"
    }
   ],
   "source": [
    "data.columns"
   ]
  },
  {
   "cell_type": "code",
   "execution_count": 88,
   "metadata": {
    "scrolled": true
   },
   "outputs": [],
   "source": [
    "fbumper_data = data.loc[(data['fbumper'] > 0.5) & (data['flwing'] < 0.5) & (data['frwing'] < 0.5)]"
   ]
  },
  {
   "cell_type": "code",
   "execution_count": 89,
   "metadata": {},
   "outputs": [
    {
     "data": {
      "text/plain": [
       "85227"
      ]
     },
     "execution_count": 89,
     "metadata": {},
     "output_type": "execute_result"
    }
   ],
   "source": [
    "len(fbumper_data)"
   ]
  },
  {
   "cell_type": "code",
   "execution_count": null,
   "metadata": {},
   "outputs": [],
   "source": [
    "fbumper_data.loc[fbumper_data['']]"
   ]
  },
  {
   "cell_type": "code",
   "execution_count": null,
   "metadata": {
    "scrolled": true
   },
   "outputs": [],
   "source": [
    "sorted_data = data.sort_values(by = ['RecordID', 'imbag_id'])\n",
    "sorted_data"
   ]
  },
  {
   "cell_type": "code",
   "execution_count": 144,
   "metadata": {},
   "outputs": [
    {
     "data": {
      "text/plain": [
       "99960"
      ]
     },
     "execution_count": 144,
     "metadata": {},
     "output_type": "execute_result"
    }
   ],
   "source": [
    "#We know that there are an equal number of record id's and imbag id's\n",
    "\n",
    "unq_imbag_id = np.unique(sorted_data.values[:, 1])\n",
    "unq_record_id = np.unique(sorted_data.values[:, 2])\n",
    "\n",
    "assert len(unq_imbag_id) == len(unq_record_id)\n",
    "len(unq_imbag_id)"
   ]
  },
  {
   "cell_type": "markdown",
   "metadata": {},
   "source": [
    "## Metadata csv Analysis"
   ]
  },
  {
   "cell_type": "code",
   "execution_count": null,
   "metadata": {},
   "outputs": [],
   "source": [
    "metadata = pd.read_csv('/data/data_for_thevin/metadata/metadata_100k_claims.csv')\n",
    "metadata.head()"
   ]
  },
  {
   "cell_type": "code",
   "execution_count": null,
   "metadata": {},
   "outputs": [],
   "source": [
    "metadata.columns"
   ]
  },
  {
   "cell_type": "code",
   "execution_count": 147,
   "metadata": {},
   "outputs": [
    {
     "data": {
      "text/plain": [
       "99678"
      ]
     },
     "execution_count": 147,
     "metadata": {},
     "output_type": "execute_result"
    }
   ],
   "source": [
    "#There are less entries in the metadata than unique record id's in the data\n",
    "len(metadata)"
   ]
  },
  {
   "cell_type": "markdown",
   "metadata": {},
   "source": [
    "## Line Level csv Analysis"
   ]
  },
  {
   "cell_type": "code",
   "execution_count": null,
   "metadata": {
    "scrolled": true
   },
   "outputs": [],
   "source": [
    "line_level = pd.read_csv('/data/data_for_thevin/line_level/line_level_100k_claims.csv')\n",
    "line_level"
   ]
  },
  {
   "cell_type": "code",
   "execution_count": 16,
   "metadata": {},
   "outputs": [
    {
     "data": {
      "text/plain": [
       "3288374"
      ]
     },
     "execution_count": 16,
     "metadata": {},
     "output_type": "execute_result"
    }
   ],
   "source": [
    "len(line_level)"
   ]
  },
  {
   "cell_type": "code",
   "execution_count": 16,
   "metadata": {},
   "outputs": [
    {
     "data": {
      "text/plain": [
       "Index(['RecordID', 'DiscountAmount', 'IsLaborTaxable', 'IsPartTaxable',\n",
       "       'LaborHours', 'LaborOperation', 'LaborRate', 'LaborType',\n",
       "       'LineDescription', 'NetCost', 'PartNumber', 'PartPrice', 'PartQuantity',\n",
       "       'PartType', 'TotalLaborCharges', 'VIN14'],\n",
       "      dtype='object')"
      ]
     },
     "execution_count": 16,
     "metadata": {},
     "output_type": "execute_result"
    }
   ],
   "source": [
    "line_level.columns"
   ]
  },
  {
   "cell_type": "code",
   "execution_count": 151,
   "metadata": {},
   "outputs": [
    {
     "data": {
      "text/plain": [
       "99825"
      ]
     },
     "execution_count": 151,
     "metadata": {},
     "output_type": "execute_result"
    }
   ],
   "source": [
    "# There are less record ids in line_level.csv compared to data\n",
    "\n",
    "line_level_r_ids = np.unique(list(line_level.values[:, 0]))\n",
    "len(line_level_r_ids)"
   ]
  },
  {
   "cell_type": "code",
   "execution_count": 152,
   "metadata": {},
   "outputs": [
    {
     "data": {
      "text/plain": [
       "[('Remove/Replace', 1108089),\n",
       " ('Remove/Install', 738278),\n",
       " ('Refinish', 399803),\n",
       " ('Repair', 235290),\n",
       " ('Additional Operations', 148160),\n",
       " ('Additional Costs', 142040),\n",
       " ('Blank', 126673),\n",
       " ('Additional Labor', 120736),\n",
       " ('Blend', 73958),\n",
       " ('Sublet', 64165),\n",
       " ('Overhaul', 43427),\n",
       " ('Refinish/Repair', 30179),\n",
       " (nan, 22938),\n",
       " ('Check/Adjust', 21583),\n",
       " ('Alignment', 7295),\n",
       " ('Remove/Replace, Partial', 2397),\n",
       " ('Inspect', 1803),\n",
       " ('Repair, Partial', 1560)]"
      ]
     },
     "execution_count": 152,
     "metadata": {},
     "output_type": "execute_result"
    }
   ],
   "source": [
    "from collections import Counter\n",
    "\n",
    "count = Counter(list(line_level['LaborOperation']))\n",
    "count.most_common(25)"
   ]
  },
  {
   "cell_type": "code",
   "execution_count": 153,
   "metadata": {},
   "outputs": [
    {
     "data": {
      "text/plain": [
       "[('Rear Bumper Cover', 48791),\n",
       " ('Frt Bumper Cover', 48687),\n",
       " ('Clear Coat', 47188),\n",
       " ('Hazardous Waste Disposal', 39033),\n",
       " ('Paint/Materials', 35267),\n",
       " ('Flex Additive', 27699),\n",
       " ('Cover,Front Bumper', 22818),\n",
       " ('Cover,Rear Bumper', 20522),\n",
       " ('Fender,Front           LT', 17333),\n",
       " ('Fender,Front           RT', 17207),\n",
       " ('Panel,Hood', 16746),\n",
       " ('Frt Bumper Cover Assy', 15625),\n",
       " ('HAZARDOUS WASTE DISPOSAL', 14319),\n",
       " ('Paint', 14250),\n",
       " ('Rear Bumper Cover Assy', 14109),\n",
       " ('FLEX ADDITIVE', 14003),\n",
       " ('Hazardous Waste Removal', 13501),\n",
       " ('Headlamps', 13298),\n",
       " ('Hood Outside', 13123),\n",
       " ('L Fender Outside', 12979),\n",
       " ('R Fender Outside', 12922),\n",
       " ('R Rear Combination Lamp', 12553),\n",
       " ('L Rear Combination Lamp', 12313),\n",
       " ('TINT COLOR', 11808),\n",
       " ('Corrosion Protection', 11675)]"
      ]
     },
     "execution_count": 153,
     "metadata": {},
     "output_type": "execute_result"
    }
   ],
   "source": [
    "from collections import Counter\n",
    "\n",
    "count = Counter(list(line_level['LineDescription']))\n",
    "count.most_common(25)"
   ]
  },
  {
   "cell_type": "code",
   "execution_count": 154,
   "metadata": {},
   "outputs": [],
   "source": [
    "unq_line_descriptions = np.unique(list(dict(count).keys()))"
   ]
  },
  {
   "cell_type": "code",
   "execution_count": 155,
   "metadata": {
    "scrolled": true
   },
   "outputs": [
    {
     "data": {
      "text/plain": [
       "['                                     $12',\n",
       " '                                   D&G',\n",
       " '                         NO LKQ PARTS  L',\n",
       " '                  \\'\\' DRN EXPRESS REPAIR\"\"',\n",
       " '                  One Time Use Adhesive',\n",
       " '                 FINAL TO OWNER 7/18/08',\n",
       " '                 TALL ROOF PANEL',\n",
       " '                * DEALER ACC. ITEM ONLY',\n",
       " '                ****1.0 per panel  /$7.5',\n",
       " '                Inside mouldings that in',\n",
       " '               ( chrome bar )',\n",
       " '               *****New Unprimed Bumper*',\n",
       " '               grip handles and coat hoo',\n",
       " '              *****  NOTICE  *****',\n",
       " '              1-5-10',\n",
       " '              line @ w/sheld.',\n",
       " '             *** .3 x 4 ***',\n",
       " '             *** STEVE @ L.K.Q.,CORP. **',\n",
       " '             DRN EXPRESS REPAIR',\n",
       " '            BEHIND BUMPER COVER ONLY',\n",
       " '           *** LAWRENCE TIRE & SERVICE *',\n",
       " '           Supplement By Final Invoice',\n",
       " '          ***********POLISH***********',\n",
       " '         $15 PER JOB, .1 PER PANEL.',\n",
       " '         ***POSSIBLE HIDDEN DAMAGE ***',\n",
       " '         3  DAYS TO REPAIR',\n",
       " '         FOR FLEX AGENT',\n",
       " '         PULL TO SQUARE',\n",
       " '         { KEYSTONE PHONE NUMBERS }858-5',\n",
       " '        $10 PER JOB, .1 PER PANEL',\n",
       " '        $10 PER JOB, .1 PER PANEL.',\n",
       " '        *** No Quote # 62279 ***',\n",
       " '        *** Pull Lt Qtr 1.5***',\n",
       " '        *** Pull Rt Qtr 1.5***',\n",
       " '        ***Les Schwab No Charge***',\n",
       " '        FINAL TO OWNER DATE IS 6-16-10.',\n",
       " '        PENDING ALIGNMENT RESULTS )',\n",
       " '        PENDING ALIGNMENT RESULTS ** )',\n",
       " '       $15 PER JOB, SPECIAL COOLANT PER',\n",
       " '       ****** DRN EXPRESS *****',\n",
       " '       CAN NOT MATCH RT TO LT',\n",
       " '       CAR IS A 2012 VEHICLE',\n",
       " '       EPA# CAD 020023313',\n",
       " '       FIREMANS FUND PRESTIGE POLICY',\n",
       " '       Non-Reusable Part',\n",
       " '      (To Match Original OEM Tail Light)',\n",
       " '      *****RUNNING BOARD MOUNT LOCATIONS',\n",
       " '      ***Repair Lt Side NOT INC.***',\n",
       " '      25% Mark-Up Included',\n",
       " '      FINAL TO OWNER',\n",
       " \"      Note: Add'l time is to repair uppe\",\n",
       " '      Note: Customer pointed out Dmg, lw',\n",
       " '      Note: the bumpe warehouse',\n",
       " '      Note:Not avail, Mark @ Keystone',\n",
       " '      Note; Keystone, Caleb #4325',\n",
       " '      Note; Spot base/spot clear only',\n",
       " '      WE WILL DISCONNECT NEGATIVE CABLE',\n",
       " '      buckle {see photos} to justifie pu',\n",
       " '      tow and storage',\n",
       " '     ( it a three stage white color )',\n",
       " '     *** Had To Go To Dealer ***',\n",
       " '     *** See Additional Photos ***',\n",
       " '     ******LT ROCKER AND PILLARS*****',\n",
       " '     450+25%+90(CLEANUP&PREP)=NOT COST E',\n",
       " '     ANDRADES AUTOMOTIVE 510-786.3201',\n",
       " '     Color Match',\n",
       " '     Entering Adjacent Front Transverse',\n",
       " '     FLEX ADDITIVE',\n",
       " '     FLEX ADDITIVE - 2 BUMPERS',\n",
       " '     Includes Clean Up Old Adhesive as N',\n",
       " '     Note:  -0- am',\n",
       " '     Note: -0- am',\n",
       " '     Note: AM Not avail, Mark @ Keystone',\n",
       " '     Note: Customer is requesting a new',\n",
       " '     Note: No AM listed',\n",
       " '     Note: Panel stretched  damaged thro',\n",
       " '     Note: Rear seat, Sun visors, dome l',\n",
       " '     Note: Remove for access',\n",
       " '     Note: Remvoe for paint access',\n",
       " '     Note: w/Door Glass Removed',\n",
       " '     Note; Josh @ LKQ #2050',\n",
       " '     Note; Remove for access',\n",
       " '     Note; Spot paint weld burns inner &',\n",
       " '     RIGHT REAR SUSPENSION. ** )',\n",
       " '     Storage Compartment',\n",
       " '     TINT TO MATCH, NO BLEND',\n",
       " '     TIRE FOUND AT: FIRESTONE FT140 215/',\n",
       " '     WHEELHOUSE COMES WITH ASSY ONLY. )',\n",
       " '     WITHOUT DAMAGE )',\n",
       " '     w/Front Bumper Cover Assy Removed,',\n",
       " '    *** L Side Only 2 x .2 ***',\n",
       " '    *** Roof Edge W/Strip & W/Shield ***',\n",
       " '    *** Select Auto Quote 62764 ***',\n",
       " \"    *** TONY @ BAUER'S AUTOWRECKING***\",\n",
       " '    **********PARTIAL************',\n",
       " '    ******UPPER EDGE*******',\n",
       " '    ****INTERIOR FLUID CLEAN UP*****',\n",
       " '    **CIGARETTE BURN **NEW DID NOT INCLU',\n",
       " '    ...in Salinas, CA - DOES NOT SHIP TO',\n",
       " '    ALLOW 1.0 HOUR TO FEATHEREDGE',\n",
       " '    BETTERMENT/DEPRICIATION BASED',\n",
       " '    CURRENT TREAD DEPTH     /32',\n",
       " '    CURRENT TREAD DEPTH    11 /32',\n",
       " '    DELETE APPLIED -.4 HOUR OVERLAP OR',\n",
       " '    Master Bedroom Area',\n",
       " '    Moisture Intrusion',\n",
       " '    Noe; -0- am',\n",
       " '    Non-Reusable Part',\n",
       " '    Note: 1 800 radiator',\n",
       " '    Note: Cost effective to save vs repl',\n",
       " '    Note: Damage LT center',\n",
       " '    Note: Damaged @ upper outer center',\n",
       " '    Note: Dealer diagnostic charge',\n",
       " '    Note: Eagle Towing',\n",
       " '    Note: Loosen only',\n",
       " '    Note: Lower panel damaged inner & ou',\n",
       " '    Note: Mldg not included with glass',\n",
       " '    Note: Mounting tab broken',\n",
       " '    Note: No break',\n",
       " '    Note: Panel damaged @ Rear & Frt of',\n",
       " '    Note: Panel damaged @ frt edge',\n",
       " '    Note: Remove for access',\n",
       " '    Note: Removed for access',\n",
       " '    Note: Scratched @ Lower portion',\n",
       " '    Note: Spot base/spot clear, L inside',\n",
       " '    Note: Spot paint R Qtr wheelhouse',\n",
       " '    Note: The Bumper Warehouse',\n",
       " '    Note: Upper tab broken',\n",
       " '    Note:Rail collapsed onto itself',\n",
       " '    Note;  LKQ Corp, Caleb #4325',\n",
       " '    Note;  Remove LT for access',\n",
       " '    Note; 1 800 radiator',\n",
       " '    Note; Attempt to repair LT side',\n",
       " '    Note; Damage over wheel well',\n",
       " '    Note; Damaged over wheel well',\n",
       " '    Note; Lwr panel damaged inner & oute',\n",
       " '    Note; Part comes color coded',\n",
       " '    Note; Spot base/spot clear R cntr pi',\n",
       " '    ON AMOUNT OF TREAD WORN',\n",
       " '    RAIL BLEND )',\n",
       " '    RT CONNECTOR WIRE REPAIR',\n",
       " '    SECTION DOG LEG ONLY',\n",
       " '    Seal to Prevent Water Intrusion From',\n",
       " '    TIRE FOUND AT',\n",
       " '    TO PRE-EXISTING ISSUE IN',\n",
       " '    TREAD DEPTH NEW       /32',\n",
       " '    TREAD DEPTH NEW     11  /32',\n",
       " '    TREAD DEPTH NEW    11   /32',\n",
       " '    This Area Also To Prevent Water From',\n",
       " '    also qt 1564017',\n",
       " '    from sliding through ditch',\n",
       " '    he got a low tire pressure fault cod',\n",
       " '    left front tire',\n",
       " '    not included in sheet metal time',\n",
       " '    not needed',\n",
       " '    used from lkqcorp.com',\n",
       " '    would need to remove skin to repair',\n",
       " '   $3300.00 PLUS MARKUP',\n",
       " '   ( DROP RIGHT SIDE ONLY )',\n",
       " '   ( LEFT FRONT DOOR )',\n",
       " '   ( NEW SUBSTITUTED & LKQ PRICE )',\n",
       " '   ( REPAIR & SPOT REFINISH )',\n",
       " '   ( RIGHT FRONT )',\n",
       " '   ( RIGHT FRONT DOOR )',\n",
       " '   ( RIGHT REAR )',\n",
       " '   ( ROPE FOR ROOF RAIL BLEND )',\n",
       " '   ( more addistional time for repair )',\n",
       " \"   (9/32' depth, blackwall)\",\n",
       " '   *** A/M Ordered Did Not Fit ***',\n",
       " '   *** New Finish Must Cure 30-45 Days P',\n",
       " '   ********** FRT INNER OPEN *********',\n",
       " '   ****REFINISH LOWER ONLY****',\n",
       " '   ****RESET CODE & CLOCK****',\n",
       " '   ****TIME INCLUDES REMOVAL****',\n",
       " '   *R&I TWO SPARES*',\n",
       " '   2 NEEDED',\n",
       " '   30% OF PAINT TIME PER PPAGE GUIDELINE',\n",
       " '   6 NEEDED @ 1.34',\n",
       " '   7 NEEDED',\n",
       " '   AFTER FLOOR PULL',\n",
       " '   Bay Area Bumpers no core',\n",
       " '   FINAL TO OWNER 2-8-11',\n",
       " '   FLOOR PULL FOR THE RT QTR PANEL',\n",
       " '   FOR PRIMER & FOR TOPCOAT',\n",
       " '   FloorSet & Pull Rear Unibody back int',\n",
       " '   Groveport, OH 43125',\n",
       " '   HAVING TO REPLACE ENTIRE BUMPER COVER',\n",
       " '   INC MEASURING',\n",
       " '   Inspection After Teardown. **',\n",
       " '   Keeping Water Out Of Interior of Unit',\n",
       " '   LOOSEN ONLY',\n",
       " '   Mold / Mildew Traces and Soft-Wood Is',\n",
       " '   NOTE: NAGS GLASS',\n",
       " \"   Note: Add'l time is to R&I cover/pain\",\n",
       " '   Note: Damaged @ lwr frt portion',\n",
       " '   Note: Josh @ AAA Dodge, #877 638-3636',\n",
       " '   Note: Loosen & setback wiring',\n",
       " '   Note: Loosen only',\n",
       " '   Note: Lower tab is broken/missing',\n",
       " '   Note: Mar center panel of slider',\n",
       " '   Note: Non-painted texturing is damage',\n",
       " '   Note: Remove RT for access',\n",
       " '   Note: Remove for access',\n",
       " '   Note: Rub out mars on rim',\n",
       " '   Note: SRS oval only comes with assy',\n",
       " '   Note: Tabs are ripped',\n",
       " '   Note: The liner is ripped',\n",
       " '   Note: Used not cost effective with sh',\n",
       " '   Note: Zone paint door, blending both',\n",
       " '   Note:Includes R&I/R&R Rear Rocker Mou',\n",
       " '   Note:Remove for access',\n",
       " '   Note; A&M Auto Dist #200',\n",
       " '   Note; Keystone, Caleb #4325',\n",
       " '   Note; Spot RT frt corner, nicked',\n",
       " '   Note; Zone paint fender, blending in',\n",
       " '   POLISH TO MATCH OEM SURFACE',\n",
       " '   Provide Better Seal',\n",
       " \"   R&I'S & PAINT TIME NEEDED**\",\n",
       " '   REPAIR AT LOWER FRT ONLY',\n",
       " '   REPAIR SEAM SEALER',\n",
       " '   RIGHT FRONT DOOR',\n",
       " '   SECTION QTR PANEL',\n",
       " '   SET-BACK',\n",
       " '   SPOT REF ONLY!',\n",
       " '   Showing Delamination From Excessive',\n",
       " '   Showing Delamination From Moisture -',\n",
       " '   TO PAINT WITHIN PANEL',\n",
       " '   TRI-CIRCLE/CHROME',\n",
       " '   This is basically the mesh covering a',\n",
       " '   UPGRADED EST FOR 10-11-2016',\n",
       " '   as all other around it being painted',\n",
       " '   at rear bumper mounts and taillamp po',\n",
       " '   company procedures',\n",
       " '   cowl and plenum replacements frm lkq',\n",
       " '   extra time needed to avoid hood blend',\n",
       " '   headliner',\n",
       " '   high metallic blue/black',\n",
       " '   lkq found in system not cost effectiv',\n",
       " '   new part cost $158.92',\n",
       " '   original not available',\n",
       " '   plastic welding in place',\n",
       " '   sheet metal time',\n",
       " '   tech repaired and plastic welded',\n",
       " '   w/Bumper Cover Assy',\n",
       " '   wheel was balanced - no charge',\n",
       " '  #  4 LINER RETAINERS',\n",
       " '  %20.00',\n",
       " '  (  Labor includes to repair inner  -',\n",
       " '  (  Labor is after pulls  )',\n",
       " '  (  Labor is to blend lower quarter pan',\n",
       " '  (  Square for parts replacement  )',\n",
       " '  (  and underside of floor pan  )',\n",
       " '  ( 1-TIME USE PART )',\n",
       " '  ( ACCESS TO QUARTER PANEL REPAIR )',\n",
       " '  ( ACCESS TO TOWER & APRON REPAIRS )',\n",
       " '  ( ADHESIVE BACKING, CRACKED UPON REMOV',\n",
       " '  ( ADHESIVE ONE TIME USE PART )',\n",
       " '  ( ALIGNMENT CHECK, VEHICLE FAILED DUE',\n",
       " '  ( COVER EXPOSED INTERIOR FOR REPAIRS )',\n",
       " '  ( DAMAGE AT PILLAR JAMB )',\n",
       " '  ( DAMAGE FROM FRONT TO REAR )',\n",
       " '  ( DROP UPPER FOR ROOF RAIL BLEND )',\n",
       " '  ( INC. R ROCKER & BLEND R QUARTER PANE',\n",
       " '  ( INCL. TIME TO CLEAN & RETAPE )',\n",
       " '  ( INCLUDES TIME TO CLEAN & RETAPE )',\n",
       " '  ( L ROOF RAIL - UP & OVER )',\n",
       " '  ( LEADING EDGE & PAINT WITHIN PANEL )',\n",
       " '  ( LEFT REAR )',\n",
       " '  ( LOOSEN & DROP RIGHT SIDE )',\n",
       " '  ( MOLDING TO NARROW TO CLEAN & RETAPE',\n",
       " '  ( NEW COMES IN COLOR BY PAINT CODE )',\n",
       " '  ( NEW SUBSTITUED @ LKQ PRICE )',\n",
       " '  ( NEW SUBSTITUTED @ AFTERMARKET PRICE',\n",
       " '  ( NEW SUBSTITUTED @ LKQ PRICE )',\n",
       " '  ( NEW SUBSTITUTED @ RECON PRICE )',\n",
       " '  ( NEW SUBSTITUTED @ REMAN PRICE )',\n",
       " '  ( OEM SUBSTITUTED @ AFTERMARKET PRICE',\n",
       " '  ( OEM SUBTITUTED @ A/M PRICE )',\n",
       " '  ( PARTIAL R&I, DROP UPPER FOR ROOF',\n",
       " '  ( PARTIAL, LOOSEN & LAY BACK FOR ACCES',\n",
       " '  ( POLISH TRANSFER LEFT FRONT WHEEL )',\n",
       " '  ( R&I FOR REMOVING FRONT BUMPER )',\n",
       " '  ( R&I FOR REMOVING FRONT GRILL )',\n",
       " '  ( REAR @ HINGE & PAINT WITHIN PANEL )',\n",
       " '  ( RECON. NOT AVAILABLE )',\n",
       " '  ( REMOV L ROOF MOULDING ADHESIVE )',\n",
       " '  ( REPAIR & SPOT REFINISH )',\n",
       " '  ( REPAIR RT CORNER & PAINT WITHIN BUMP',\n",
       " '  ( RIGHT CORNER & PAINT WITHIN BUMPER )',\n",
       " '  ( RIGHT FRONT )',\n",
       " '  ( RIGHT LOWER CORNER & PAINT WITHIN CO',\n",
       " '  ( RIGHT REAR )',\n",
       " '  ( RIGHT ROCKER PANEL )',\n",
       " '  ( RIGHT ROOF RAIL )',\n",
       " '  ( ROPE TO REFINISH RT QUARTER PANEL )',\n",
       " '  ( RT CORNER & PAINT WITHIN BUMPER )',\n",
       " '  ( SCRATCHES IN FUEL DOOR )',\n",
       " '  ( SCRATCHES IN REAR OF DOOR )',\n",
       " '  ( SECTION L OUTER WHEELHOUSE.',\n",
       " '  ( SECTION SUPPORT LESS THE LOWER TIE B',\n",
       " '  ( SOME MAY REQUIRE REPLACEMENT )',\n",
       " '  ( SPOT IN LOWER SUPPORT REPAIR )',\n",
       " '  ( SPOT IN WELD AFFECTED ZONE )',\n",
       " '  ( SUSPEND ENGINE & TRANS TO REPLACE CR',\n",
       " '  ( SUSPEND FOR CROSSMEMBER REPLACEMENT',\n",
       " '  ( TO SET UP ON CLAMPS )',\n",
       " '  ( TO SET UP ON RACK )',\n",
       " '  ( for not damaging roof panel for repa',\n",
       " '  (DAMAGE LWR REAR)',\n",
       " '  (Original Scene)',\n",
       " '  (RT.FRT & RT/REAR)',\n",
       " '  (Transfer Fee to Shop)',\n",
       " '  ** 2016 Toyota Mirai Data Base is not',\n",
       " '  ** Adhesived, Checked price wit Albany',\n",
       " '  ** Aluminum Cracked',\n",
       " '  ** Black Textured, No Paint',\n",
       " '  ** Buckled - Main damage on top',\n",
       " '  ** Dealer Accessory, Scion Decal',\n",
       " '  ** Deduct for Partial',\n",
       " '  ** Gauged, need to fill',\n",
       " '  ** LKQ Quote #869385',\n",
       " '  ** Polish',\n",
       " '  ** THIS IS THE REAR HITCH **',\n",
       " '  ** Textured, Unpainted Lower Half',\n",
       " '  ** small damage to dog leg area',\n",
       " '  *** FINAL BILL TO OWNER 03/11/11***',\n",
       " '  *** Recon. N/A @ Keystone ***',\n",
       " '  ***Inc. Repair Rear Body Seam ***',\n",
       " '  ***Labor Inc. Clean And Retape***',\n",
       " '  ***Open Item Per Invoice ***',\n",
       " '  *LT WHEEL TO  ANALYZE FRT SUSP. PARTS*',\n",
       " '  *Speaker Began To Rattle After Veh. De',\n",
       " '  *VEHICLE IS NEW;MUST HAVE OEM COOLANT*',\n",
       " '  10 Clips @ $0.79 ea.',\n",
       " '  1st alignmnet',\n",
       " '  2nd alignment after cradle replaced -',\n",
       " '  38.2 x 34.00',\n",
       " '  5-SPOKE / SILVER / 16\"\"',\n",
       " '  5830 Green Pointe Dr S.',\n",
       " '  6  FENDER LINER RETAINERS',\n",
       " '  @ 1-800-351-0084.......Call to 0rder..',\n",
       " '  @ 800-234-0098.............Call To 0rd',\n",
       " '  @ 800-547-4851...0r 800-654-1894......',\n",
       " '  @ Fosters - 888-578-5548  0r 800-424-2',\n",
       " '  @ Fosters Auto - 800-547-4851.........',\n",
       " '  @800-457-4851.........0r 800-654-1894.',\n",
       " '  A SUPPLEMENT IF NEEDED',\n",
       " '  A/M GRILLE  ( GRILLE CLIPS ) NEEDED',\n",
       " '  A/M Part not Available................',\n",
       " '  AAA FIELD INSPECTION IN SAN MATEO CITY',\n",
       " '  ACCESSIBLE LOWER BODY AREAS TO',\n",
       " '  ADDITIONAL DAMAGE MAY BE FOUND',\n",
       " '  ALIGN LIFTGATE',\n",
       " '  ALIGNMENT',\n",
       " '  ATTEMPT BUFF OUT SKUFF MARKS',\n",
       " '  BACK GLASS',\n",
       " '  BENT',\n",
       " '  BENT     /       INVOICE SUPPLIED',\n",
       " '  BLK GARNISH IS DAMAGED',\n",
       " '  BODY COLOR - 6T3 / DK. GREEN MET.',\n",
       " '  Blend L rocker panel only',\n",
       " '  Buff',\n",
       " '  CAPA CERT FROM KEYSTONE 800-421-7866',\n",
       " '  CHECK ALIGNMENT',\n",
       " '  CHIPPED UP',\n",
       " '  CLEAR PANEL -- W/S PILLAR REPR',\n",
       " '  CLIP-B',\n",
       " '  CONTINENTAL 4X4 CONTACT  P215/70R16',\n",
       " '  CURRENT TREAD DEPTH:  3/32',\n",
       " '  CURRENT TREAD DEPTH:  5/32',\n",
       " '  CURRENT TREAD DEPTH:  7/32',\n",
       " '  CURRENT TREAD DEPTH:  8/32',\n",
       " '  CUSTOMER NOTES WHEEL SEEMS LOOSE AT LT',\n",
       " '  Ceiling Area - Full Length ( Recaulk T',\n",
       " '  DRY FLOOR, REPLACE NEW PADDING,',\n",
       " '  ECO Parts Dist., 707-584-8892 or Keyst',\n",
       " '  FENDER IS ALUMINUM',\n",
       " '  FLOOR PULL',\n",
       " '  FLOORING IN SLIDEOUT.  WILL HANDLE AS',\n",
       " '  FOR ACCESS TO OUTER DOOR HANDLE',\n",
       " '  FREIGHT CHARGES',\n",
       " '  FRONT DAMAGED HORN COMES W/RAIL ASSEMB',\n",
       " '  Fender liner Hex clips',\n",
       " '  Floor Area',\n",
       " '  FloorSet & Pull Inner Strkr...........',\n",
       " '  Floorset & Pull Rear Panel............',\n",
       " '  For Blending Match',\n",
       " '  Front Transverse Storage Compt',\n",
       " '  GAPS IN LT FENDER TO HOOD INDICATE',\n",
       " '  HANDLED AS A SUPPLEMENT IF PROVEN',\n",
       " '  Has Delaminated',\n",
       " '  Hinge & Center Pillars Adjacent To Roo',\n",
       " '  INCLUDED IN CONSECUTIVE CLAIM - 188100',\n",
       " '  INCLUDES MEASURE',\n",
       " '  INCLUDES RT UPPER APRON - 1.0/LT UPPER',\n",
       " '  INFORM LABEL VACUUM ROUTING',\n",
       " '  INSIDE BODY PANEL HAS MINOR DAMAGE',\n",
       " '  INTEGRAL BLK GARNISH DAMAGED',\n",
       " '  Keystone-Waco',\n",
       " '  L Front Position',\n",
       " '  L/Side Pipe and  pipe sleave',\n",
       " '  LEFT FENDER',\n",
       " '  LEFT QTR. PANEL',\n",
       " '  LKQ/GLEN # 6175218',\n",
       " '  LOOSEN COVER',\n",
       " '  LT RAIL',\n",
       " '  Loosen & lower',\n",
       " '  Loosen only for refinish',\n",
       " '  Lower Panels Adjacent To Slide Out Sho',\n",
       " '  MASK TO PRIME & REMASK TO REFINISH',\n",
       " '  Multiple Panels.......................',\n",
       " '  NEW FILTER.',\n",
       " '  NEW FLUID AND FILTER.',\n",
       " '  NO EXTERNAL DAMAGE VISIBLE',\n",
       " '  NOTE:  ANY SEAL DAMAGE WILL BE',\n",
       " '  No core available/must use o.e.m.',\n",
       " '  Note: the right rear mud guard is (cut',\n",
       " '  ONLY.',\n",
       " '  PER GLASS CO INVOICE',\n",
       " '  PERFORM IN-HOUSE',\n",
       " '  POSSIBLE RR -- OPEN TO  INSPECT--',\n",
       " '  POSSIBLE RR NEEDED',\n",
       " '  POSSIBLE TIE BAR AND CONTROL ARM DAMAG',\n",
       " '  PRIOR TO COMMENSING WORK',\n",
       " '  Panel @ Quarter Post - DS',\n",
       " '  Parts, 800-366-7528. **',\n",
       " '  R & I FOR APRON & RAIL REPLACEMENT',\n",
       " '  RAM 3500 HEAVY DUTY',\n",
       " '  REFINISH RT ROOF RAIL & BLEND INTO QTR',\n",
       " '  REINSTALL MAT.',\n",
       " '  RESIDUE AND CONTAMINATION.',\n",
       " '  ROPE ONLY',\n",
       " '  RT RAIL',\n",
       " '  SERVICE IDENTIFIED IGNITION SWITCH',\n",
       " '  SET BACK FOR ACCESS',\n",
       " '  SUSPENSION FOR DAMAGE.',\n",
       " '  Seals To Be Evaluated For Deficiencies',\n",
       " '  TECH TO CK & ADVISE',\n",
       " '  TEST DRIVE INDICATES SAME PROBLEM. INS',\n",
       " '  TO ALLOW MEASURING',\n",
       " '  TO BE DEFECTIVE',\n",
       " '  TREAD DEPTH NEW:  10/32',\n",
       " '  TRY AND REMOVE SALT WATER',\n",
       " '  Toyota will help pay any out of pocket',\n",
       " '  URATHANE KIT',\n",
       " '  WHEEL BEARINGS.',\n",
       " '  WHL OPENING MLDG GROMMET TYPE 2  4@5.7',\n",
       " '  WINDSHIELD',\n",
       " '  [NOT AVAILABLE LKQ]',\n",
       " '  a/m bad fit  large gaps',\n",
       " '  a/m does not inc. emb',\n",
       " '  addt 0.5 to re align hood',\n",
       " '  and Murphy Bed',\n",
       " '  battery w/ labor.',\n",
       " '  buff out light marks',\n",
       " '  bumper pulled down on ft mount area',\n",
       " '  clean and retape included',\n",
       " '  comes painted from Dodge/OEM',\n",
       " '  diagnostic of electrical system',\n",
       " '  frm LKQ-Casey-614-5755-8200, qt#156401',\n",
       " '  includes rt roof rail and panel around',\n",
       " '  lKQ QUOTE #133177',\n",
       " '  liftgate has upd on lower left corner',\n",
       " '  mask for refinish',\n",
       " '  no core available/o.e.m only',\n",
       " '  not replacing l fender can be repaired',\n",
       " '  panel below window',\n",
       " '  qtr panel has upd hail damage',\n",
       " '  refn below outer line',\n",
       " '  rt qtr along rt tailamp',\n",
       " '  saved spoiler by repairing tab &',\n",
       " '  side. Re-attached bumper so they could',\n",
       " '  that the customer might have on the cl',\n",
       " '  time for after pull',\n",
       " '  w/Front Cover Removed,  for headlamp r',\n",
       " '  w/Grille Assy Removed',\n",
       " '  w/Lower Trim Assy Removed',\n",
       " '  wheelhouse',\n",
       " '  {A/M OR RECON NOT AVAILABLE}',\n",
       " '  {COOLING SYSTEM TAKES MORE THAN 1 GAL.',\n",
       " '  {MAY HAVE ADNTL. PAINTING IF SCRATCHES',\n",
       " '  {POSSIBLE ADNTL DAMAGE,NEEDS TEAR DOWN',\n",
       " '  {a/m capa from keystone fits terrible,',\n",
       " '  {a/m or recore not available @ this ti',\n",
       " '  {a/m or recore not available}',\n",
       " '  {glass frame mldgs are blk textured,no',\n",
       " '  {glass scratches all over trim panel}',\n",
       " '  {glass takes more than 1 kit}',\n",
       " '  {lkq not available @ this time}',\n",
       " '  {lkq not available insurance quality}',\n",
       " '  {lkq not available,qt#201760460}',\n",
       " '  {lkq not available}',\n",
       " '  {lkq not cost effective}',\n",
       " '  {no core,qt#j0686012}',\n",
       " '  {polish paint transfer,may have to rep',\n",
       " '  {seat frame legs will not lock after a',\n",
       " '  {spot paint inside & out only}',\n",
       " '  {spot paint inside & out}',\n",
       " '  {takes more than 1 gal}',\n",
       " '  {to gain repair access}',\n",
       " ' $15.75oz Pag oil $1.18 oz',\n",
       " ' $65 PLUS 25%',\n",
       " ' %25.00',\n",
       " ' %5.00',\n",
       " ' & door is twisted out @ top',\n",
       " ' & prime panel',\n",
       " \" ''''''POSSIBLE ADNTL DAMAGE,NEEDS TEAR\",\n",
       " ' ( 1 MLDGS/ # EMBLEMS)',\n",
       " ' ( RIGHT CORNER & PAINT WITHIN BUMPER )',\n",
       " ' (2) PIRELLI SCORPION ZERO 305/40ZR22',\n",
       " ' (360) 260-8400 keystone',\n",
       " ' * Horn Bracket',\n",
       " ' * INSERT TIRE BRAND & SIZE/COMPANY & PH',\n",
       " ' * INSERT TIRE SIZE',\n",
       " ' * Prices per invoice - Not listed in Ul',\n",
       " ' * edge/wheel mldgs were spec order',\n",
       " ' *** $13.99 + 25% ***',\n",
       " ' *** 4 qts @ $6.49 + 25% ***',\n",
       " ' *** Adhesive Back One Time Use ***',\n",
       " ' *** Damage Open ***',\n",
       " ' *** Drop Top For Refinishing Pillar ***',\n",
       " ' *** Drop Top Portion To Blend Roof Rail',\n",
       " ' *** Inc. Damage @ Rear Rocker ***',\n",
       " ' *** Non Reusable Part ***',\n",
       " ' *** Not Available Reman ***',\n",
       " ' *** PADS ARE INCL. WITH REAR BUMPER FAC',\n",
       " ' *** Price Per Invoice No Mark Up ***',\n",
       " ' *** Recon & CAPA A/M Not Available ***',\n",
       " ' *** Recon. N/A @ Keystone ***',\n",
       " ' *** Shroud , Motor And Blade Needed ***',\n",
       " ' *** Unable To Locate Used Lamp ***',\n",
       " ' ********** REAR INNER OPEN **********',\n",
       " ' ***Check Rear Suspension Alignment ***',\n",
       " ' **IN LIEU OF REPAIR & SPOT PAINT REPAIR',\n",
       " ' **NO BREAK POINT. EXTEND CC.**',\n",
       " ' *GLASS GOT STUCK, BUT FIXED NOW',\n",
       " ' *Lo Note Horn',\n",
       " ' *Lt rear wheel* IN HOUSE NO CHARGE',\n",
       " ' *new bumper cover at reduced cost*',\n",
       " ' - 1 Time Use Clip',\n",
       " ' - 25% Markup Incl.',\n",
       " ' - Blend due to no break point to quarte',\n",
       " ' - Blend within panel, Full clear',\n",
       " ' - Blend within panel, Full clear - Cent',\n",
       " ' - Blend within panel, Full clear - L Qu',\n",
       " ' - Blend within panel, Full clear - R Fe',\n",
       " ' - Blend within panel, Full clear.',\n",
       " ' - Bumper warped across top',\n",
       " ' - Bumper warped in center',\n",
       " ' - CAPA per Keystone -',\n",
       " ' - Center damage between hinges',\n",
       " ' - Center damage. Pushed in',\n",
       " ' - Center damage/ Bumper stretch',\n",
       " ' - Center/ front crease',\n",
       " ' - Clean & retape .2',\n",
       " ' - Clean & retape .3',\n",
       " ' - Clean adhesive .3 (remove old)',\n",
       " ' - Comes with quality used door',\n",
       " ' - Cover is warped (comes painted)',\n",
       " ' - Front bumper',\n",
       " ' - Front damage',\n",
       " ' - Front dent',\n",
       " ' - Front dent on bodyline',\n",
       " ' - Front roof - Hardtop',\n",
       " ' - Front/ center damage',\n",
       " ' - INC 1.0 hr to Align -',\n",
       " ' - INC Markup -',\n",
       " ' - INC Primer & Refinish -',\n",
       " ' - INC Reset Electronic Components (Radi',\n",
       " ' - L Fender',\n",
       " ' - L Quarter',\n",
       " ' - LKQ-Niel $475 #2788289/ CAD-Gus N/A #',\n",
       " ' - LKQ-Niel $550 #2788289/ CAD-Gus N/A #',\n",
       " ' - LKQ-Niel N/A #2788289/ CAD-Gus N/A #1',\n",
       " ' - Left Inner wheelhouse',\n",
       " ' - Left front',\n",
       " ' - Left quarter',\n",
       " ' - Left rear wheel',\n",
       " ' - Left scrapes',\n",
       " ' - Left side damage',\n",
       " ' - Less spot paint, Full clear',\n",
       " ' - Less spot paint, Full clear - Rear bu',\n",
       " ' - Loosen for clear access',\n",
       " ' - No break point to quarter',\n",
       " ' - No recondition available.',\n",
       " ' - No recondition bumper available.',\n",
       " ' - OEM Texture',\n",
       " ' - One time use',\n",
       " ' - Plate -',\n",
       " ' - Price change per invoice.',\n",
       " ' - R&I for access to R&R headlamp',\n",
       " ' - R&I for access to refinish door',\n",
       " ' - R&I off used door for access to refin',\n",
       " ' - R&I off used door for acess to refini',\n",
       " ' - Rear bumper',\n",
       " ' - Rear damage (buckle)',\n",
       " ' - Remove for repair/refinish access',\n",
       " ' - Repair for realignment/ Door was prye',\n",
       " ' - Scrapes',\n",
       " ' - Scratches on L side',\n",
       " ' - Set Back for Access -',\n",
       " ' - Torn due to undershield',\n",
       " ' - Torn on front edge',\n",
       " ' - Under wheelhouse',\n",
       " ' - Weld Burn -',\n",
       " ' - Weld Burns -',\n",
       " ' - rear body panel - INC tie down -',\n",
       " ' ---- Textured',\n",
       " ' -.5 REFINISH TIME',\n",
       " ' .1 PER PANEL..',\n",
       " ' 0.2 per refinish hour 20%',\n",
       " ' 1 gal coolent',\n",
       " ' 1 oversized @ $50 on hood',\n",
       " ' 1-800 RADIATOR 800-406-4738',\n",
       " ' 15% DEP.',\n",
       " ' 17.6-19.4 Ozs (1.1-1.2 Lbs) 500-550 g',\n",
       " ' 18 IN CHROME',\n",
       " ' 2 REMAN COVERS BOTH DID NOT FIT',\n",
       " ' 2 TIRES LT REAR',\n",
       " ' 2 Tires @130.00 each',\n",
       " ' 2 gaskets @ 2.65/ea',\n",
       " ' 20 # 3 FENDER LINER RETAINERS',\n",
       " ' 215/60R16 Tire W/State Disposal Fee',\n",
       " ' 225/40/R18, NEW TIRE HAS 11/32 TREAD DE',\n",
       " ' 3 Stage not on original estimate. Paint',\n",
       " ' 3 on outer panel, 1 on shell',\n",
       " ' 32.0 Ozs (2.0 Lbs), 907 g',\n",
       " ' 3@0.56 HEADLINER CLIPS PART # 85746-060',\n",
       " ' 4 @1.18',\n",
       " ' 4 CLIPS AT 0.53',\n",
       " ' 4 WHEEL ALINGMENT 70.00 X 20%',\n",
       " ' 4 Wheel Alignment',\n",
       " ' 4 panels @ .5 ea.',\n",
       " ' 4 panels x .5 ea.',\n",
       " ' 4 wheel alignment',\n",
       " ' 5 CLIPS @2.16',\n",
       " ' 5 NEEDED @ 3.00',\n",
       " ' 5 PRESS NUTS @ 2.69',\n",
       " ' 6/32 WEAR LEFT ON TIRE BETTERMENT',\n",
       " ' 6/32 remaining. 11/32 Replacement. 55%',\n",
       " ' 6@ 1.34',\n",
       " ' 8 QTS TRANSMISSION FLUID',\n",
       " ' 808-682-6109      Shipping Included',\n",
       " ' >CAPITOL H/T LT 275/70R18 125/122R',\n",
       " ' @ KEYSTONE PARTS,800) 525-3667',\n",
       " ' @ LKQ A/P / 800-362-9451',\n",
       " ' @ T.A,P./REAR DOOR ALSO**',\n",
       " ' @ car-part.com LKQ of Burleson 972-225-',\n",
       " ' A/C Clutch not related',\n",
       " ' A/C FAN',\n",
       " ' A/C R-134a Refrigerant Capacity  14.8-1',\n",
       " ' A/C R-134a Refrigerant Capacity 1.66 LB',\n",
       " ' A/C R-134a Refrigerant Capacity 19.4 OZ',\n",
       " ' A/M CAPA RT  FENDER',\n",
       " ' ABS MODULE WIRING HARNESS',\n",
       " ' ACTUALLY SENSOR INSTALLATION STRAPS',\n",
       " ' ADDITIONAL PARTS AND LABOR MAY BE',\n",
       " \" ADDT'L GEAR OIL\",\n",
       " ' ADHESIVE BONDING KIT',\n",
       " ' ADHESIVE REPLACE',\n",
       " ' AFT FLUID',\n",
       " ' AFTERMARKET ONLY NON CAPA AVAIL',\n",
       " ' ALIGN  REAR  DOOR  INCL.',\n",
       " ' ALL PULLS ATTEMPT TO REPAIR FRAME PRIOR',\n",
       " ' AMOUNT OF TREAD WORN',\n",
       " ' AND CARPET',\n",
       " ' AS PER ACTION AUTO, NO LKQ #271573',\n",
       " ' ASPIRATOR INTERIOR GRILL',\n",
       " ' ATTEMPT TO BUFF SCRATCHES ON LT SIDE',\n",
       " ' AUTHORIZATION TO PAY SECURED',\n",
       " ' AUTO GLASS',\n",
       " ' AVAIL REMAN ARE W/BACKUP SENSORS',\n",
       " ' AXLES',\n",
       " ' Adhesive/Urethane Kit',\n",
       " ' Allign Frt Sheet Metal',\n",
       " ' At Weld On Drain Trough Panels',\n",
       " ' Auto Fidelity invoice 33709',\n",
       " ' BACK GLASS',\n",
       " ' BACK MASK WINDSHIELD',\n",
       " ' BACK TAPE STEP PAD',\n",
       " ' BACK WINDOW',\n",
       " ' BAGGING/COVER',\n",
       " ' BALANCE INCLUDES STEM & WEIGHTS',\n",
       " ' BALANCE WHEEL',\n",
       " ' BATHROOM SKYLIGHT',\n",
       " ' BED BOTLS 10.55X6',\n",
       " ' BETTERMENT/DEPRECIATION BASED ON',\n",
       " ' BLEND LT RAIL',\n",
       " ' BMP CLIPS @1.03',\n",
       " ' BOTH FRONT TIRES ARE NEAR NEW.',\n",
       " ' BREMBO SET',\n",
       " ' BUFF LIGHT SURFACE SCRATCHES (BY HEADLI',\n",
       " ' BUFF RT FRT WHEEL',\n",
       " ' BUFF SCRATCHES ON CAB ROOF PANEL AND CA',\n",
       " ' BUFF SCUFF MARK ON FRONT PART OF REAR D',\n",
       " ' BUFFED RT LOWER EDGE',\n",
       " ' BUMPER CLIPS',\n",
       " ' BUMPER CLIPS  5@2.15',\n",
       " ' BUMPER FLEX MATERIAL',\n",
       " ' BUMPER WILL NOT FIT CORRECT DUE',\n",
       " ' Back Glass Rope Back Glass',\n",
       " ' Backtape Spray-in Liner on R Bedside Pa',\n",
       " ' Base coat reduction',\n",
       " ' Blind Rivet N3 16@0.29',\n",
       " ' Block, Fill Sand, & Feather',\n",
       " ' Body Nut (10)',\n",
       " ' Body side mldg',\n",
       " ' Bodywork Adhesive K5B 195ml',\n",
       " ' Bulkhead',\n",
       " ' Bumper / Fender / Mirror...............',\n",
       " ' Bumper Gromets',\n",
       " ' Bumper Guide Rivets',\n",
       " ' Bumper Warehouse  916-371-5555',\n",
       " ' Bumper Warehouse or Keystone Automotive',\n",
       " ' CA TAX ON TIRES FEE',\n",
       " ' CAPITOL AUTO GRAPHICS',\n",
       " ' CAR BRA',\n",
       " ' CAR COVER',\n",
       " ' CAR COVER FOR PRIMER',\n",
       " ' CAULK AND SEAL AT REAR BED FLOOR',\n",
       " ' CC ONLY',\n",
       " ' CHECK FRAME RAILS FOR DAMAGE',\n",
       " ' CHECKED REAR END FOR POSS SAG',\n",
       " ' CHIP IN PAINT BY FENDER',\n",
       " ' CHIPPED AT TRUNK AREA',\n",
       " ' CLEAN  &  RETAPE RAIN GAURDS',\n",
       " ' CLEAN & RETAPE',\n",
       " ' CLEAR CODES',\n",
       " ' CLEAR OUTER ROOF RAIL',\n",
       " ' CLEAR OVER DOORS',\n",
       " ' CLEAR PANEL',\n",
       " ' CLEAR RT OUTER ROOF RAIL',\n",
       " ' CLEAR UP AND OVER',\n",
       " ' CLIPS',\n",
       " ' COLOR MATCH',\n",
       " ' COLOR MATCH FOR BLENDING',\n",
       " ' COLOR MATCH FOR PANEL PAINTING ON RT DR',\n",
       " ' COMB COOLING FINS',\n",
       " ' COMPLETE SIDE)',\n",
       " ' COOL GREY TEXTURED LOWER(ONE PIECE)',\n",
       " ' COOLANT',\n",
       " ' COOLANT (OEM)',\n",
       " ' COST FOR FLEX ADD IS FRT. AND REAR BUMP',\n",
       " ' COVER CAR FOR PRIMMER',\n",
       " ' COVER DOOR & REAR GATE OPENING FOR REFI',\n",
       " ' COVER FRONT INNER STRUCTURE FOR OVERSPR',\n",
       " ' CROSSED DRILLED A/M ROTOR SET PER INVOI',\n",
       " ' CRUISER TT CHROME/ALLOY  18\"\"',\n",
       " ' CURRENT TREAD DEPTH: 4/32',\n",
       " ' CURRENT TREAD DEPTH: 6/32',\n",
       " ' CURRENT TREAD DEPTH: 9/32',\n",
       " ' CYLINDER RING',\n",
       " ' Car rental 8 days @ 30.00 per day',\n",
       " ' Ceiling in living area',\n",
       " ' Clean & Retape Lower Door Moulding',\n",
       " ' Clean and retape mldgs',\n",
       " ' Cleaner R1 125ml',\n",
       " ' Cleanup and buff tailpipe tip',\n",
       " ' Color For match',\n",
       " ' Complete Assembly w/pads,brackets,reinf',\n",
       " ' Cover Trunk Compartment for overspray',\n",
       " ' DAMAGE TO RT SIDE MEETS FENDER',\n",
       " ' DECALS ON DOORS, FENDERS',\n",
       " ' DEDUCT FOR SPOT PAINT WITH FULL CLEAR',\n",
       " ' DEDUCT TO SECTION RT RAIL',\n",
       " ' DENIB & FINESS REFINISHED PANELS',\n",
       " ' DENIB & FINESSE',\n",
       " ' DENIB & FINESSE PAINTED PANELS',\n",
       " ' DENIB AND POLISH',\n",
       " ' DENTS NEXT TO DOOR EDGE AND SCRATCHES',\n",
       " ' DEVER SPRING SANTA ANA-714) 542-3703',\n",
       " ' DIAGNOSE SRS, REPL MODULE, REPROGRAM',\n",
       " ' DING  RT  REAR  PANEL',\n",
       " ' DX 4 WHEEL ALIGNMENT',\n",
       " ' DealershipRepair/Traction control warni',\n",
       " ' Disassemble to estimate Fee',\n",
       " ' E COAT',\n",
       " ' ENGINE OIL',\n",
       " ' EVR TIRE FEE',\n",
       " ' EXPOSED MAY HAVE TO REPLACE THE PLYWOOD',\n",
       " ' EXTENDED LIFE ANTIFREEZE',\n",
       " ' Engine Cover Nuts  (4)',\n",
       " ' Engine Under Cover Hex Head Nuts  (15)',\n",
       " ' Exhaust Gasket',\n",
       " ' Expanding Nuts (8)',\n",
       " ' FACTORY BLACK IN COLOR',\n",
       " ' FACTORY COOLANT REQUIRED',\n",
       " ' FAINT SCRATCHES ON',\n",
       " ' FAN ASSY & RADIATOR OPEN',\n",
       " ' FASTENER 10@2.25',\n",
       " ' FENDER ADHESIVE NAMEPLATE',\n",
       " ' FLEX ADDITIVE',\n",
       " ' FLEXIBLE PARTS ADHESION  PROCESS',\n",
       " ' FLOOR SOUND PADS',\n",
       " ' FOAM  TAPES',\n",
       " ' FOR BLENDABLE MATCH',\n",
       " ' FOR BLENDING MATCH',\n",
       " ' FOR PRIMER AND INNERSTRUCTURE SECONDARY',\n",
       " \" FOR SCRATCHES IN LEFT H/LAMP OK'D BY VM\",\n",
       " ' FOUR WHE ALIGNMENT / TRANSMISSION FLUID',\n",
       " ' FRAME RACK SET-UP',\n",
       " ' FREON',\n",
       " ' FRONT BUMPER',\n",
       " ' FRONT OUTER- SPOT REFIN',\n",
       " ' FRT BODY HARNESS',\n",
       " ' FRT LAMDA SENSORS',\n",
       " ' FRT UPR BUMPER RETAINER POP RIVETS (11)',\n",
       " ' FRT. LICENSE PLATE FRAME',\n",
       " ' Fan Assembly',\n",
       " ' Feather, Prime & Block repair area',\n",
       " ' Final Supplement Per Actual Invoices Pr',\n",
       " ' Finish/Sand/Buff to Duplicate Factory F',\n",
       " ' Finish/Sand/Polish to match factory fin',\n",
       " ' Flange Nut',\n",
       " ' For Access',\n",
       " ' For Blending Match',\n",
       " ' For Trunk Alignment Only',\n",
       " ' For access to rear cab',\n",
       " ' Four wheel alignment',\n",
       " ' Frame Assembly',\n",
       " ' Frame set up and measure',\n",
       " ' Freight Fee (Invoice in file)',\n",
       " ' Front Door  Caulk',\n",
       " ' Front Fender-Part # 59054-96',\n",
       " ' GASKET',\n",
       " ' GEAR OIL',\n",
       " ' GLASS PLUS WILL DIRECT BILL',\n",
       " ' GOLD SPECIAL EDITITON PLATE',\n",
       " ' GOOD YEAR RT REAR TIRE',\n",
       " ' GRILLE AND BUMPER MLDG.',\n",
       " ' GRIND OFF SPRAY-ON LINER MATERIAL FROM',\n",
       " ' GROMMET FOR ATTACHMENT STRIP',\n",
       " ' GROMMET, REAR BODY PANEL',\n",
       " ' Gear Oil',\n",
       " ' Glass clean-up',\n",
       " ' HAVING TO REPLACE SINCE INTEGRAL',\n",
       " ' HEAT SHIELD RIVIT',\n",
       " ' HIDDEN DAMAGE-DOOR DOES NOT',\n",
       " ' HINGE PILLAR BLEND',\n",
       " ' HOUSING GASKET',\n",
       " ' HP Gear Oil 80-90',\n",
       " ' Handbook Item',\n",
       " ' Head  Cylind Assy And Transferring of a',\n",
       " ' Hex Nut',\n",
       " ' Higgins Auto Parts, 661-397-5946, Mary',\n",
       " ' Hitch and Frame Pulling',\n",
       " ' Hood has upd on front edge of panel',\n",
       " ' IN THE WHITE',\n",
       " ' INC FRT & RT SIDE FLOOR SEC',\n",
       " ' INCLUDED IN T/L REMOVAL',\n",
       " ' INCLUDES ADHESIVE REMOVAL & CLEAN/RETAP',\n",
       " ' INCLUDES ALL NECESSARY PULLS',\n",
       " ' INCLUDES CLEAN & RETAPE',\n",
       " ' INCLUDES LABOR & KIT',\n",
       " ' INCLUDES REAR BODY UPPER TABS/RETAINERS',\n",
       " ' INCLUDES TIME TO RETAPE',\n",
       " ' INDEPENDENT AUTO (209) 668-1400  inv #',\n",
       " ' INFORM LABEL A/T',\n",
       " ' INFORM LABEL ALL WHEEL DRIVE',\n",
       " ' INFORM LABEL CATALYST INFO',\n",
       " ' INFORM LABEL ENGINE OIL',\n",
       " ' INFORM LABEL VEHICLE IDENTIFICATION',\n",
       " ' INSPECTION STICKER, MA',\n",
       " ' INSTALL PINSTRIPS',\n",
       " ' INTERIOR DETAIL',\n",
       " ' Included in Overhaul',\n",
       " ' Included in R&I/R&R Fender',\n",
       " ' Included in R&I/R&R Windshield',\n",
       " ' Included in R&R Fuel Tank',\n",
       " ' Included in R&R Lid Finisher',\n",
       " ' Included in R&R Rear Wheel Opening Moul',\n",
       " ' Included in R&R Seat Back Cover',\n",
       " ' Included in R&R or O/H Bumper Cover Ass',\n",
       " ' Included in R&R or O/H Front Cover',\n",
       " ' Included in R&R or O/H Rear Cover',\n",
       " ' Included w/Pickup Bed Assy',\n",
       " ' Includes Disconnecting Hitch from Bumpe',\n",
       " ' Includes Loosen Fender Liner for Access',\n",
       " ' Includes R&I Bumper Cover',\n",
       " ' Includes R&I Combination Lamps, R&I/R&R',\n",
       " ' Includes R&I Door Module Assy',\n",
       " ' Includes R&I Door Trim Panel',\n",
       " ' Includes R&I Front Cover',\n",
       " ' Includes R&I Front Cover & R&I/R&R Comb',\n",
       " ' Includes R&I Front Cover,',\n",
       " ' Includes R&I Front Cover, Combination L',\n",
       " ' Includes R&I Front Cover, R&I/R&R Combi',\n",
       " ' Includes R&I Front Cover, R&I/R&R Fende',\n",
       " ' Includes R&I Front Cover, Right Side In',\n",
       " ' Includes R&I Grille',\n",
       " ' Includes R&I Grille & R&I/R&R Closing P',\n",
       " ' Includes R&I Grille Assy',\n",
       " ' Includes R&I Mirror & Trim Panel',\n",
       " ' Includes R&I Mirror Assy',\n",
       " ' Includes R&I Rear Suspension Crossbeam',\n",
       " ' Includes R&I Rear View Mirror Assy',\n",
       " ' Includes R&I Seat Cushion Assy',\n",
       " ' Includes R&I Spare & R&R Spare Tire Cov',\n",
       " ' Includes R&I Trim Panel',\n",
       " ' Includes R&I Trim Panel & R&R Inner Sas',\n",
       " ' Includes R&I Trim Panel & Rear View Mir',\n",
       " ' Includes R&I Trim Panel Assy',\n",
       " ' Includes R&I Upper Center Trim Assy',\n",
       " ' Includes R&I Upper Grille',\n",
       " ' Includes R&I/R&R Combination Lamp Assem',\n",
       " ' Includes R&I/R&R Combination Lamps',\n",
       " ' Includes R&I/R&R Combination Lamps, w/S',\n",
       " ' Includes R&I/R&R Cowl Top Grille & Clea',\n",
       " ' Includes R&I/R&R Fender Liner Assemblie',\n",
       " ' Includes R&I/R&R Fender Liners',\n",
       " ' Includes R&I/R&R Fender Liners & Grille',\n",
       " ' Includes R&I/R&R Fog Lamps',\n",
       " ' Includes R&I/R&R Front Mudguard',\n",
       " ' Includes R&I/R&R Front Trim Panel Assy,',\n",
       " ' Includes R&I/R&R Grille',\n",
       " ' Includes R&I/R&R Grille & Fog Lamps',\n",
       " ' Includes R&I/R&R Grille & Headlamp Asse',\n",
       " ' Includes R&I/R&R Mirror Assy & R&I Trim',\n",
       " ' Includes R&I/R&R Mudguard',\n",
       " ' Includes R&I/R&R Outer Combination Lamp',\n",
       " ' Includes R&I/R&R Rear Combination Lamps',\n",
       " ' Includes R&I/R&R Rear Trim Panel',\n",
       " ' Includes R&I/R&R Rear View Mirror Assy',\n",
       " ' Includes R&I/R&R Side Garnish Mouldings',\n",
       " ' Includes R&I/R&R Side Marker Lamps',\n",
       " ' Includes R&I/R&R Wheel Opening Moulding',\n",
       " ' Includes R&R Air Cleaner Duct, Cover Pa',\n",
       " ' Includes R&R Air Duct',\n",
       " ' Includes R&R Air Intake Duct Seal',\n",
       " ' Includes R&R Center Trim Panel Assy',\n",
       " ' Includes R&R Chrome Outer Belt Moulding',\n",
       " ' Includes R&R Door Glass',\n",
       " ' Includes R&R Door Glass & Vent Glass',\n",
       " ' Includes R&R Grille',\n",
       " ' Includes R&R Pillar Trim',\n",
       " ' Includes R&R Rear Trim Panel',\n",
       " ' Includes R&R Seat Belt & Door Glass',\n",
       " ' Includes R&R Stabilizer Bar, Not Includ',\n",
       " ' Includes R&R Upper & Lower Corner Trim',\n",
       " ' Includes R&R Upper Cover',\n",
       " ' Includes R&R Upper Cover Assy',\n",
       " ' Includes R&R Upper Shield',\n",
       " ' Includes R&R Wiper Components',\n",
       " ' Inform Label',\n",
       " ' Installation Kit',\n",
       " ' Interior Detail',\n",
       " ' Interior to Protect',\n",
       " ' Invoice # 938552,  DT5309873',\n",
       " ' JAM ROOF INSIDE',\n",
       " ' JOB LABOR',\n",
       " ' K & P AUTO DISMANTLERS  800-909-6898',\n",
       " ' KEYSTONE  800-263-9727',\n",
       " ' KEYSTONE  800-794-6911',\n",
       " ' KEYSTONE  800-794-6911  QT #J0422534',\n",
       " ' KEYSTONE 877-391-2727',\n",
       " ' KEYSTONE 888-686-8700',\n",
       " ' KEYSTONE AUTOMOTIVE  800-794-6911',\n",
       " ' KEYSTONE AUTOMOTIVE  800-794-6911  QT J',\n",
       " ' KEYSTONE AUTOMOTIVE 800-794-6911',\n",
       " ' KEYSTONE QUOTE # K0247003',\n",
       " ' Kit Services 1 Wheel',\n",
       " ' L APRON PANEL',\n",
       " ' L BED RAIL MOULDING',\n",
       " ' L COOLING FAN PLUG',\n",
       " ' L Fender Repair',\n",
       " ' L Frt Window Trim',\n",
       " ' L Lower Control Arm Adjust Nut',\n",
       " ' L OUTER GRILL BACKING PLATE',\n",
       " ' L QUARTER GLASS',\n",
       " ' L REAR OTR parking sensor unit',\n",
       " ' L REAR UPPER DOOR MLDG',\n",
       " ' L ROCKER &  PINCH WELDS  L/S',\n",
       " ' L Rear Floor',\n",
       " ' L Rear Tire   (Yokohama Geolander  225/',\n",
       " ' L& R FRAME RAIL TO SQUARE RAIL',\n",
       " ' LABOR  FOR REPAIRS 24.0 X 119.88 PER HO',\n",
       " ' LASER CRUISE CONTROL SENSOR INSTALLATIO',\n",
       " ' LAY OFF APRON FOR REPAIR',\n",
       " ' LEFT CORNER',\n",
       " ' LEFT FENDER - PDR',\n",
       " ' LEFT SIDE',\n",
       " ' LKQ 800-424-2002 #5111841 NOT COST EFFE',\n",
       " ' LKQ A/P',\n",
       " ' LKQ CORP 888-686-8700',\n",
       " ' LKQ CORP 888-686-8700  qt# 4706813  Jef',\n",
       " ' LKQ HOOD 500X25%=625 #353937',\n",
       " ' LKQ NOT COST EFFECTIVE',\n",
       " ' LKQ PARTS NOT COST EFFECTIVE  QT # 1698',\n",
       " ' LKQ SEARCH FROM CAR-PART.COM',\n",
       " ' LKQ assembly lkq not good',\n",
       " ' LOOKED ON CARPARTS.COM NOTHING AVAILABL',\n",
       " ' LOOSEN FRT BOTH SIDES',\n",
       " ' LOOSEN TOP HALF FOR REFINISH',\n",
       " ' LOOSEN, INCL R & I PILLAR TRIM FOR ACCE',\n",
       " ' LOOSEN/PULL BACK WIRING ON RT FRT INNER',\n",
       " ' LOSSEN RT END ONLY',\n",
       " ' LOWER COOLING PIPE',\n",
       " ' LOWER COVER 5 DAYS    OUT OF STOCK',\n",
       " ' LOWER LT SIDE',\n",
       " ' LOWER REBAR SPT AREAS-',\n",
       " ...]"
      ]
     },
     "execution_count": 155,
     "metadata": {},
     "output_type": "execute_result"
    }
   ],
   "source": [
    "unq_line_descriptions.tolist()"
   ]
  },
  {
   "cell_type": "code",
   "execution_count": 156,
   "metadata": {},
   "outputs": [
    {
     "data": {
      "text/plain": [
       "1341307    Repair\n",
       "Name: LaborOperation, dtype: object"
      ]
     },
     "execution_count": 156,
     "metadata": {},
     "output_type": "execute_result"
    }
   ],
   "source": [
    "line_level.loc[line_level['LineDescription'] == '                                     $12', 'LaborOperation']"
   ]
  },
  {
   "cell_type": "code",
   "execution_count": 157,
   "metadata": {},
   "outputs": [
    {
     "data": {
      "text/plain": [
       "array(['Additional Costs', 'Additional Labor', 'Additional Operations',\n",
       "       'Alignment', 'Blank', 'Blend', 'Check/Adjust', 'Inspect',\n",
       "       'Overhaul', 'Refinish', 'Refinish/Repair', 'Remove/Install',\n",
       "       'Remove/Replace', 'Remove/Replace, Partial', 'Repair',\n",
       "       'Repair, Partial', 'Sublet', 'nan'], dtype='<U23')"
      ]
     },
     "execution_count": 157,
     "metadata": {},
     "output_type": "execute_result"
    }
   ],
   "source": [
    "unq_labor_op = np.unique(list(line_level['LaborOperation']))\n",
    "unq_labor_op"
   ]
  },
  {
   "cell_type": "code",
   "execution_count": 158,
   "metadata": {},
   "outputs": [
    {
     "data": {
      "text/plain": [
       "[('Rear Bumper Cover', 48791),\n",
       " ('Frt Bumper Cover', 48687),\n",
       " ('Clear Coat', 47188),\n",
       " ('Hazardous Waste Disposal', 39033),\n",
       " ('Paint/Materials', 35267),\n",
       " ('Flex Additive', 27699),\n",
       " ('Cover,Front Bumper', 22818),\n",
       " ('Cover,Rear Bumper', 20522),\n",
       " ('Fender,Front           LT', 17333),\n",
       " ('Fender,Front           RT', 17207),\n",
       " ('Panel,Hood', 16746),\n",
       " ('Frt Bumper Cover Assy', 15625),\n",
       " ('HAZARDOUS WASTE DISPOSAL', 14319),\n",
       " ('Paint', 14250),\n",
       " ('Rear Bumper Cover Assy', 14109)]"
      ]
     },
     "execution_count": 158,
     "metadata": {},
     "output_type": "execute_result"
    }
   ],
   "source": [
    "cnt_labour_op = Counter(list(line_level['LineDescription']))\n",
    "cnt_labour_op.most_common(15)"
   ]
  },
  {
   "cell_type": "code",
   "execution_count": null,
   "metadata": {
    "scrolled": true
   },
   "outputs": [],
   "source": [
    "line_level.loc[line_level['LaborOperation'].isin(['Remove/Replace', 'Remove/Install', 'Refinish'])]"
   ]
  },
  {
   "cell_type": "code",
   "execution_count": 160,
   "metadata": {
    "scrolled": true
   },
   "outputs": [],
   "source": [
    "hazardous_waste_record_ids = list(line_level.loc[line_level['LineDescription'] == 'Hazardous Waste Disposal', 'RecordID'])"
   ]
  },
  {
   "cell_type": "code",
   "execution_count": 161,
   "metadata": {},
   "outputs": [],
   "source": [
    "record_to_img_hazard = {}\n",
    "for i in hazardous_waste_record_ids[:10]:\n",
    "    record_to_img_hazard[i] = sorted_data.loc[sorted_data['RecordID'] == i].values[:, 0].tolist()"
   ]
  },
  {
   "cell_type": "code",
   "execution_count": null,
   "metadata": {},
   "outputs": [],
   "source": [
    "img_set = record_to_img_hazard['001169e4-9a81-4a89-83d3-4771b5dd41cb']\n",
    "img_set"
   ]
  },
  {
   "cell_type": "markdown",
   "metadata": {},
   "source": [
    "# Image Analysis"
   ]
  },
  {
   "cell_type": "code",
   "execution_count": 34,
   "metadata": {},
   "outputs": [
    {
     "name": "stderr",
     "output_type": "stream",
     "text": [
      "100%|██████████| 17/17 [00:15<00:00,  1.13it/s]\n"
     ]
    }
   ],
   "source": [
    "image_filepath = '/data/data_for_thevin/data_for_thevin/images'\n",
    "hazard_images = load_images_from_list(image_filepath, img_set)"
   ]
  },
  {
   "cell_type": "code",
   "execution_count": 35,
   "metadata": {},
   "outputs": [
    {
     "data": {
      "text/plain": [
       "1861458"
      ]
     },
     "execution_count": 35,
     "metadata": {},
     "output_type": "execute_result"
    }
   ],
   "source": [
    "image_names = list(os.listdir(image_filepath))\n",
    "len(image_names)"
   ]
  },
  {
   "cell_type": "code",
   "execution_count": null,
   "metadata": {},
   "outputs": [],
   "source": [
    "plt.imshow(list(hazard_images.values())[1])"
   ]
  },
  {
   "cell_type": "code",
   "execution_count": 37,
   "metadata": {},
   "outputs": [
    {
     "data": {
      "text/plain": [
       "17"
      ]
     },
     "execution_count": 37,
     "metadata": {},
     "output_type": "execute_result"
    }
   ],
   "source": [
    "len(hazard_images)"
   ]
  },
  {
   "cell_type": "markdown",
   "metadata": {},
   "source": [
    "## Data Preprocessing"
   ]
  },
  {
   "cell_type": "code",
   "execution_count": null,
   "metadata": {},
   "outputs": [],
   "source": [
    "data.head()"
   ]
  },
  {
   "cell_type": "code",
   "execution_count": 17,
   "metadata": {},
   "outputs": [],
   "source": [
    "fbumper_ids = list(data.loc[data['fbumper'] > 0.5, 'image_id'])\n",
    "fbumper_ids = fbumper_ids[:100000]"
   ]
  },
  {
   "cell_type": "code",
   "execution_count": 10,
   "metadata": {},
   "outputs": [],
   "source": [
    "r_id_df = data.set_index('image_id').loc[fbumper_ids, 'RecordID'].reset_index(inplace=False)\n",
    "r_ids = list(r_id_df['RecordID'])"
   ]
  },
  {
   "cell_type": "code",
   "execution_count": null,
   "metadata": {
    "scrolled": true
   },
   "outputs": [],
   "source": [
    "filter_line_level = line_level.loc[line_level['LaborOperation'].isin(['Remove/Replace', 'Remove/Install', 'Repair'])]\n",
    "filter_line_level"
   ]
  },
  {
   "cell_type": "code",
   "execution_count": 18,
   "metadata": {
    "scrolled": true
   },
   "outputs": [],
   "source": [
    "filter_line_level_search = filter_line_level.set_index('RecordID')"
   ]
  },
  {
   "cell_type": "code",
   "execution_count": 13,
   "metadata": {},
   "outputs": [
    {
     "name": "stdout",
     "output_type": "stream",
     "text": [
      "Completed 100000/100000\n"
     ]
    }
   ],
   "source": [
    "descriptions = []\n",
    "bad_ids = []\n",
    "unq_rec_ids_ll = np.unique(list(filter_line_level['RecordID']))\n",
    "for i, x in enumerate(r_ids):\n",
    "    if x in unq_rec_ids_ll:\n",
    "        description = filter_line_level_search.at[x, 'LineDescription']\n",
    "        descriptions.append(description)\n",
    "    else:\n",
    "        bad_ids.append(x)\n",
    "    clear_output(True)\n",
    "    print(\"Completed {}/{}\".format(i + 1, len(r_ids)))"
   ]
  },
  {
   "cell_type": "code",
   "execution_count": null,
   "metadata": {},
   "outputs": [],
   "source": [
    "# descriptions_new = line_level.set_index('RecordID').loc[r_ids, 'LineDescription'].reset_index(inplace=False)\n",
    "        \n",
    "# descriptions_new_nan = descriptions_new.dropna()\n",
    "# descriptions_new_nan= descriptions_new_nan.groupby('RecordID', sort=False)['LineDescription'].apply(list).reset_index()\n",
    "# descriptions_ = descriptions_new_nan['LineDescription']"
   ]
  },
  {
   "cell_type": "code",
   "execution_count": 14,
   "metadata": {},
   "outputs": [],
   "source": [
    "descriptions_l = [x.tolist() if type(x) != str else [x] for x in descriptions]"
   ]
  },
  {
   "cell_type": "code",
   "execution_count": 15,
   "metadata": {},
   "outputs": [],
   "source": [
    "r_ids_fin = [x for x in r_ids if x not in bad_ids]"
   ]
  },
  {
   "cell_type": "code",
   "execution_count": 16,
   "metadata": {},
   "outputs": [
    {
     "data": {
      "text/plain": [
       "True"
      ]
     },
     "execution_count": 16,
     "metadata": {},
     "output_type": "execute_result"
    }
   ],
   "source": [
    "len(descriptions_l) == len(r_ids_fin)"
   ]
  },
  {
   "cell_type": "code",
   "execution_count": 17,
   "metadata": {},
   "outputs": [],
   "source": [
    "bad_imgs = list(data.loc[data['RecordID'].isin(set(bad_ids)), 'image_id'])\n",
    "\n",
    "img_ids = [x for x in fbumper_ids if x not in bad_imgs]"
   ]
  },
  {
   "cell_type": "code",
   "execution_count": 18,
   "metadata": {},
   "outputs": [
    {
     "data": {
      "text/plain": [
       "True"
      ]
     },
     "execution_count": 18,
     "metadata": {},
     "output_type": "execute_result"
    }
   ],
   "source": [
    "len(img_ids) == len(r_ids_fin)"
   ]
  },
  {
   "cell_type": "code",
   "execution_count": 20,
   "metadata": {},
   "outputs": [],
   "source": [
    "fbumper_ground = pd.read_csv('/data/data_for_thevin/clean_train_val_test_set/fbumper/fbumper_ud.csv')\n",
    "fbumper_ground.loc[fbumper_ground]"
   ]
  },
  {
   "cell_type": "code",
   "execution_count": null,
   "metadata": {},
   "outputs": [],
   "source": [
    "fbumper_ground"
   ]
  },
  {
   "cell_type": "code",
   "execution_count": 31,
   "metadata": {},
   "outputs": [
    {
     "name": "stderr",
     "output_type": "stream",
     "text": [
      "/usr/local/lib/python3.6/site-packages/pandas/core/indexing.py:1027: FutureWarning: \n",
      "Passing list-likes to .loc or [] with any missing label will raise\n",
      "KeyError in the future, you can use .reindex() as an alternative.\n",
      "\n",
      "See the documentation here:\n",
      "https://pandas.pydata.org/pandas-docs/stable/indexing.html#deprecate-loc-reindex-listlike\n",
      "  return getattr(section, self.name)[new_key]\n"
     ]
    }
   ],
   "source": [
    "ground_truths = fbumper_ground.set_index('image_id').loc[img_ids, 'fbumper:replace'].reset_index(inplace=False)"
   ]
  },
  {
   "cell_type": "code",
   "execution_count": 44,
   "metadata": {},
   "outputs": [],
   "source": [
    "# from math import isnan\n",
    "\n",
    "# missing_images = []\n",
    "# for image_id, ground_truth in ground_truths.values:\n",
    "#     if isnan(ground_truth):\n",
    "#         missing_images.append(image_id)"
   ]
  },
  {
   "cell_type": "code",
   "execution_count": 47,
   "metadata": {},
   "outputs": [
    {
     "data": {
      "text/plain": [
       "38033"
      ]
     },
     "execution_count": 47,
     "metadata": {},
     "output_type": "execute_result"
    }
   ],
   "source": [
    "# len(missing_images)"
   ]
  },
  {
   "cell_type": "code",
   "execution_count": 106,
   "metadata": {},
   "outputs": [
    {
     "name": "stdout",
     "output_type": "stream",
     "text": [
      "Completed 85034/85034\n"
     ]
    }
   ],
   "source": [
    "import shutil\n",
    "\n",
    "image_filepath = '/data/data_for_thevin/data_for_thevin/images'\n",
    "\n",
    "dest = os.path.join(\"/data/thevin/\",'fbumper_only_imgs_100k')\n",
    "if not os.path.exists(dest):\n",
    "    os.mkdir(dest)\n",
    "\n",
    "for i, name in enumerate(img_ids):\n",
    "    path = os.path.join(image_filepath, name + '.jpg')\n",
    "    shutil.copy(path, dest)\n",
    "    clear_output(True)\n",
    "    print(\"Completed {}/{}\".format(i + 1, len(img_ids)))"
   ]
  },
  {
   "cell_type": "code",
   "execution_count": 1,
   "metadata": {},
   "outputs": [],
   "source": [
    "from PIL import Image"
   ]
  },
  {
   "cell_type": "code",
   "execution_count": 15,
   "metadata": {},
   "outputs": [],
   "source": [
    "def load_images_from_folder(folder):\n",
    "    images = {}\n",
    "    for i, filename in enumerate(os.listdir(folder)):\n",
    "        img = Image.open(os.path.join(folder,filename))\n",
    "        if img is not None:\n",
    "            images[filename] = img\n",
    "        clear_output(True)\n",
    "        print(\"Completed {}/{}\".format(i + 1, len(os.listdir(folder))))\n",
    "    return images"
   ]
  },
  {
   "cell_type": "code",
   "execution_count": null,
   "metadata": {},
   "outputs": [],
   "source": [
    "dest = os.path.join(\"/data/thevin/\",'fbumper_imgs_250k')\n",
    "\n",
    "imgs = load_images_from_folder(dest)"
   ]
  },
  {
   "cell_type": "code",
   "execution_count": null,
   "metadata": {},
   "outputs": [],
   "source": [
    "plt.imshow(list(imgs.values())[40003])"
   ]
  },
  {
   "cell_type": "code",
   "execution_count": null,
   "metadata": {},
   "outputs": [],
   "source": [
    "list(imgs.keys())[40003]"
   ]
  },
  {
   "cell_type": "code",
   "execution_count": null,
   "metadata": {
    "scrolled": true
   },
   "outputs": [],
   "source": [
    "data.loc[data['image_id'] == '39dffe85-456b-53e7-9124-a2afd3e0c1ce'\n",
    ", 'RecordID']"
   ]
  },
  {
   "cell_type": "code",
   "execution_count": 124,
   "metadata": {},
   "outputs": [
    {
     "data": {
      "text/plain": [
       "array(['Frt Bumper Cover', 'R Front Combination Lamp',\n",
       "       'R Rocker Moulding', 'RT PILLAR MOULDING',\n",
       "       'R Frt Door Repair Panel', 'R Frt Otr Belt Moulding',\n",
       "       'R Frt Door Sash Moulding', 'R Frt Rear View Mirror',\n",
       "       'R Frt Door Moulding', 'R Frt Otr Door Handle',\n",
       "       'R Side Door Repair Panel', 'R Door Moulding',\n",
       "       'R Side Door Moulding', 'R Door Stationary Glass',\n",
       "       'R Van Side Panel', 'R Quarter Cover', 'R Quarter Glass',\n",
       "       'R Roof Moulding', 'R Roof Luggage Rack',\n",
       "       'R Rear Combination Lamp', 'Rear Bumper Cover',\n",
       "       'Rear Bumper Cover'], dtype=object)"
      ]
     },
     "execution_count": 124,
     "metadata": {},
     "output_type": "execute_result"
    }
   ],
   "source": [
    "filter_line_level_search.at['f9eca3d0-023a-44c1-ab15-c822ffee3d8b', 'LineDescription']"
   ]
  },
  {
   "cell_type": "code",
   "execution_count": 125,
   "metadata": {},
   "outputs": [
    {
     "data": {
      "text/plain": [
       "['Frt Bumper Cover',\n",
       " 'R Front Combination Lamp',\n",
       " 'R Rocker Moulding',\n",
       " 'RT PILLAR MOULDING',\n",
       " 'R Frt Door Repair Panel',\n",
       " 'R Frt Otr Belt Moulding',\n",
       " 'R Frt Door Sash Moulding',\n",
       " 'R Frt Rear View Mirror',\n",
       " 'R Frt Door Moulding',\n",
       " 'R Frt Otr Door Handle',\n",
       " 'R Side Door Repair Panel',\n",
       " 'R Door Moulding',\n",
       " 'R Side Door Moulding',\n",
       " 'R Door Stationary Glass',\n",
       " 'R Van Side Panel',\n",
       " 'R Quarter Cover',\n",
       " 'R Quarter Glass',\n",
       " 'R Roof Moulding',\n",
       " 'R Roof Luggage Rack',\n",
       " 'R Rear Combination Lamp',\n",
       " 'Rear Bumper Cover',\n",
       " 'Rear Bumper Cover']"
      ]
     },
     "execution_count": 125,
     "metadata": {},
     "output_type": "execute_result"
    }
   ],
   "source": [
    "descriptions_l[40003]"
   ]
  },
  {
   "cell_type": "code",
   "execution_count": 113,
   "metadata": {},
   "outputs": [],
   "source": [
    "imgs_list = list(imgs.values())"
   ]
  },
  {
   "cell_type": "code",
   "execution_count": 114,
   "metadata": {},
   "outputs": [
    {
     "data": {
      "text/plain": [
       "True"
      ]
     },
     "execution_count": 114,
     "metadata": {},
     "output_type": "execute_result"
    }
   ],
   "source": [
    "len(imgs_list) == len(descriptions_l)"
   ]
  },
  {
   "cell_type": "code",
   "execution_count": 115,
   "metadata": {},
   "outputs": [],
   "source": [
    "import pickle\n",
    "\n",
    "sample_data = {\"Images\" : imgs_list, \"LineDescriptions\" : descriptions_l}\n",
    "\n",
    "with open('/data/thevin/sample_data_file_fbumper_only_100k.pickle', 'wb') as handle:\n",
    "    pickle.dump(sample_data, handle)"
   ]
  },
  {
   "cell_type": "markdown",
   "metadata": {},
   "source": [
    "### We now have a set of front bumper images and bonnet images along with their corresponding text descriptions. These text descriptions have been retrieved from a filtered version of the line descriptions"
   ]
  },
  {
   "cell_type": "code",
   "execution_count": 13,
   "metadata": {},
   "outputs": [],
   "source": [
    "import pickle\n",
    "\n",
    "with open('/data/thevin/sample_data_file_fbumper_descriptions_100k.pickle', 'rb') as handle:\n",
    "    sample_dict = pickle.load(handle)"
   ]
  },
  {
   "cell_type": "markdown",
   "metadata": {},
   "source": [
    "Now we will attempt to build a model and train it using the data we have created"
   ]
  },
  {
   "cell_type": "code",
   "execution_count": 14,
   "metadata": {},
   "outputs": [
    {
     "name": "stdout",
     "output_type": "stream",
     "text": [
      "--2020-09-15 19:02:43--  https://s3.amazonaws.com/dl4j-distribution/GoogleNews-vectors-negative300.bin.gz\n",
      "Resolving s3.amazonaws.com (s3.amazonaws.com)... 52.216.24.78\n",
      "Connecting to s3.amazonaws.com (s3.amazonaws.com)|52.216.24.78|:443... connected.\n",
      "HTTP request sent, awaiting response... 416 Requested Range Not Satisfiable\n",
      "\n",
      "    The file is already fully retrieved; nothing to do.\n",
      "\n",
      "Downloading the pre-trained Word2Vec model took 2 seconds\n"
     ]
    }
   ],
   "source": [
    "# https://stackoverflow.com/questions/55444572/how-does-i-unzip-pretrained-word2vec-in-google-colab\n",
    "start_time = time.time()\n",
    "!wget -P /tmp/ -c \"https://s3.amazonaws.com/dl4j-distribution/GoogleNews-vectors-negative300.bin.gz\"\n",
    "elapsed_time = time.time() - start_time\n",
    "print('Downloading the pre-trained Word2Vec model took %d seconds' %(elapsed_time))"
   ]
  },
  {
   "cell_type": "code",
   "execution_count": 15,
   "metadata": {},
   "outputs": [
    {
     "name": "stdout",
     "output_type": "stream",
     "text": [
      "Loading the pre-trained Word2Vec model took 52 seconds\n"
     ]
    }
   ],
   "source": [
    "# Load Google's pre-trained Word2Vec model.\n",
    "start_time = time.time()\n",
    "word2Vec_filePath = '/tmp/GoogleNews-vectors-negative300.bin.gz'\n",
    "model = gensim.models.KeyedVectors.load_word2vec_format(word2Vec_filePath, binary=True)\n",
    "!rm -f word2Vec_filePath\n",
    "elapsed_time = time.time() - start_time\n",
    "print('Loading the pre-trained Word2Vec model took %d seconds' %(elapsed_time))"
   ]
  },
  {
   "cell_type": "code",
   "execution_count": 16,
   "metadata": {},
   "outputs": [
    {
     "data": {
      "text/plain": [
       "99745"
      ]
     },
     "execution_count": 16,
     "metadata": {},
     "output_type": "execute_result"
    }
   ],
   "source": [
    "images = sample_dict['Images']\n",
    "descriptions = sample_dict['LineDescriptions']\n",
    "\n",
    "assert len(images) == len(descriptions)\n",
    "len(images)"
   ]
  },
  {
   "cell_type": "code",
   "execution_count": 17,
   "metadata": {},
   "outputs": [
    {
     "data": {
      "text/plain": [
       "True"
      ]
     },
     "execution_count": 17,
     "metadata": {},
     "output_type": "execute_result"
    }
   ],
   "source": [
    "len(descriptions) == len(images)"
   ]
  },
  {
   "cell_type": "code",
   "execution_count": null,
   "metadata": {},
   "outputs": [],
   "source": [
    "plt.imshow(images[500])"
   ]
  },
  {
   "cell_type": "code",
   "execution_count": 19,
   "metadata": {},
   "outputs": [
    {
     "data": {
      "text/plain": [
       "['Frt Bumper Cover',\n",
       " 'Frt Bumper License Bracket',\n",
       " 'R Frt Bumper Spacer',\n",
       " 'Frt Bumper Cover',\n",
       " 'Frt Bumper Impact Absorber',\n",
       " 'Grille Assy',\n",
       " 'R Front Combination Lamp',\n",
       " 'R Fender Panel',\n",
       " 'R Fender Support',\n",
       " 'R fender clips @2',\n",
       " 'R Fender Liner',\n",
       " 'Alloy Wheel',\n",
       " 'R Frt Susp Components One Side        -M',\n",
       " 'R Frt Susp Hub Assy                   -M',\n",
       " 'Bolt kit',\n",
       " 'R Frt Susp Clip                       -M',\n",
       " 'R Frt Susp Hub Bearing                -M',\n",
       " 'R Frt Susp Steering Knuckle           -M',\n",
       " 'R Lwr Frt Susp Control Arm Assy       -M',\n",
       " 'R Frt Susp Ball Joint                 -M',\n",
       " 'R Frt Susp Strut                      -M',\n",
       " 'R Frt Drive Axle Shaft Assembly       -M',\n",
       " 'R Roof Drip Moulding',\n",
       " 'R W/Shield Wiper Blade Arm',\n",
       " 'R Cowl/Dash Cowl Top Extension',\n",
       " 'R Quarter Lock Pillar Reinf (HSS)     -S',\n",
       " 'R Door Opening Weatherstrip',\n",
       " 'Rear Seat Assy',\n",
       " 'R Frt Seat Belt Assy',\n",
       " 'R Rear Seat Belt',\n",
       " 'R Frt Door Shell',\n",
       " 'R Frt Upr Door Tape',\n",
       " 'R Frt Door Garnish Moulding',\n",
       " 'R Frt Door Trim Panel',\n",
       " 'R Frt Otr Door Handle',\n",
       " 'R Frt Upr Door Hinge',\n",
       " 'R Frt Door Assembly',\n",
       " 'R Frt Lwr Door Hinge',\n",
       " 'R fender splash shield clips @8',\n",
       " 'R Frt Door Glass Run Channel',\n",
       " 'R Frt Door Glass Regulator',\n",
       " 'Back Window Glass Seal',\n",
       " 'R Quarter Outer Panel',\n",
       " 'R Add To R&I/R&R Side Curtain Air Bags-M',\n",
       " 'R Add To R&I/R&R Side Air Bag Sensor  -M',\n",
       " 'R&I RT QTR GLASS-BILL TO FILE',\n",
       " 'R&I BACK GLASS-BILL TO FILE',\n",
       " 'R Quarter Wheelhouse Panel            -S',\n",
       " 'R Lwr Quarter Trim Panel',\n",
       " 'Luggage Lid Spoiler',\n",
       " 'License Plate Garnish',\n",
       " 'Luggage Lid Emblem',\n",
       " 'Luggage Lid Adhesive Nameplate',\n",
       " 'R Rear Combination Lamp',\n",
       " 'Rear Bumper Cover',\n",
       " 'Rear Bumper Cover',\n",
       " 'R Rear Bumper Spacer',\n",
       " 'L Rear Bumper Spacer',\n",
       " 'R fender grommets @4']"
      ]
     },
     "execution_count": 19,
     "metadata": {},
     "output_type": "execute_result"
    }
   ],
   "source": [
    "descriptions[500]"
   ]
  },
  {
   "cell_type": "code",
   "execution_count": 20,
   "metadata": {},
   "outputs": [],
   "source": [
    "mapped_descriptions = []\n",
    "for i in descriptions:\n",
    "    map_desc = set([map_dict.get(str(x).lower(), x) for x in i])\n",
    "    mapped_descriptions.append(list(map_desc))"
   ]
  },
  {
   "cell_type": "code",
   "execution_count": 21,
   "metadata": {},
   "outputs": [
    {
     "data": {
      "text/plain": [
       "['brwing_aux',\n",
       " 'rrockerpanel',\n",
       " 'system deactivate',\n",
       " 'rt lower retianer 10mm',\n",
       " 'ambiguous_lrfb',\n",
       " 'frwing',\n",
       " 'frdoor_moulding',\n",
       " 'rrockerpanel_aux',\n",
       " 'rheadlamp',\n",
       " 'frdoor',\n",
       " 'rt retainer upper',\n",
       " 'no_tpart',\n",
       " 'panel bodnign adhesive',\n",
       " 'roof_moulding',\n",
       " 'rwindshield',\n",
       " 'rt rocker molding clip rea',\n",
       " 'rrdoor_aux',\n",
       " 'rtaillamp',\n",
       " 'rrdoor',\n",
       " 'frdoor_aux']"
      ]
     },
     "execution_count": 21,
     "metadata": {},
     "output_type": "execute_result"
    }
   ],
   "source": [
    "mapped_descriptions[3456]"
   ]
  },
  {
   "cell_type": "code",
   "execution_count": 22,
   "metadata": {},
   "outputs": [],
   "source": [
    "cleaned_descriptions = [clean_punc(x) for x in mapped_descriptions]"
   ]
  },
  {
   "cell_type": "code",
   "execution_count": 23,
   "metadata": {},
   "outputs": [],
   "source": [
    "from collections import Counter\n",
    "\n",
    "cleaned_descriptions_flat = [x for desc in cleaned_descriptions for x in desc]\n",
    "desc_count = Counter(cleaned_descriptions_flat)\n",
    "common_text = [x[0] for x in desc_count.most_common(50)]"
   ]
  },
  {
   "cell_type": "code",
   "execution_count": 24,
   "metadata": {
    "scrolled": true
   },
   "outputs": [
    {
     "data": {
      "text/plain": [
       "['no tpart',\n",
       " 'fbumper',\n",
       " 'ambiguous lrfb',\n",
       " 'fbumper aux',\n",
       " 'bbumper',\n",
       " 'lheadlamp',\n",
       " 'grille',\n",
       " 'rheadlamp',\n",
       " 'flwing aux',\n",
       " 'frwing aux',\n",
       " 'flwing',\n",
       " 'bonnet',\n",
       " 'frwing',\n",
       " 'fldoor aux',\n",
       " 'frdoor aux',\n",
       " 'bonnet aux',\n",
       " 'fbumper impactbar',\n",
       " 'bbumper aux',\n",
       " 'fbumper impactbar aux ',\n",
       " 'brwing aux',\n",
       " 'rmirror',\n",
       " 'rrockerpanel aux',\n",
       " 'blwing aux',\n",
       " 'roof moulding',\n",
       " 'fldoor',\n",
       " 'lmirror',\n",
       " 'bootlid aux',\n",
       " 'frdoor',\n",
       " 'rrdoor aux',\n",
       " 'rldoor aux',\n",
       " 'grille aux',\n",
       " 'lrockerpanel aux',\n",
       " 'bootlid',\n",
       " 'brwing',\n",
       " 'fbumper rfoglamp',\n",
       " 'fbumper lfoglamp',\n",
       " 'fldoor moulding',\n",
       " 'blwing',\n",
       " 'rtaillamp',\n",
       " 'ltaillamp',\n",
       " 'roof aux',\n",
       " 'frdoor moulding',\n",
       " 'rldoor',\n",
       " 'rrdoor',\n",
       " 'rbodypanel',\n",
       " 'rheadlamp aux',\n",
       " 'bbumper impactbar aux ',\n",
       " 'rmirror cover',\n",
       " 'lmirror cover',\n",
       " 'bbumper impactbar']"
      ]
     },
     "execution_count": 24,
     "metadata": {},
     "output_type": "execute_result"
    }
   ],
   "source": [
    "common_text"
   ]
  },
  {
   "cell_type": "code",
   "execution_count": 25,
   "metadata": {
    "scrolled": true
   },
   "outputs": [
    {
     "data": {
      "text/plain": [
       "['fbumper',\n",
       " 'fbumper aux',\n",
       " 'bbumper',\n",
       " 'lheadlamp',\n",
       " 'grille',\n",
       " 'rheadlamp',\n",
       " 'flwing aux',\n",
       " 'frwing aux',\n",
       " 'flwing',\n",
       " 'bonnet',\n",
       " 'frwing',\n",
       " 'fldoor aux',\n",
       " 'frdoor aux',\n",
       " 'bonnet aux',\n",
       " 'fbumper impactbar',\n",
       " 'bbumper aux',\n",
       " 'fbumper impactbar aux ',\n",
       " 'brwing aux',\n",
       " 'rmirror',\n",
       " 'rrockerpanel aux',\n",
       " 'blwing aux',\n",
       " 'roof moulding',\n",
       " 'fldoor',\n",
       " 'lmirror',\n",
       " 'bootlid aux',\n",
       " 'frdoor',\n",
       " 'rrdoor aux',\n",
       " 'rldoor aux',\n",
       " 'grille aux',\n",
       " 'lrockerpanel aux',\n",
       " 'bootlid',\n",
       " 'brwing',\n",
       " 'fbumper rfoglamp',\n",
       " 'fbumper lfoglamp',\n",
       " 'fldoor moulding',\n",
       " 'blwing',\n",
       " 'rtaillamp',\n",
       " 'ltaillamp',\n",
       " 'roof aux',\n",
       " 'frdoor moulding',\n",
       " 'rldoor',\n",
       " 'rrdoor',\n",
       " 'rbodypanel',\n",
       " 'rheadlamp aux',\n",
       " 'bbumper impactbar aux ',\n",
       " 'rmirror cover',\n",
       " 'lmirror cover',\n",
       " 'bbumper impactbar']"
      ]
     },
     "execution_count": 25,
     "metadata": {},
     "output_type": "execute_result"
    }
   ],
   "source": [
    "common_text = [x for x in common_text if x not in ['no tpart', 'ambiguous lrfb']]\n",
    "common_text"
   ]
  },
  {
   "cell_type": "code",
   "execution_count": 26,
   "metadata": {},
   "outputs": [],
   "source": [
    "comprehension_dict = {'fbumper' : \"front bumper\", \n",
    "                      'bbumper' : \"back bumper\", \n",
    "                      'aux' : 'auxiliary',\n",
    "                      'lheadlamp' : 'left head lamp',\n",
    "                      'rheadlamp' : \"right head lamp\", \n",
    "                      \"frwing\" : \"front right wing\", \n",
    "                      \"flwing\" : \"front left wing\",\n",
    "                      'frdoor' : 'front right door',\n",
    "                      'fldoor' : 'front left door',\n",
    "                      'impactbar' : 'impact bar',\n",
    "                      'rmirror' : 'right mirror',\n",
    "                      'lmirror' : 'left mirror',\n",
    "                      'rrockerpanel' : 'right rocker panel',\n",
    "                      'lrockerpanel' : 'left rocker panel'}"
   ]
  },
  {
   "cell_type": "code",
   "execution_count": 27,
   "metadata": {
    "scrolled": true
   },
   "outputs": [
    {
     "data": {
      "text/plain": [
       "['front bumper',\n",
       " 'front bumper auxiliary',\n",
       " 'back bumper',\n",
       " 'left head lamp',\n",
       " 'grille',\n",
       " 'right head lamp',\n",
       " 'front left wing auxiliary',\n",
       " 'front right wing auxiliary',\n",
       " 'front left wing',\n",
       " 'bonnet',\n",
       " 'front right wing',\n",
       " 'front left door auxiliary',\n",
       " 'front right door auxiliary',\n",
       " 'bonnet auxiliary',\n",
       " 'front bumper impact bar',\n",
       " 'back bumper auxiliary',\n",
       " 'front bumper impact bar auxiliary ',\n",
       " 'brwing auxiliary',\n",
       " 'right mirror',\n",
       " 'right rocker panel auxiliary',\n",
       " 'blwing auxiliary',\n",
       " 'roof moulding',\n",
       " 'front left door',\n",
       " 'left mirror',\n",
       " 'bootlid auxiliary',\n",
       " 'front right door',\n",
       " 'rrdoor auxiliary',\n",
       " 'rldoor auxiliary',\n",
       " 'grille auxiliary',\n",
       " 'left rocker panel auxiliary',\n",
       " 'bootlid',\n",
       " 'brwing',\n",
       " 'front bumper rfoglamp',\n",
       " 'front bumper lfoglamp',\n",
       " 'front left door moulding',\n",
       " 'blwing',\n",
       " 'rtaillamp',\n",
       " 'ltaillamp',\n",
       " 'roof auxiliary',\n",
       " 'front right door moulding',\n",
       " 'rldoor',\n",
       " 'rrdoor',\n",
       " 'rbodypanel',\n",
       " 'right head lamp auxiliary',\n",
       " 'back bumper impact bar auxiliary ',\n",
       " 'right mirror cover',\n",
       " 'left mirror cover',\n",
       " 'back bumper impact bar']"
      ]
     },
     "execution_count": 27,
     "metadata": {},
     "output_type": "execute_result"
    }
   ],
   "source": [
    "common_text_compr = []\n",
    "for i, text in enumerate(common_text):\n",
    "    for key in comprehension_dict.keys():\n",
    "        if key in text:\n",
    "            text = text.replace(key, comprehension_dict[key])\n",
    "    common_text_compr.append(text)\n",
    "            \n",
    "common_text_compr"
   ]
  },
  {
   "cell_type": "code",
   "execution_count": 28,
   "metadata": {},
   "outputs": [],
   "source": [
    "for idx, list_ in enumerate(cleaned_descriptions):\n",
    "    cleaned_descriptions[idx] = [common_text_compr[i] for i, x in enumerate(common_text) if x in list_]"
   ]
  },
  {
   "cell_type": "code",
   "execution_count": 29,
   "metadata": {},
   "outputs": [
    {
     "data": {
      "text/plain": [
       "['right head lamp',\n",
       " 'front right wing',\n",
       " 'front right door auxiliary',\n",
       " 'brwing auxiliary',\n",
       " 'right rocker panel auxiliary',\n",
       " 'roof moulding',\n",
       " 'front right door',\n",
       " 'rrdoor auxiliary',\n",
       " 'rtaillamp',\n",
       " 'front right door moulding',\n",
       " 'rrdoor']"
      ]
     },
     "execution_count": 29,
     "metadata": {},
     "output_type": "execute_result"
    }
   ],
   "source": [
    "cleaned_descriptions[3456]"
   ]
  },
  {
   "cell_type": "code",
   "execution_count": 30,
   "metadata": {},
   "outputs": [],
   "source": [
    "# Let us remove any empty strings in any of the descriptions\n",
    "for idx, i in enumerate(cleaned_descriptions):\n",
    "    id_desc_list = []\n",
    "    for x in i:\n",
    "        if len(x.split()) != 0:\n",
    "            id_desc_list.append(x)\n",
    "    cleaned_descriptions[idx] = id_desc_list"
   ]
  },
  {
   "cell_type": "code",
   "execution_count": 31,
   "metadata": {},
   "outputs": [],
   "source": [
    "for idx, i in enumerate(cleaned_descriptions):\n",
    "    for sub_id, x in enumerate(i):\n",
    "        if len(x.split()) == 0:\n",
    "            print(\"Empty Element exists\")"
   ]
  },
  {
   "cell_type": "code",
   "execution_count": 32,
   "metadata": {},
   "outputs": [],
   "source": [
    "empty_lists = []\n",
    "for idx, i in enumerate(cleaned_descriptions):\n",
    "    if i == []:\n",
    "        empty_lists.append(idx)"
   ]
  },
  {
   "cell_type": "code",
   "execution_count": 33,
   "metadata": {},
   "outputs": [],
   "source": [
    "# Let us check if any of the descriptions got deleted entirely when cleaned\n",
    "images = [x for i, x in enumerate(images) if  cleaned_descriptions[i] != []]\n",
    "cleaned_descriptions = [x for x in cleaned_descriptions if x != []]"
   ]
  },
  {
   "cell_type": "code",
   "execution_count": 34,
   "metadata": {},
   "outputs": [
    {
     "data": {
      "text/plain": [
       "True"
      ]
     },
     "execution_count": 34,
     "metadata": {},
     "output_type": "execute_result"
    }
   ],
   "source": [
    "len(images) == len(cleaned_descriptions)"
   ]
  },
  {
   "cell_type": "code",
   "execution_count": 35,
   "metadata": {},
   "outputs": [
    {
     "data": {
      "text/plain": [
       "['back bumper',\n",
       " 'front right door auxiliary',\n",
       " 'brwing auxiliary',\n",
       " 'right mirror',\n",
       " 'roof moulding',\n",
       " 'front right door',\n",
       " 'rrdoor auxiliary',\n",
       " 'brwing',\n",
       " 'roof auxiliary']"
      ]
     },
     "execution_count": 35,
     "metadata": {},
     "output_type": "execute_result"
    }
   ],
   "source": [
    "cleaned_descriptions[500]"
   ]
  },
  {
   "cell_type": "code",
   "execution_count": 36,
   "metadata": {},
   "outputs": [],
   "source": [
    "for x in cleaned_descriptions:\n",
    "    if len(x) == 0:\n",
    "        print(\"Empty List exists\")"
   ]
  },
  {
   "cell_type": "code",
   "execution_count": 37,
   "metadata": {},
   "outputs": [],
   "source": [
    "front_bumper_syn = ['front bumper cover', 'cover front bumper', 'frt bumper cover', 'frt bumper assy']"
   ]
  },
  {
   "cell_type": "code",
   "execution_count": 38,
   "metadata": {},
   "outputs": [],
   "source": [
    "single_label_descriptions = []\n",
    "for x in cleaned_descriptions:\n",
    "    if 'front bumper' in x:\n",
    "        single_label_descriptions.append(choice(front_bumper_syn))\n",
    "    else:\n",
    "        single_label_descriptions.append(choice(x))"
   ]
  },
  {
   "cell_type": "code",
   "execution_count": 39,
   "metadata": {},
   "outputs": [],
   "source": [
    "all_text = ' '.join(single_label_descriptions)\n",
    "words = all_text.split()\n",
    "\n",
    "# Count all the words using Counter Method\n",
    "count_words = Counter(words)\n",
    "\n",
    "total_words = len(words)\n",
    "sorted_words = count_words.most_common(total_words)"
   ]
  },
  {
   "cell_type": "code",
   "execution_count": 40,
   "metadata": {},
   "outputs": [],
   "source": [
    "vocab_to_int = {w:i for i,(w,c) in enumerate(sorted_words, 1)}\n",
    "int_to_vocab = {i:w for i,(w,c) in enumerate(sorted_words, 1)}\n",
    "\n",
    "vocab_size = len(vocab_to_int)"
   ]
  },
  {
   "cell_type": "code",
   "execution_count": 41,
   "metadata": {},
   "outputs": [
    {
     "data": {
      "text/plain": [
       "34"
      ]
     },
     "execution_count": 41,
     "metadata": {},
     "output_type": "execute_result"
    }
   ],
   "source": [
    "vocab_size"
   ]
  },
  {
   "cell_type": "code",
   "execution_count": 42,
   "metadata": {},
   "outputs": [],
   "source": [
    "# vocab_to_int['SEP'] = vocab_size + 1\n",
    "# int_to_vocab[vocab_size + 1] = 'SEP'\n",
    "\n",
    "# vocab_size = len(vocab_to_int)"
   ]
  },
  {
   "cell_type": "code",
   "execution_count": 43,
   "metadata": {},
   "outputs": [],
   "source": [
    "vocab_to_int['UNK'] = vocab_size + 1\n",
    "int_to_vocab[vocab_size + 1] = 'UNK'\n",
    "\n",
    "vocab_size  = len(vocab_to_int)"
   ]
  },
  {
   "cell_type": "code",
   "execution_count": 44,
   "metadata": {},
   "outputs": [
    {
     "data": {
      "text/plain": [
       "35"
      ]
     },
     "execution_count": 44,
     "metadata": {},
     "output_type": "execute_result"
    }
   ],
   "source": [
    "vocab_size"
   ]
  },
  {
   "cell_type": "code",
   "execution_count": 45,
   "metadata": {},
   "outputs": [],
   "source": [
    "# Create the embedding matrix for all the \n",
    "\n",
    "emb_weights =  np.random.rand(vocab_size + 1, 300)\n",
    "\n",
    "for key, val in int_to_vocab.items():\n",
    "    if val in model.vocab:\n",
    "        emb = model.get_vector(val)\n",
    "        emb_weights[key] = emb"
   ]
  },
  {
   "cell_type": "code",
   "execution_count": 46,
   "metadata": {
    "scrolled": true
   },
   "outputs": [
    {
     "name": "stdout",
     "output_type": "stream",
     "text": [
      "frt\n",
      "brwing\n",
      "blwing\n",
      "moulding\n",
      "rldoor\n",
      "rrdoor\n",
      "ltaillamp\n",
      "rtaillamp\n",
      "rbodypanel\n",
      "lfoglamp\n",
      "rfoglamp\n"
     ]
    }
   ],
   "source": [
    "for _, val in int_to_vocab.items():\n",
    "    if val not in model.vocab:\n",
    "        print(val)"
   ]
  },
  {
   "cell_type": "code",
   "execution_count": 47,
   "metadata": {},
   "outputs": [
    {
     "data": {
      "text/plain": [
       "['frt bumper assy', 'hood assy']"
      ]
     },
     "execution_count": 47,
     "metadata": {},
     "output_type": "execute_result"
    }
   ],
   "source": [
    "single_label_descriptions[3456]"
   ]
  },
  {
   "cell_type": "code",
   "execution_count": 48,
   "metadata": {},
   "outputs": [],
   "source": [
    "def tokenizer(descriptions):\n",
    "    sentence_tokens = []\n",
    "    for sentence in descriptions:\n",
    "        sent_tokens = []\n",
    "        for word in sentence.split():\n",
    "            sent_tokens.append(vocab_to_int.get(word, vocab_to_int[\"UNK\"]))\n",
    "        sentence_tokens.append(sent_tokens)\n",
    "    return sentence_tokens"
   ]
  },
  {
   "cell_type": "code",
   "execution_count": 49,
   "metadata": {},
   "outputs": [],
   "source": [
    "description_tokens = tokenizer(single_label_descriptions)"
   ]
  },
  {
   "cell_type": "code",
   "execution_count": 50,
   "metadata": {},
   "outputs": [
    {
     "data": {
      "image/png": "[encoded data removed]",
      "text/plain": [
       "<Figure size 432x288 with 1 Axes>"
      ]
     },
     "metadata": {},
     "output_type": "display_data"
    },
    {
     "data": {
      "text/plain": [
       "count    196836.000000\n",
       "mean          2.568915\n",
       "std           0.808873\n",
       "min           1.000000\n",
       "25%           2.000000\n",
       "50%           3.000000\n",
       "75%           3.000000\n",
       "max           5.000000\n",
       "dtype: float64"
      ]
     },
     "execution_count": 50,
     "metadata": {},
     "output_type": "execute_result"
    }
   ],
   "source": [
    "sentence_len = [len(x) for tokens in description_tokens for x in tokens]\n",
    "pd.Series(sentence_len).hist()\n",
    "plt.show()\n",
    "pd.Series(sentence_len).describe()"
   ]
  },
  {
   "cell_type": "code",
   "execution_count": 51,
   "metadata": {},
   "outputs": [],
   "source": [
    "MAX_SEQ_LEN = 5\n",
    "padded_tokens = pad_tokens(description_tokens, MAX_SEQ_LEN)"
   ]
  },
  {
   "cell_type": "code",
   "execution_count": 52,
   "metadata": {},
   "outputs": [
    {
     "name": "stderr",
     "output_type": "stream",
     "text": [
      "100%|██████████| 98418/98418 [05:40<00:00, 289.38it/s]\n"
     ]
    }
   ],
   "source": [
    "resize_imgs = [pad_and_resize_imgs(x) for x in tqdm(images, position = 0, leave = True)]"
   ]
  },
  {
   "cell_type": "code",
   "execution_count": 53,
   "metadata": {},
   "outputs": [
    {
     "data": {
      "text/plain": [
       "True"
      ]
     },
     "execution_count": 53,
     "metadata": {},
     "output_type": "execute_result"
    }
   ],
   "source": [
    "len(padded_tokens) == len(resize_imgs)"
   ]
  },
  {
   "cell_type": "code",
   "execution_count": 54,
   "metadata": {},
   "outputs": [],
   "source": [
    "non_fbumper_tokens = []\n",
    "fbumper_tokens = []\n",
    "for i, x in enumerate(single_label_descriptions):\n",
    "    if x not in front_bumper_syn:\n",
    "        non_fbumper_tokens.append(padded_tokens[i])\n",
    "    else:\n",
    "        fbumper_tokens.append(padded_tokens[i])"
   ]
  },
  {
   "cell_type": "code",
   "execution_count": 55,
   "metadata": {},
   "outputs": [
    {
     "data": {
      "text/plain": [
       "89432"
      ]
     },
     "execution_count": 55,
     "metadata": {},
     "output_type": "execute_result"
    }
   ],
   "source": [
    "len(fbumper_tokens)"
   ]
  },
  {
   "cell_type": "code",
   "execution_count": 56,
   "metadata": {},
   "outputs": [
    {
     "data": {
      "text/plain": [
       "107404"
      ]
     },
     "execution_count": 56,
     "metadata": {},
     "output_type": "execute_result"
    }
   ],
   "source": [
    "len(fbumper_tokens)"
   ]
  },
  {
   "cell_type": "code",
   "execution_count": 57,
   "metadata": {},
   "outputs": [],
   "source": [
    "non_fbumper_unq_tokens = np.unique(non_fbumper_tokens, axis = 0)\n",
    "fbumper_unq_tokens = np.unique(fbumper_tokens, axis = 0)"
   ]
  },
  {
   "cell_type": "code",
   "execution_count": 58,
   "metadata": {},
   "outputs": [
    {
     "data": {
      "text/plain": [
       "array([[ 0,  0,  0,  7,  8],\n",
       "       [ 0,  0,  0,  7,  9],\n",
       "       [ 0,  0,  0,  7, 14],\n",
       "       [ 0,  0,  0,  9,  7],\n",
       "       [ 0,  0,  2,  1,  3],\n",
       "       [ 0,  0,  3,  2,  1],\n",
       "       [ 0,  0,  5,  1,  3],\n",
       "       [ 0,  0,  5,  1,  8]])"
      ]
     },
     "execution_count": 58,
     "metadata": {},
     "output_type": "execute_result"
    }
   ],
   "source": [
    "fbumper_unq_tokens"
   ]
  },
  {
   "cell_type": "markdown",
   "metadata": {},
   "source": [
    "## Model Implementation"
   ]
  },
  {
   "cell_type": "code",
   "execution_count": 59,
   "metadata": {},
   "outputs": [],
   "source": [
    "def triplet_loss(y_true, y_pred, alpha=0.7):\n",
    "    \"\"\"\n",
    "    https://github.com/KinWaiCheuk/Triplet-net-keras/blob/master/Triplet%20NN%20Test%20on%20MNIST.ipynb\n",
    "    Implementation of the triplet loss function\n",
    "    Arguments:\n",
    "    y_true -- true labels, required when you define a loss in Keras, you don't need it in this function.\n",
    "    y_pred -- python list containing three objects:\n",
    "            anchor -- the encodings for the anchor data\n",
    "            positive -- the encodings for the positive data (similar to anchor)\n",
    "            negative -- the encodings for the negative data (different from anchor)\n",
    "    Returns:\n",
    "    loss -- real number, value of the loss\n",
    "    \"\"\"\n",
    "\n",
    "    total_length = y_pred.shape.as_list()[-1]\n",
    "    anchor = y_pred[:, 0:int(total_length * 1 / 3)]\n",
    "    positive = y_pred[:, int(total_length * 1 / 3):int(total_length * 2 / 3)]\n",
    "    negative = y_pred[:, int(total_length * 2 / 3):int(total_length * 3 / 3)]\n",
    "\n",
    "    # distance between the anchor and the positive\n",
    "    pos_dist = K.sum(K.square(anchor - positive), axis=1)\n",
    "\n",
    "    # distance between the anchor and the negative\n",
    "    neg_dist = K.sum(K.square(anchor - negative), axis=1)\n",
    "\n",
    "    # compute loss\n",
    "    basic_loss = pos_dist - neg_dist + alpha\n",
    "    loss = K.maximum(basic_loss, 0.0)\n",
    "\n",
    "    return loss"
   ]
  },
  {
   "cell_type": "code",
   "execution_count": 61,
   "metadata": {},
   "outputs": [
    {
     "data": {
      "text/plain": [
       "196836"
      ]
     },
     "execution_count": 61,
     "metadata": {},
     "output_type": "execute_result"
    }
   ],
   "source": [
    "ids = list(range(len(resize_imgs)))\n",
    "len([x for i, x in enumerate(ids) for _ in range(len(padded_tokens[i]))])"
   ]
  },
  {
   "cell_type": "code",
   "execution_count": 64,
   "metadata": {},
   "outputs": [],
   "source": [
    "vec_dim = 100\n",
    "\n",
    "def gen(list_images, list_captions, batch_size=16):\n",
    "    indexes = list(range(len(list_images)))\n",
    "    while True:\n",
    "        \n",
    "        batches = chunker(indexes, batch_size, shuffle = True)\n",
    "        \n",
    "        for batch_indexes in batches:\n",
    "            batch_imgs = [list_images[i] for i in batch_indexes]\n",
    "            captions_p = [list_captions[i] for i in batch_indexes]\n",
    "            captions_n = []\n",
    "            \n",
    "            X1 = np.array([preprocess_input(x) for x in batch_imgs])\n",
    "            X2 = np.array(captions_p)\n",
    "            try:\n",
    "                batch_non_fbumper_tokens = []\n",
    "                batch_fbumper_tokens = []\n",
    "                for cap in captions_p:\n",
    "                    if cap.tolist() in fbumper_unq_tokens.tolist():\n",
    "                        batch_fbumper_tokens.append(cap)\n",
    "                    else:\n",
    "                        batch_non_fbumper_tokens.append(cap)\n",
    "\n",
    "                batch_non_fbumper_unq_tokens = np.unique(batch_non_fbumper_tokens, axis = 0)\n",
    "                batch_fbumper_unq_tokens = np.unique(batch_fbumper_tokens, axis = 0)\n",
    "\n",
    "                for pos_cap in captions_p:\n",
    "                    if pos_cap.tolist() in batch_fbumper_unq_tokens.tolist():\n",
    "                        neg_cap = choice(batch_non_fbumper_unq_tokens)\n",
    "                    else:\n",
    "                        neg_cap = choice(batch_fbumper_unq_tokens)\n",
    "\n",
    "                    captions_n.append(neg_cap)\n",
    "                    \n",
    "            except:\n",
    "                for pos_cap in captions_p:\n",
    "                    eq = True\n",
    "                    neg_cap = 0\n",
    "                    while eq:\n",
    "                        neg_cap = choice(non_fbumper_unq_tokens)\n",
    "                        if neg_cap.tolist() != pos_cap.tolist():\n",
    "                            eq = False\n",
    "                    captions_n.append(neg_cap)\n",
    "                \n",
    "                \n",
    "            X3 = np.array(captions_n)\n",
    "            \n",
    "            yield [X1, X2, X3], np.zeros((len(X1), 3 * vec_dim))"
   ]
  },
  {
   "cell_type": "code",
   "execution_count": 65,
   "metadata": {},
   "outputs": [],
   "source": [
    "vec_dim = 100\n",
    "\n",
    "def gen_1(list_images, list_captions, batch_size=16):\n",
    "    indexes = list(range(len(list_images)))\n",
    "    while True:\n",
    "        \n",
    "        batches = chunker(indexes, batch_size, shuffle = True)\n",
    "        \n",
    "        for batch_indexes in batches:\n",
    "            batch_imgs = [list_images[i] for i in batch_indexes]\n",
    "            captions_p = [list_captions[i] for i in batch_indexes]\n",
    "            captions_n = [choice(list_captions) for _ in batch_indexes]\n",
    "            \n",
    "            X1 = np.array([preprocess_input(x) for x in batch_imgs])\n",
    "            X2 = np.array(captions_p)                \n",
    "            X3 = np.array(captions_n)\n",
    "            \n",
    "            yield [X1, X2, X3], np.zeros((len(X1), 3 * vec_dim))"
   ]
  },
  {
   "cell_type": "code",
   "execution_count": 71,
   "metadata": {
    "scrolled": true
   },
   "outputs": [
    {
     "data": {
      "text/plain": [
       "([array([[[[-103.939, -116.779, -123.68 ],\n",
       "           [-103.939, -116.779, -123.68 ],\n",
       "           [-103.939, -116.779, -123.68 ],\n",
       "           ...,\n",
       "           [-103.939, -116.779, -123.68 ],\n",
       "           [-103.939, -116.779, -123.68 ],\n",
       "           [-103.939, -116.779, -123.68 ]],\n",
       "  \n",
       "          [[-103.939, -116.779, -123.68 ],\n",
       "           [-103.939, -116.779, -123.68 ],\n",
       "           [-103.939, -116.779, -123.68 ],\n",
       "           ...,\n",
       "           [-103.939, -116.779, -123.68 ],\n",
       "           [-103.939, -116.779, -123.68 ],\n",
       "           [-103.939, -116.779, -123.68 ]],\n",
       "  \n",
       "          [[-103.939, -116.779, -123.68 ],\n",
       "           [-103.939, -116.779, -123.68 ],\n",
       "           [-103.939, -116.779, -123.68 ],\n",
       "           ...,\n",
       "           [-103.939, -116.779, -123.68 ],\n",
       "           [-103.939, -116.779, -123.68 ],\n",
       "           [-103.939, -116.779, -123.68 ]],\n",
       "  \n",
       "          ...,\n",
       "  \n",
       "          [[-103.939, -116.779, -123.68 ],\n",
       "           [-103.939, -116.779, -123.68 ],\n",
       "           [-103.939, -116.779, -123.68 ],\n",
       "           ...,\n",
       "           [-103.939, -116.779, -123.68 ],\n",
       "           [-103.939, -116.779, -123.68 ],\n",
       "           [-103.939, -116.779, -123.68 ]],\n",
       "  \n",
       "          [[-103.939, -116.779, -123.68 ],\n",
       "           [-103.939, -116.779, -123.68 ],\n",
       "           [-103.939, -116.779, -123.68 ],\n",
       "           ...,\n",
       "           [-103.939, -116.779, -123.68 ],\n",
       "           [-103.939, -116.779, -123.68 ],\n",
       "           [-103.939, -116.779, -123.68 ]],\n",
       "  \n",
       "          [[-103.939, -116.779, -123.68 ],\n",
       "           [-103.939, -116.779, -123.68 ],\n",
       "           [-103.939, -116.779, -123.68 ],\n",
       "           ...,\n",
       "           [-103.939, -116.779, -123.68 ],\n",
       "           [-103.939, -116.779, -123.68 ],\n",
       "           [-103.939, -116.779, -123.68 ]]],\n",
       "  \n",
       "  \n",
       "         [[[-103.939, -116.779, -123.68 ],\n",
       "           [-103.939, -116.779, -123.68 ],\n",
       "           [-103.939, -116.779, -123.68 ],\n",
       "           ...,\n",
       "           [-103.939, -116.779, -123.68 ],\n",
       "           [-103.939, -116.779, -123.68 ],\n",
       "           [-103.939, -116.779, -123.68 ]],\n",
       "  \n",
       "          [[-103.939, -116.779, -123.68 ],\n",
       "           [-103.939, -116.779, -123.68 ],\n",
       "           [-103.939, -116.779, -123.68 ],\n",
       "           ...,\n",
       "           [-103.939, -116.779, -123.68 ],\n",
       "           [-103.939, -116.779, -123.68 ],\n",
       "           [-103.939, -116.779, -123.68 ]],\n",
       "  \n",
       "          [[-103.939, -116.779, -123.68 ],\n",
       "           [-103.939, -116.779, -123.68 ],\n",
       "           [-103.939, -116.779, -123.68 ],\n",
       "           ...,\n",
       "           [-103.939, -116.779, -123.68 ],\n",
       "           [-103.939, -116.779, -123.68 ],\n",
       "           [-103.939, -116.779, -123.68 ]],\n",
       "  \n",
       "          ...,\n",
       "  \n",
       "          [[-103.939, -116.779, -123.68 ],\n",
       "           [-103.939, -116.779, -123.68 ],\n",
       "           [-103.939, -116.779, -123.68 ],\n",
       "           ...,\n",
       "           [-103.939, -116.779, -123.68 ],\n",
       "           [-103.939, -116.779, -123.68 ],\n",
       "           [-103.939, -116.779, -123.68 ]],\n",
       "  \n",
       "          [[-103.939, -116.779, -123.68 ],\n",
       "           [-103.939, -116.779, -123.68 ],\n",
       "           [-103.939, -116.779, -123.68 ],\n",
       "           ...,\n",
       "           [-103.939, -116.779, -123.68 ],\n",
       "           [-103.939, -116.779, -123.68 ],\n",
       "           [-103.939, -116.779, -123.68 ]],\n",
       "  \n",
       "          [[-103.939, -116.779, -123.68 ],\n",
       "           [-103.939, -116.779, -123.68 ],\n",
       "           [-103.939, -116.779, -123.68 ],\n",
       "           ...,\n",
       "           [-103.939, -116.779, -123.68 ],\n",
       "           [-103.939, -116.779, -123.68 ],\n",
       "           [-103.939, -116.779, -123.68 ]]],\n",
       "  \n",
       "  \n",
       "         [[[-103.939, -116.779, -123.68 ],\n",
       "           [-103.939, -116.779, -123.68 ],\n",
       "           [-103.939, -116.779, -123.68 ],\n",
       "           ...,\n",
       "           [-103.939, -116.779, -123.68 ],\n",
       "           [-103.939, -116.779, -123.68 ],\n",
       "           [-103.939, -116.779, -123.68 ]],\n",
       "  \n",
       "          [[-103.939, -116.779, -123.68 ],\n",
       "           [-103.939, -116.779, -123.68 ],\n",
       "           [-103.939, -116.779, -123.68 ],\n",
       "           ...,\n",
       "           [-103.939, -116.779, -123.68 ],\n",
       "           [-103.939, -116.779, -123.68 ],\n",
       "           [-103.939, -116.779, -123.68 ]],\n",
       "  \n",
       "          [[-103.939, -116.779, -123.68 ],\n",
       "           [-103.939, -116.779, -123.68 ],\n",
       "           [-103.939, -116.779, -123.68 ],\n",
       "           ...,\n",
       "           [-103.939, -116.779, -123.68 ],\n",
       "           [-103.939, -116.779, -123.68 ],\n",
       "           [-103.939, -116.779, -123.68 ]],\n",
       "  \n",
       "          ...,\n",
       "  \n",
       "          [[-103.939, -116.779, -123.68 ],\n",
       "           [-103.939, -116.779, -123.68 ],\n",
       "           [-103.939, -116.779, -123.68 ],\n",
       "           ...,\n",
       "           [-103.939, -116.779, -123.68 ],\n",
       "           [-103.939, -116.779, -123.68 ],\n",
       "           [-103.939, -116.779, -123.68 ]],\n",
       "  \n",
       "          [[-103.939, -116.779, -123.68 ],\n",
       "           [-103.939, -116.779, -123.68 ],\n",
       "           [-103.939, -116.779, -123.68 ],\n",
       "           ...,\n",
       "           [-103.939, -116.779, -123.68 ],\n",
       "           [-103.939, -116.779, -123.68 ],\n",
       "           [-103.939, -116.779, -123.68 ]],\n",
       "  \n",
       "          [[-103.939, -116.779, -123.68 ],\n",
       "           [-103.939, -116.779, -123.68 ],\n",
       "           [-103.939, -116.779, -123.68 ],\n",
       "           ...,\n",
       "           [-103.939, -116.779, -123.68 ],\n",
       "           [-103.939, -116.779, -123.68 ],\n",
       "           [-103.939, -116.779, -123.68 ]]],\n",
       "  \n",
       "  \n",
       "         ...,\n",
       "  \n",
       "  \n",
       "         [[[-103.939, -116.779, -123.68 ],\n",
       "           [-103.939, -116.779, -123.68 ],\n",
       "           [-103.939, -116.779, -123.68 ],\n",
       "           ...,\n",
       "           [-103.939, -116.779, -123.68 ],\n",
       "           [-103.939, -116.779, -123.68 ],\n",
       "           [-103.939, -116.779, -123.68 ]],\n",
       "  \n",
       "          [[-103.939, -116.779, -123.68 ],\n",
       "           [-103.939, -116.779, -123.68 ],\n",
       "           [-103.939, -116.779, -123.68 ],\n",
       "           ...,\n",
       "           [-103.939, -116.779, -123.68 ],\n",
       "           [-103.939, -116.779, -123.68 ],\n",
       "           [-103.939, -116.779, -123.68 ]],\n",
       "  \n",
       "          [[-103.939, -116.779, -123.68 ],\n",
       "           [-103.939, -116.779, -123.68 ],\n",
       "           [-103.939, -116.779, -123.68 ],\n",
       "           ...,\n",
       "           [-103.939, -116.779, -123.68 ],\n",
       "           [-103.939, -116.779, -123.68 ],\n",
       "           [-103.939, -116.779, -123.68 ]],\n",
       "  \n",
       "          ...,\n",
       "  \n",
       "          [[-103.939, -116.779, -123.68 ],\n",
       "           [-103.939, -116.779, -123.68 ],\n",
       "           [-103.939, -116.779, -123.68 ],\n",
       "           ...,\n",
       "           [-103.939, -116.779, -123.68 ],\n",
       "           [-103.939, -116.779, -123.68 ],\n",
       "           [-103.939, -116.779, -123.68 ]],\n",
       "  \n",
       "          [[-103.939, -116.779, -123.68 ],\n",
       "           [-103.939, -116.779, -123.68 ],\n",
       "           [-103.939, -116.779, -123.68 ],\n",
       "           ...,\n",
       "           [-103.939, -116.779, -123.68 ],\n",
       "           [-103.939, -116.779, -123.68 ],\n",
       "           [-103.939, -116.779, -123.68 ]],\n",
       "  \n",
       "          [[-103.939, -116.779, -123.68 ],\n",
       "           [-103.939, -116.779, -123.68 ],\n",
       "           [-103.939, -116.779, -123.68 ],\n",
       "           ...,\n",
       "           [-103.939, -116.779, -123.68 ],\n",
       "           [-103.939, -116.779, -123.68 ],\n",
       "           [-103.939, -116.779, -123.68 ]]],\n",
       "  \n",
       "  \n",
       "         [[[-103.939, -116.779, -123.68 ],\n",
       "           [-103.939, -116.779, -123.68 ],\n",
       "           [-103.939, -116.779, -123.68 ],\n",
       "           ...,\n",
       "           [-103.939, -116.779, -123.68 ],\n",
       "           [-103.939, -116.779, -123.68 ],\n",
       "           [-103.939, -116.779, -123.68 ]],\n",
       "  \n",
       "          [[-103.939, -116.779, -123.68 ],\n",
       "           [-103.939, -116.779, -123.68 ],\n",
       "           [-103.939, -116.779, -123.68 ],\n",
       "           ...,\n",
       "           [-103.939, -116.779, -123.68 ],\n",
       "           [-103.939, -116.779, -123.68 ],\n",
       "           [-103.939, -116.779, -123.68 ]],\n",
       "  \n",
       "          [[-103.939, -116.779, -123.68 ],\n",
       "           [-103.939, -116.779, -123.68 ],\n",
       "           [-103.939, -116.779, -123.68 ],\n",
       "           ...,\n",
       "           [-103.939, -116.779, -123.68 ],\n",
       "           [-103.939, -116.779, -123.68 ],\n",
       "           [-103.939, -116.779, -123.68 ]],\n",
       "  \n",
       "          ...,\n",
       "  \n",
       "          [[-103.939, -116.779, -123.68 ],\n",
       "           [-103.939, -116.779, -123.68 ],\n",
       "           [-103.939, -116.779, -123.68 ],\n",
       "           ...,\n",
       "           [-103.939, -116.779, -123.68 ],\n",
       "           [-103.939, -116.779, -123.68 ],\n",
       "           [-103.939, -116.779, -123.68 ]],\n",
       "  \n",
       "          [[-103.939, -116.779, -123.68 ],\n",
       "           [-103.939, -116.779, -123.68 ],\n",
       "           [-103.939, -116.779, -123.68 ],\n",
       "           ...,\n",
       "           [-103.939, -116.779, -123.68 ],\n",
       "           [-103.939, -116.779, -123.68 ],\n",
       "           [-103.939, -116.779, -123.68 ]],\n",
       "  \n",
       "          [[-103.939, -116.779, -123.68 ],\n",
       "           [-103.939, -116.779, -123.68 ],\n",
       "           [-103.939, -116.779, -123.68 ],\n",
       "           ...,\n",
       "           [-103.939, -116.779, -123.68 ],\n",
       "           [-103.939, -116.779, -123.68 ],\n",
       "           [-103.939, -116.779, -123.68 ]]],\n",
       "  \n",
       "  \n",
       "         [[[-103.939, -116.779, -123.68 ],\n",
       "           [-103.939, -116.779, -123.68 ],\n",
       "           [-103.939, -116.779, -123.68 ],\n",
       "           ...,\n",
       "           [-103.939, -116.779, -123.68 ],\n",
       "           [-103.939, -116.779, -123.68 ],\n",
       "           [-103.939, -116.779, -123.68 ]],\n",
       "  \n",
       "          [[-103.939, -116.779, -123.68 ],\n",
       "           [-103.939, -116.779, -123.68 ],\n",
       "           [-103.939, -116.779, -123.68 ],\n",
       "           ...,\n",
       "           [-103.939, -116.779, -123.68 ],\n",
       "           [-103.939, -116.779, -123.68 ],\n",
       "           [-103.939, -116.779, -123.68 ]],\n",
       "  \n",
       "          [[-103.939, -116.779, -123.68 ],\n",
       "           [-103.939, -116.779, -123.68 ],\n",
       "           [-103.939, -116.779, -123.68 ],\n",
       "           ...,\n",
       "           [-103.939, -116.779, -123.68 ],\n",
       "           [-103.939, -116.779, -123.68 ],\n",
       "           [-103.939, -116.779, -123.68 ]],\n",
       "  \n",
       "          ...,\n",
       "  \n",
       "          [[-103.939, -116.779, -123.68 ],\n",
       "           [-103.939, -116.779, -123.68 ],\n",
       "           [-103.939, -116.779, -123.68 ],\n",
       "           ...,\n",
       "           [-103.939, -116.779, -123.68 ],\n",
       "           [-103.939, -116.779, -123.68 ],\n",
       "           [-103.939, -116.779, -123.68 ]],\n",
       "  \n",
       "          [[-103.939, -116.779, -123.68 ],\n",
       "           [-103.939, -116.779, -123.68 ],\n",
       "           [-103.939, -116.779, -123.68 ],\n",
       "           ...,\n",
       "           [-103.939, -116.779, -123.68 ],\n",
       "           [-103.939, -116.779, -123.68 ],\n",
       "           [-103.939, -116.779, -123.68 ]],\n",
       "  \n",
       "          [[-103.939, -116.779, -123.68 ],\n",
       "           [-103.939, -116.779, -123.68 ],\n",
       "           [-103.939, -116.779, -123.68 ],\n",
       "           ...,\n",
       "           [-103.939, -116.779, -123.68 ],\n",
       "           [-103.939, -116.779, -123.68 ],\n",
       "           [-103.939, -116.779, -123.68 ]]]], dtype=float32),\n",
       "  array([[ 0,  0,  2,  1, 34],\n",
       "         [ 0,  0,  2, 10, 12],\n",
       "         [ 0,  0,  0, 24, 23],\n",
       "         [ 6,  1, 15, 16,  4],\n",
       "         [ 0,  0,  2,  1,  4],\n",
       "         [ 0,  2, 10, 12, 23],\n",
       "         [ 0,  0,  0, 17,  4],\n",
       "         [ 0,  0,  0, 24, 23],\n",
       "         [ 0,  0,  2,  1, 33],\n",
       "         [ 0,  0,  2,  1,  3],\n",
       "         [ 0,  0,  0,  2,  1],\n",
       "         [ 0,  0,  0,  2,  1],\n",
       "         [ 0,  0,  0,  7,  8],\n",
       "         [ 0,  0,  0,  7,  9],\n",
       "         [ 0,  0, 10, 18, 19],\n",
       "         [ 0,  2, 10, 13,  4]]),\n",
       "  array([[ 0,  0,  0,  7,  9],\n",
       "         [ 0,  0,  2,  1,  3],\n",
       "         [ 0,  0,  0,  7,  8],\n",
       "         [ 0,  0,  0,  7,  9],\n",
       "         [ 0,  0,  2,  1,  3],\n",
       "         [ 0,  0,  0,  7,  9],\n",
       "         [ 0,  0,  2,  1,  3],\n",
       "         [ 0,  0,  2,  1,  3],\n",
       "         [ 0,  0,  0,  7,  9],\n",
       "         [ 0,  0,  2,  1,  4],\n",
       "         [ 0,  0,  0,  7,  8],\n",
       "         [ 0,  0,  0,  7,  8],\n",
       "         [ 0,  0,  2, 10, 12],\n",
       "         [ 0,  2, 10, 12, 23],\n",
       "         [ 0,  0,  2,  1,  3],\n",
       "         [ 0,  0,  2,  1,  3]])],\n",
       " array([[0., 0., 0., ..., 0., 0., 0.],\n",
       "        [0., 0., 0., ..., 0., 0., 0.],\n",
       "        [0., 0., 0., ..., 0., 0., 0.],\n",
       "        ...,\n",
       "        [0., 0., 0., ..., 0., 0., 0.],\n",
       "        [0., 0., 0., ..., 0., 0., 0.],\n",
       "        [0., 0., 0., ..., 0., 0., 0.]]))"
      ]
     },
     "execution_count": 71,
     "metadata": {},
     "output_type": "execute_result"
    }
   ],
   "source": [
    "next(gen(resize_imgs, padded_tokens))"
   ]
  },
  {
   "cell_type": "code",
   "execution_count": 72,
   "metadata": {},
   "outputs": [],
   "source": [
    "def model(vocab_size, lr=0.0001):\n",
    "    input_1 = Input(shape=(None, None, 3))\n",
    "    input_2 = Input(shape=(None,))\n",
    "    input_3 = Input(shape=(None,))\n",
    "\n",
    "    base_model = ResNet50(weights='imagenet', include_top=False)\n",
    "\n",
    "    x1 = base_model(input_1)\n",
    "    x1 = GlobalMaxPool2D()(x1)\n",
    "\n",
    "    dense_1 = Dense(vec_dim, activation=\"linear\", name=\"dense_image_1\")\n",
    "\n",
    "    x1 = dense_1(x1)\n",
    "\n",
    "    embed = Embedding(vocab_size, 300, weights=[emb_weights],  name=\"word2vec_embed\", trainable = False)\n",
    "\n",
    "    gru = Bidirectional(GRU(256, return_sequences=True), merge_mode= name=\"gru_1\")\n",
    "    dense_2 = Dense(vec_dim, activation=\"linear\", name=\"dense_text_1\")\n",
    "\n",
    "    x2 = embed(input_2)\n",
    "    x2 = gru(x2)\n",
    "    x2 = GlobalMaxPool1D()(x2)\n",
    "    x2 = dense_2(x2)\n",
    "\n",
    "    x3 = embed(input_3)\n",
    "    x3 = gru(x3)\n",
    "    x3 = GlobalMaxPool1D()(x3)\n",
    "    x3 = dense_2(x3)\n",
    "\n",
    "    _norm = Lambda(lambda x: K.l2_normalize(x, axis=-1))\n",
    "\n",
    "    x1 = _norm(x1)\n",
    "    x2 = _norm(x2)\n",
    "    x3 = _norm(x3)\n",
    "\n",
    "    x = Concatenate(axis=-1)([x1, x2, x3])\n",
    "\n",
    "    model = Model([input_1, input_2, input_3], x)\n",
    "\n",
    "    model.compile(loss=triplet_loss, optimizer=Adam(lr))\n",
    "\n",
    "    model.summary()\n",
    "\n",
    "    return model"
   ]
  },
  {
   "cell_type": "code",
   "execution_count": 73,
   "metadata": {},
   "outputs": [
    {
     "name": "stderr",
     "output_type": "stream",
     "text": [
      "/usr/local/lib/python3.6/site-packages/keras_applications/resnet50.py:265: UserWarning: The output shape of `ResNet50(include_top=False)` has been changed since Keras 2.2.0.\n",
      "  warnings.warn('The output shape of `ResNet50(include_top=False)` '\n"
     ]
    },
    {
     "name": "stdout",
     "output_type": "stream",
     "text": [
      "__________________________________________________________________________________________________\n",
      "Layer (type)                    Output Shape         Param #     Connected to                     \n",
      "==================================================================================================\n",
      "input_2 (InputLayer)            (None, None)         0                                            \n",
      "__________________________________________________________________________________________________\n",
      "input_3 (InputLayer)            (None, None)         0                                            \n",
      "__________________________________________________________________________________________________\n",
      "word2vec_embed (Embedding)      (None, None, 300)    10800       input_2[0][0]                    \n",
      "                                                                 input_3[0][0]                    \n",
      "__________________________________________________________________________________________________\n",
      "input_1 (InputLayer)            (None, None, None, 3 0                                            \n",
      "__________________________________________________________________________________________________\n",
      "spatial_dropout1d (SpatialDropo (None, None, 300)    0           word2vec_embed[0][0]             \n",
      "__________________________________________________________________________________________________\n",
      "spatial_dropout1d_1 (SpatialDro (None, None, 300)    0           word2vec_embed[1][0]             \n",
      "__________________________________________________________________________________________________\n",
      "resnet50 (Model)                (None, None, None, 2 23587712    input_1[0][0]                    \n",
      "__________________________________________________________________________________________________\n",
      "gru_1 (Bidirectional)           (None, None, 512)    855552      spatial_dropout1d[0][0]          \n",
      "                                                                 spatial_dropout1d_1[0][0]        \n",
      "__________________________________________________________________________________________________\n",
      "global_max_pooling2d (GlobalMax (None, 2048)         0           resnet50[1][0]                   \n",
      "__________________________________________________________________________________________________\n",
      "global_max_pooling1d (GlobalMax (None, 512)          0           gru_1[0][0]                      \n",
      "__________________________________________________________________________________________________\n",
      "global_max_pooling1d_1 (GlobalM (None, 512)          0           gru_1[1][0]                      \n",
      "__________________________________________________________________________________________________\n",
      "dense_image_1 (Dense)           (None, 50)           102450      global_max_pooling2d[0][0]       \n",
      "__________________________________________________________________________________________________\n",
      "dense_text_1 (Dense)            (None, 50)           25650       global_max_pooling1d[0][0]       \n",
      "                                                                 global_max_pooling1d_1[0][0]     \n",
      "__________________________________________________________________________________________________\n",
      "lambda (Lambda)                 (None, 50)           0           dense_image_1[0][0]              \n",
      "                                                                 dense_text_1[0][0]               \n",
      "                                                                 dense_text_1[1][0]               \n",
      "__________________________________________________________________________________________________\n",
      "concatenate (Concatenate)       (None, 150)          0           lambda[0][0]                     \n",
      "                                                                 lambda[1][0]                     \n",
      "                                                                 lambda[2][0]                     \n",
      "==================================================================================================\n",
      "Total params: 24,582,164\n",
      "Trainable params: 24,518,244\n",
      "Non-trainable params: 63,920\n",
      "__________________________________________________________________________________________________\n"
     ]
    }
   ],
   "source": [
    "model = model(vocab_size = vocab_size + 1, lr=0.000001)"
   ]
  },
  {
   "cell_type": "code",
   "execution_count": 75,
   "metadata": {},
   "outputs": [],
   "source": [
    "#Split the data into train and val\n",
    "from sklearn.model_selection import train_test_split\n",
    "\n",
    "idx_list = list(range(len(resize_imgs)))\n",
    "\n",
    "train_idx, val_idx = train_test_split(idx_list, test_size = 0.8, shuffle = True, random_state = 2020)\n",
    "\n",
    "train_imgs, train_p_captions = [resize_imgs[i] for i in train_idx], [padded_tokens[i] for i in train_idx]\n",
    "val_imgs, val_p_captions = [resize_imgs[i] for i in val_idx], [padded_tokens[i] for i in val_idx]"
   ]
  },
  {
   "cell_type": "code",
   "execution_count": 76,
   "metadata": {
    "scrolled": true
   },
   "outputs": [
    {
     "name": "stdout",
     "output_type": "stream",
     "text": [
      "Epoch 1/100\n",
      "1230/1231 [============================>.] - ETA: 0s - loss: 0.6846\n",
      "Epoch 00001: val_loss improved from inf to 0.66841, saving model to model_triplet_fbumper_100k_bonnet_32.h5\n",
      "1231/1231 [==============================] - 1252s 1s/step - loss: 0.6847 - val_loss: 0.6684\n",
      "Epoch 2/100\n",
      "1230/1231 [============================>.] - ETA: 0s - loss: 0.6531\n",
      "Epoch 00002: val_loss improved from 0.66841 to 0.62445, saving model to model_triplet_fbumper_100k_bonnet_32.h5\n",
      "1231/1231 [==============================] - 1228s 997ms/step - loss: 0.6530 - val_loss: 0.6244\n",
      "Epoch 3/100\n",
      "1230/1231 [============================>.] - ETA: 0s - loss: 0.6213\n",
      "Epoch 00003: val_loss improved from 0.62445 to 0.59758, saving model to model_triplet_fbumper_100k_bonnet_32.h5\n",
      "1231/1231 [==============================] - 1219s 991ms/step - loss: 0.6214 - val_loss: 0.5976\n",
      "Epoch 4/100\n",
      "1230/1231 [============================>.] - ETA: 0s - loss: 0.5890\n",
      "Epoch 00004: val_loss improved from 0.59758 to 0.56358, saving model to model_triplet_fbumper_100k_bonnet_32.h5\n",
      "1231/1231 [==============================] - 1229s 999ms/step - loss: 0.5890 - val_loss: 0.5636\n",
      "Epoch 5/100\n",
      "1230/1231 [============================>.] - ETA: 0s - loss: 0.5598\n",
      "Epoch 00005: val_loss improved from 0.56358 to 0.53968, saving model to model_triplet_fbumper_100k_bonnet_32.h5\n",
      "1231/1231 [==============================] - 1226s 996ms/step - loss: 0.5598 - val_loss: 0.5397\n",
      "Epoch 6/100\n",
      "1230/1231 [============================>.] - ETA: 0s - loss: 0.5324\n",
      "Epoch 00006: val_loss improved from 0.53968 to 0.52276, saving model to model_triplet_fbumper_100k_bonnet_32.h5\n",
      "1231/1231 [==============================] - 1220s 991ms/step - loss: 0.5325 - val_loss: 0.5228\n",
      "Epoch 7/100\n",
      "1230/1231 [============================>.] - ETA: 0s - loss: 0.5071\n",
      "Epoch 00007: val_loss improved from 0.52276 to 0.51837, saving model to model_triplet_fbumper_100k_bonnet_32.h5\n",
      "1231/1231 [==============================] - 1227s 997ms/step - loss: 0.5074 - val_loss: 0.5184\n",
      "Epoch 8/100\n",
      "1230/1231 [============================>.] - ETA: 0s - loss: 0.4940\n",
      "Epoch 00008: val_loss improved from 0.51837 to 0.50581, saving model to model_triplet_fbumper_100k_bonnet_32.h5\n",
      "1231/1231 [==============================] - 1219s 990ms/step - loss: 0.4941 - val_loss: 0.5058\n",
      "Epoch 9/100\n",
      "1230/1231 [============================>.] - ETA: 0s - loss: 0.4781\n",
      "Epoch 00009: val_loss improved from 0.50581 to 0.50242, saving model to model_triplet_fbumper_100k_bonnet_32.h5\n",
      "1231/1231 [==============================] - 1213s 985ms/step - loss: 0.4780 - val_loss: 0.5024\n",
      "Epoch 10/100\n",
      "1230/1231 [============================>.] - ETA: 0s - loss: 0.4680\n",
      "Epoch 00010: val_loss improved from 0.50242 to 0.49817, saving model to model_triplet_fbumper_100k_bonnet_32.h5\n",
      "1231/1231 [==============================] - 1228s 998ms/step - loss: 0.4680 - val_loss: 0.4982\n",
      "Epoch 11/100\n",
      "1230/1231 [============================>.] - ETA: 0s - loss: 0.4554\n",
      "Epoch 00011: val_loss improved from 0.49817 to 0.49286, saving model to model_triplet_fbumper_100k_bonnet_32.h5\n",
      "1231/1231 [==============================] - 1225s 995ms/step - loss: 0.4555 - val_loss: 0.4929\n",
      "Epoch 12/100\n",
      "1230/1231 [============================>.] - ETA: 0s - loss: 0.4462\n",
      "Epoch 00012: val_loss improved from 0.49286 to 0.49155, saving model to model_triplet_fbumper_100k_bonnet_32.h5\n",
      "1231/1231 [==============================] - 1226s 996ms/step - loss: 0.4463 - val_loss: 0.4915\n",
      "Epoch 13/100\n",
      "1230/1231 [============================>.] - ETA: 0s - loss: 0.4360\n",
      "Epoch 00013: val_loss improved from 0.49155 to 0.49097, saving model to model_triplet_fbumper_100k_bonnet_32.h5\n",
      "1231/1231 [==============================] - 1225s 995ms/step - loss: 0.4360 - val_loss: 0.4910\n",
      "Epoch 14/100\n",
      "1230/1231 [============================>.] - ETA: 0s - loss: 0.4298\n",
      "Epoch 00014: val_loss improved from 0.49097 to 0.48789, saving model to model_triplet_fbumper_100k_bonnet_32.h5\n",
      "1231/1231 [==============================] - 1214s 986ms/step - loss: 0.4298 - val_loss: 0.4879\n",
      "Epoch 15/100\n",
      "1230/1231 [============================>.] - ETA: 0s - loss: 0.4151\n",
      "Epoch 00015: val_loss improved from 0.48789 to 0.48688, saving model to model_triplet_fbumper_100k_bonnet_32.h5\n",
      "1231/1231 [==============================] - 1211s 984ms/step - loss: 0.4151 - val_loss: 0.4869\n",
      "Epoch 16/100\n",
      "1230/1231 [============================>.] - ETA: 0s - loss: 0.4060\n",
      "Epoch 00016: val_loss did not improve from 0.48688\n",
      "1231/1231 [==============================] - 1210s 983ms/step - loss: 0.4059 - val_loss: 0.4897\n",
      "Epoch 17/100\n",
      "1230/1231 [============================>.] - ETA: 0s - loss: 0.3962\n",
      "Epoch 00017: val_loss did not improve from 0.48688\n",
      "1231/1231 [==============================] - 1204s 978ms/step - loss: 0.3960 - val_loss: 0.4908\n",
      "Epoch 18/100\n",
      "1230/1231 [============================>.] - ETA: 0s - loss: 0.3834\n",
      "Epoch 00018: val_loss did not improve from 0.48688\n",
      "1231/1231 [==============================] - 1210s 983ms/step - loss: 0.3836 - val_loss: 0.4906\n",
      "Epoch 19/100\n",
      "1230/1231 [============================>.] - ETA: 0s - loss: 0.3750\n",
      "Epoch 00019: val_loss did not improve from 0.48688\n",
      "1231/1231 [==============================] - 1209s 982ms/step - loss: 0.3749 - val_loss: 0.4935\n",
      "Epoch 20/100\n",
      "1230/1231 [============================>.] - ETA: 0s - loss: 0.3647\n",
      "Epoch 00020: val_loss did not improve from 0.48688\n",
      "1231/1231 [==============================] - 1214s 986ms/step - loss: 0.3646 - val_loss: 0.4930\n",
      "Epoch 00020: early stopping\n"
     ]
    }
   ],
   "source": [
    "file_path = \"model_triplet_fbumper_100k_random.h5\"\n",
    "BATCH_SIZE = 32\n",
    "\n",
    "checkpoint = ModelCheckpoint(file_path, monitor='val_loss', verbose=1, save_best_only=True, mode='min')\n",
    "es = EarlyStopping(monitor='val_loss', mode='min', verbose=1, patience=5)\n",
    "reduce_ = ReduceLROnPlateau(monitor=\"val_loss\", mode='min', patience=5, min_lr=1e-7)\n",
    "\n",
    "history = model.fit_generator(gen_1(train_imgs, train_p_captions, batch_size=BATCH_SIZE),\n",
    "                    use_multiprocessing=False, max_queue_size = 100,\n",
    "                    validation_data=gen_1(val_imgs, val_p_captions, batch_size=BATCH_SIZE), epochs=100,\n",
    "                    verbose=1, workers=10, steps_per_epoch=np.ceil(len(train_imgs)/BATCH_SIZE), validation_steps=np.ceil(len(val_imgs)/BATCH_SIZE), callbacks=[es, checkpoint, reduce_])\n",
    "model.save_weights(file_path)"
   ]
  },
  {
   "cell_type": "code",
   "execution_count": 78,
   "metadata": {},
   "outputs": [
    {
     "name": "stdout",
     "output_type": "stream",
     "text": [
      "dict_keys(['val_loss', 'loss', 'lr'])\n"
     ]
    }
   ],
   "source": [
    "print(history.history.keys())"
   ]
  },
  {
   "cell_type": "code",
   "execution_count": 79,
   "metadata": {},
   "outputs": [
    {
     "data": {
      "text/plain": [
       "[<matplotlib.lines.Line2D at 0x7f97bf395828>]"
      ]
     },
     "execution_count": 79,
     "metadata": {},
     "output_type": "execute_result"
    },
    {
     "data": {
      "image/png": "[encoded data removed]",
      "text/plain": [
       "<Figure size 432x288 with 1 Axes>"
      ]
     },
     "metadata": {},
     "output_type": "display_data"
    }
   ],
   "source": [
    "plt.plot(history.history['val_loss'])"
   ]
  },
  {
   "cell_type": "code",
   "execution_count": 116,
   "metadata": {},
   "outputs": [],
   "source": [
    "def image_model(lr=0.0001):\n",
    "    input_1 = Input(shape=(None, None, 3))\n",
    "\n",
    "    base_model = ResNet50(weights='imagenet', include_top=False)\n",
    "\n",
    "    x1 = base_model(input_1)\n",
    "    x1 = GlobalMaxPool2D()(x1)\n",
    "\n",
    "    dense_1 = Dense(vec_dim, activation=\"linear\", name=\"dense_image_1\")\n",
    "\n",
    "    x1 = dense_1(x1)\n",
    "\n",
    "    _norm = Lambda(lambda x: K.l2_normalize(x, axis=-1))\n",
    "\n",
    "    x1 = _norm(x1)\n",
    "\n",
    "    model = Model([input_1], x1)\n",
    "\n",
    "    model.compile(loss=\"mae\", optimizer=Adam(lr))\n",
    "\n",
    "    model.summary()\n",
    "\n",
    "    return model\n",
    "\n",
    "def text_model(vocab_size, lr=0.0001):\n",
    "    input_2 = Input(shape=(None,))\n",
    "\n",
    "    embed = Embedding(vocab_size, 300, weights=[emb_weights],  name=\"word2vec_embed\", trainable = False)\n",
    "    gru = Bidirectional(GRU(256, return_sequences=True), name=\"gru_1\")\n",
    "    dense_2 = Dense(vec_dim, activation=\"linear\", name=\"dense_text_1\")\n",
    "\n",
    "    x2 = embed(input_2)\n",
    "    x2 = gru(x2)\n",
    "    x2 = GlobalMaxPool1D()(x2)\n",
    "    x2 = dense_2(x2)\n",
    "\n",
    "    _norm = Lambda(lambda x: K.l2_normalize(x, axis=-1))\n",
    "\n",
    "    x2 = _norm(x2)\n",
    "\n",
    "    model = Model([input_2], x2)\n",
    "\n",
    "    model.compile(loss=\"mae\", optimizer=Adam(lr))\n",
    "\n",
    "    model.summary()\n",
    "\n",
    "    return model"
   ]
  },
  {
   "cell_type": "code",
   "execution_count": 117,
   "metadata": {},
   "outputs": [
    {
     "name": "stdout",
     "output_type": "stream",
     "text": [
      "_________________________________________________________________\n",
      "Layer (type)                 Output Shape              Param #   \n",
      "=================================================================\n",
      "input_12 (InputLayer)        (None, None)              0         \n",
      "_________________________________________________________________\n",
      "word2vec_embed (Embedding)   (None, None, 300)         10200     \n",
      "_________________________________________________________________\n",
      "gru_1 (Bidirectional)        (None, None, 512)         855552    \n",
      "_________________________________________________________________\n",
      "global_max_pooling1d_5 (Glob (None, 512)               0         \n",
      "_________________________________________________________________\n",
      "dense_text_1 (Dense)         (None, 50)                25650     \n",
      "_________________________________________________________________\n",
      "lambda_4 (Lambda)            (None, 50)                0         \n",
      "=================================================================\n",
      "Total params: 891,402\n",
      "Trainable params: 881,202\n",
      "Non-trainable params: 10,200\n",
      "_________________________________________________________________\n"
     ]
    },
    {
     "name": "stderr",
     "output_type": "stream",
     "text": [
      "/usr/local/lib/python3.6/site-packages/keras_applications/resnet50.py:265: UserWarning: The output shape of `ResNet50(include_top=False)` has been changed since Keras 2.2.0.\n",
      "  warnings.warn('The output shape of `ResNet50(include_top=False)` '\n"
     ]
    },
    {
     "name": "stdout",
     "output_type": "stream",
     "text": [
      "_________________________________________________________________\n",
      "Layer (type)                 Output Shape              Param #   \n",
      "=================================================================\n",
      "input_13 (InputLayer)        (None, None, None, 3)     0         \n",
      "_________________________________________________________________\n",
      "resnet50 (Model)             (None, None, None, 2048)  23587712  \n",
      "_________________________________________________________________\n",
      "global_max_pooling2d_3 (Glob (None, 2048)              0         \n",
      "_________________________________________________________________\n",
      "dense_image_1 (Dense)        (None, 50)                102450    \n",
      "_________________________________________________________________\n",
      "lambda_5 (Lambda)            (None, 50)                0         \n",
      "=================================================================\n",
      "Total params: 23,690,162\n",
      "Trainable params: 23,637,042\n",
      "Non-trainable params: 53,120\n",
      "_________________________________________________________________\n"
     ]
    }
   ],
   "source": [
    "file_path = \"model_triplet_fbumper_100k_batch_32.h5\"\n",
    "\n",
    "t_model = text_model(vocab_size = vocab_size + 1)\n",
    "i_model = image_model()\n",
    "\n",
    "t_model.load_weights(file_path, by_name=True)\n",
    "i_model.load_weights(file_path, by_name=True)"
   ]
  },
  {
   "cell_type": "code",
   "execution_count": 82,
   "metadata": {},
   "outputs": [],
   "source": [
    "test_images = clean_fbumper['image_id'].values"
   ]
  },
  {
   "cell_type": "code",
   "execution_count": 83,
   "metadata": {},
   "outputs": [],
   "source": [
    "test_set_data = data.loc[data['set'] == 2, 'image_id'].values"
   ]
  },
  {
   "cell_type": "code",
   "execution_count": null,
   "metadata": {},
   "outputs": [],
   "source": [
    "import shutil\n",
    "\n",
    "image_filepath = '/data/data_for_thevin/data_for_thevin/images'\n",
    "\n",
    "dest = os.path.join(\"/data/thevin/\",'fbumper_test_50k')\n",
    "if not os.path.exists(dest):\n",
    "    os.mkdir(dest)\n",
    "\n",
    "for i, name in enumerate(test_images):\n",
    "    if name in test_set_data:\n",
    "        path = os.path.join(image_filepath, name + '.jpg')\n",
    "        shutil.copy(path, dest)\n",
    "    clear_output(True)\n",
    "    print(\"Completed {}/{}\".format(i + 1, len(test_images)))"
   ]
  },
  {
   "cell_type": "code",
   "execution_count": 84,
   "metadata": {},
   "outputs": [
    {
     "name": "stdout",
     "output_type": "stream",
     "text": [
      "Completed 22202/22202\n"
     ]
    }
   ],
   "source": [
    "test_images = load_images_from_folder(os.path.join(\"/data/thevin/\",'fbumper_test_50k'))"
   ]
  },
  {
   "cell_type": "code",
   "execution_count": 85,
   "metadata": {},
   "outputs": [],
   "source": [
    "test_image_names = [x[:-4] for x in list(test_images.keys())]"
   ]
  },
  {
   "cell_type": "code",
   "execution_count": 86,
   "metadata": {},
   "outputs": [],
   "source": [
    "fbumper_df = clean_fbumper.set_index('image_id').loc[test_image_names, 'fbumper:replace'].reset_index(inplace=False)\n",
    "test_ground_truths = list(fbumper_df['fbumper:replace'])"
   ]
  },
  {
   "cell_type": "code",
   "execution_count": 87,
   "metadata": {},
   "outputs": [],
   "source": [
    "test_images_values = list(test_images.values())"
   ]
  },
  {
   "cell_type": "code",
   "execution_count": 88,
   "metadata": {},
   "outputs": [
    {
     "name": "stderr",
     "output_type": "stream",
     "text": [
      "100%|██████████| 22202/22202 [01:13<00:00, 302.85it/s]\n"
     ]
    }
   ],
   "source": [
    "test_imgs = [pad_and_resize_imgs(x) for x in tqdm(test_images_values, position = 0, leave = True)]"
   ]
  },
  {
   "cell_type": "code",
   "execution_count": 118,
   "metadata": {
    "scrolled": true
   },
   "outputs": [
    {
     "name": "stderr",
     "output_type": "stream",
     "text": [
      "174it [02:00,  1.44it/s]                         \n"
     ]
    }
   ],
   "source": [
    "from tqdm import tqdm\n",
    "\n",
    "\n",
    "target_image_encoding = []\n",
    "\n",
    "for img in tqdm(chunker(test_imgs, 128), total=len(test_imgs)//128, position = 0, leave = True):\n",
    "    image_vecs = np.asarray([preprocess_input(img[i]) for i in range(len(img))])\n",
    "    e = i_model.predict(image_vecs)\n",
    "    target_image_encoding += e.tolist()"
   ]
  },
  {
   "cell_type": "code",
   "execution_count": 119,
   "metadata": {},
   "outputs": [],
   "source": [
    "query_text = ['cover frt bumper', 'back bumper']\n",
    "\n",
    "cleaned_text = clean_punc(query_text)\n",
    "query_tokens = tokenizer(cleaned_text)\n",
    "pad_query_tokens = pad_tokens(query_tokens, MAX_SEQ_LEN)\n",
    "\n",
    "target_text_encoding = t_model.predict(np.asarray(pad_query_tokens), verbose = 2)"
   ]
  },
  {
   "cell_type": "code",
   "execution_count": 120,
   "metadata": {},
   "outputs": [
    {
     "data": {
      "text/plain": [
       "(2, 50)"
      ]
     },
     "execution_count": 120,
     "metadata": {},
     "output_type": "execute_result"
    }
   ],
   "source": [
    "np.shape(target_text_encoding)"
   ]
  },
  {
   "cell_type": "code",
   "execution_count": 121,
   "metadata": {},
   "outputs": [],
   "source": [
    "from sklearn.neighbors import NearestNeighbors\n",
    "\n",
    "nn = NearestNeighbors(n_jobs=-1, n_neighbors=1000)\n",
    "nn.fit(target_image_encoding)\n",
    "\n",
    "distances_, preds_ = nn.kneighbors(target_text_encoding, return_distance=True)"
   ]
  },
  {
   "cell_type": "code",
   "execution_count": 122,
   "metadata": {},
   "outputs": [],
   "source": [
    "preds = np.asarray([x[:12] for x in preds_])\n",
    "distances = np.asarray([x[:12] for x in distances_])"
   ]
  },
  {
   "cell_type": "code",
   "execution_count": null,
   "metadata": {},
   "outputs": [],
   "source": [
    "most_similar_images = []\n",
    "query_image = []\n",
    "count = 0\n",
    "\n",
    "\n",
    "for i in range(len(preds)):\n",
    "    pred_imgs = [test_imgs[x] for x in preds[i]]\n",
    "    most_similar_images.append(pred_imgs)\n",
    "\n",
    "for q, all_images in zip(query_text, most_similar_images):\n",
    "    fig, axes = plt.subplots(4, 3, figsize = (12, 13))\n",
    "\n",
    "    for idx, img_path in enumerate(all_images):\n",
    "        i = idx // 3  # Get subplot row\n",
    "        j = idx % 3  # Get subplot column\n",
    "        axes[i, j].imshow(img_path, cmap = 'gray')\n",
    "        axes[i, j].set_title('Distance {}'.format(distances[count, idx]))\n",
    "\n",
    "    count += 1\n",
    "    plt.subplots_adjust(wspace=0.2, hspace=0.2)\n",
    "    fig.suptitle('Query : %s'%q)\n",
    "    \n",
    "    #plt.savefig('{}_cat_common_50.png'.format(q), dpi = 1500)\n"
   ]
  },
  {
   "cell_type": "markdown",
   "metadata": {},
   "source": [
    "# Reverse Search"
   ]
  },
  {
   "cell_type": "code",
   "execution_count": null,
   "metadata": {
    "scrolled": true
   },
   "outputs": [],
   "source": [
    "len(common_text_compr)"
   ]
  },
  {
   "cell_type": "code",
   "execution_count": 103,
   "metadata": {
    "scrolled": true
   },
   "outputs": [
    {
     "data": {
      "text/plain": [
       "['front bumper',\n",
       " 'front bumper auxiliary',\n",
       " 'left head lamp',\n",
       " 'grille',\n",
       " 'right head lamp',\n",
       " 'back bumper',\n",
       " 'front left wing auxiliary',\n",
       " 'front right wing auxiliary',\n",
       " 'bonnet',\n",
       " 'front left wing',\n",
       " 'front right wing',\n",
       " 'bonnet auxiliary',\n",
       " 'front left door auxiliary',\n",
       " 'front bumper impact bar',\n",
       " 'front right door auxiliary',\n",
       " 'front bumper impact bar auxiliary ',\n",
       " 'back bumper auxiliary',\n",
       " 'brwing auxiliary',\n",
       " 'right mirror',\n",
       " 'right rocker panel auxiliary',\n",
       " 'blwing auxiliary',\n",
       " 'left mirror',\n",
       " 'front left door',\n",
       " 'roof moulding',\n",
       " 'grille auxiliary',\n",
       " 'front right door',\n",
       " 'bootlid auxiliary',\n",
       " 'left rocker panel auxiliary',\n",
       " 'rldoor auxiliary',\n",
       " 'rrdoor auxiliary',\n",
       " 'bootlid',\n",
       " 'front bumper lfoglamp',\n",
       " 'front bumper rfoglamp',\n",
       " 'brwing',\n",
       " 'front left door moulding',\n",
       " 'blwing',\n",
       " 'rtaillamp',\n",
       " 'ltaillamp',\n",
       " 'roof auxiliary',\n",
       " 'front right door moulding',\n",
       " 'rldoor',\n",
       " 'right head lamp auxiliary',\n",
       " 'rrdoor',\n",
       " 'rbodypanel',\n",
       " 'right mirror cover',\n",
       " 'left mirror cover',\n",
       " 'back bumper impact bar auxiliary ',\n",
       " 'back bumper impact bar']"
      ]
     },
     "execution_count": 103,
     "metadata": {},
     "output_type": "execute_result"
    }
   ],
   "source": [
    "common_text_compr"
   ]
  },
  {
   "cell_type": "code",
   "execution_count": null,
   "metadata": {},
   "outputs": [],
   "source": [
    "fbumper_syn"
   ]
  },
  {
   "cell_type": "code",
   "execution_count": 124,
   "metadata": {},
   "outputs": [],
   "source": [
    "text = ['cover front bumper', 'back bumper']\n",
    "\n",
    "cleaned_text = clean_punc(text)\n",
    "query_tokens = tokenizer(cleaned_text)\n",
    "padded_tokens_ = pad_tokens(query_tokens, MAX_SEQ_LEN)\n",
    "\n",
    "text_encodings = t_model.predict(np.asarray(padded_tokens_), verbose = 2)"
   ]
  },
  {
   "cell_type": "code",
   "execution_count": 96,
   "metadata": {},
   "outputs": [],
   "source": [
    "target_image_encoding = []\n",
    "\n",
    "query_images = test_imgs\n",
    "\n",
    "image_vecs = np.asarray([preprocess_input(query_images[i]) for i in range(len(query_images))])\n",
    "e = i_model.predict(image_vecs)\n",
    "target_image_encoding += e.tolist()"
   ]
  },
  {
   "cell_type": "code",
   "execution_count": 125,
   "metadata": {},
   "outputs": [],
   "source": [
    "nn_text = NearestNeighbors(n_jobs=1, n_neighbors=len(text))\n",
    "nn_text.fit(text_encodings)\n",
    "\n",
    "distances_text, preds_text = nn_text.kneighbors(target_image_encoding, return_distance=True)"
   ]
  },
  {
   "cell_type": "code",
   "execution_count": 126,
   "metadata": {},
   "outputs": [],
   "source": [
    "all_label_distances = np.zeros_like(distances_text)\n",
    "\n",
    "for i, (dist, pred) in enumerate(zip(distances_text, preds_text)):\n",
    "    label_distances = [x for y, x in sorted(zip(pred, dist))]\n",
    "    all_label_distances[i] = label_distances"
   ]
  },
  {
   "cell_type": "code",
   "execution_count": 127,
   "metadata": {},
   "outputs": [
    {
     "data": {
      "text/plain": [
       "array([1.13927775, 1.14918166, 1.2091933 , ..., 1.30655111, 1.10928815,\n",
       "       0.98397407])"
      ]
     },
     "execution_count": 127,
     "metadata": {},
     "output_type": "execute_result"
    }
   ],
   "source": [
    "all_label_distances[:, 0]"
   ]
  },
  {
   "cell_type": "code",
   "execution_count": 128,
   "metadata": {},
   "outputs": [],
   "source": [
    "damaged_distances = []\n",
    "undamaged_distances = []\n",
    "\n",
    "for i, x in enumerate(test_ground_truths):\n",
    "    if x == 1:\n",
    "        damaged_distances.append(all_label_distances[i, 0])\n",
    "    else:\n",
    "        undamaged_distances.append(all_label_distances[i, 0])\n",
    "        "
   ]
  },
  {
   "cell_type": "code",
   "execution_count": 129,
   "metadata": {},
   "outputs": [
    {
     "data": {
      "text/plain": [
       "(17698, 4504)"
      ]
     },
     "execution_count": 129,
     "metadata": {},
     "output_type": "execute_result"
    }
   ],
   "source": [
    "len(damaged_distances), len(undamaged_distances)"
   ]
  },
  {
   "cell_type": "code",
   "execution_count": 130,
   "metadata": {},
   "outputs": [
    {
     "data": {
      "image/png": "[encoded data removed]",
      "text/plain": [
       "<Figure size 432x288 with 1 Axes>"
      ]
     },
     "metadata": {},
     "output_type": "display_data"
    },
    {
     "data": {
      "text/plain": [
       "count    17698.000000\n",
       "mean         1.106126\n",
       "std          0.173395\n",
       "min          0.738304\n",
       "25%          0.979299\n",
       "50%          1.055685\n",
       "75%          1.197939\n",
       "max          1.682309\n",
       "dtype: float64"
      ]
     },
     "execution_count": 130,
     "metadata": {},
     "output_type": "execute_result"
    }
   ],
   "source": [
    "pd.Series(damaged_distances).hist(bins = 20)\n",
    "plt.show()\n",
    "pd.Series(damaged_distances).describe()"
   ]
  },
  {
   "cell_type": "code",
   "execution_count": 131,
   "metadata": {},
   "outputs": [
    {
     "data": {
      "image/png": "[encoded data removed]",
      "text/plain": [
       "<Figure size 432x288 with 1 Axes>"
      ]
     },
     "metadata": {},
     "output_type": "display_data"
    },
    {
     "data": {
      "text/plain": [
       "count    4504.000000\n",
       "mean        1.307791\n",
       "std         0.177968\n",
       "min         0.796254\n",
       "25%         1.182200\n",
       "50%         1.333247\n",
       "75%         1.450097\n",
       "max         1.685014\n",
       "dtype: float64"
      ]
     },
     "execution_count": 131,
     "metadata": {},
     "output_type": "execute_result"
    }
   ],
   "source": [
    "pd.Series(undamaged_distances).hist(bins = 20)\n",
    "plt.show()\n",
    "pd.Series(undamaged_distances).describe()"
   ]
  },
  {
   "cell_type": "code",
   "execution_count": 132,
   "metadata": {},
   "outputs": [],
   "source": [
    "def pred_mapping(distances, preds, threshold):\n",
    "    binary_preds = []\n",
    "    for (dist, pred) in zip(distances, preds):\n",
    "        label_distances = [x for y, x in sorted(zip(pred, dist))]\n",
    "        fbumper_dist = label_distances[0]\n",
    "        if fbumper_dist <= threshold:\n",
    "            binary_preds.append(1)\n",
    "        else:\n",
    "            binary_preds.append(0)\n",
    "    return binary_preds"
   ]
  },
  {
   "cell_type": "code",
   "execution_count": 145,
   "metadata": {},
   "outputs": [],
   "source": [
    "binary_preds = pred_mapping(distances_text, preds_text, 1.2)"
   ]
  },
  {
   "cell_type": "code",
   "execution_count": 146,
   "metadata": {},
   "outputs": [],
   "source": [
    "pred_damaged = []\n",
    "pred_undamaged = []\n",
    "\n",
    "for i, x in enumerate(test_ground_truths):\n",
    "    if x == 1:\n",
    "        pred_damaged.append(binary_preds[i])\n",
    "    else:\n",
    "        pred_undamaged.append(binary_preds[i])"
   ]
  },
  {
   "cell_type": "code",
   "execution_count": 147,
   "metadata": {},
   "outputs": [
    {
     "data": {
      "text/plain": [
       "0.7466894874335646"
      ]
     },
     "execution_count": 147,
     "metadata": {},
     "output_type": "execute_result"
    }
   ],
   "source": [
    "from sklearn.metrics import accuracy_score\n",
    "\n",
    "accuracy_score(y_pred=binary_preds, y_true=test_ground_truths)"
   ]
  },
  {
   "cell_type": "code",
   "execution_count": 148,
   "metadata": {},
   "outputs": [
    {
     "name": "stdout",
     "output_type": "stream",
     "text": [
      "0.7524014012882811 Damaged Accuracy \n",
      "0.7242451154529307 Undamaged Accuracy\n"
     ]
    }
   ],
   "source": [
    "print('{} Damaged Accuracy \\n{} Undamaged Accuracy'.format(accuracy_score(y_pred = pred_damaged, y_true= [1]*len(pred_damaged)),\n",
    "                                                           accuracy_score(y_pred = pred_undamaged, y_true= [0]*len(pred_undamaged))))"
   ]
  },
  {
   "cell_type": "code",
   "execution_count": 149,
   "metadata": {},
   "outputs": [
    {
     "data": {
      "text/plain": [
       "0.7383232583706059"
      ]
     },
     "execution_count": 149,
     "metadata": {},
     "output_type": "execute_result"
    }
   ],
   "source": [
    "np.mean([accuracy_score(y_pred = pred_damaged, y_true= [1]*len(pred_damaged)),\n",
    "                                                           accuracy_score(y_pred = pred_undamaged, y_true= [0]*len(pred_undamaged))])"
   ]
  },
  {
   "cell_type": "code",
   "execution_count": 154,
   "metadata": {},
   "outputs": [
    {
     "name": "stdout",
     "output_type": "stream",
     "text": [
      "0.7383232583706059 1.2\n"
     ]
    }
   ],
   "source": [
    "threshold_values = [1.1, 1.2, 1.3, 1.4, 1.5]\n",
    "max_acc = 0\n",
    "max_acc_thresh = 0\n",
    "\n",
    "for i in threshold_values:\n",
    "    binary_preds = pred_mapping(distances_text, preds_text, i)\n",
    "    \n",
    "    pred_damaged = []\n",
    "    pred_undamaged = []\n",
    "\n",
    "    for idx, x in enumerate(test_ground_truths):\n",
    "        if x == 1:\n",
    "            pred_damaged.append(binary_preds[idx])\n",
    "        else:\n",
    "            pred_undamaged.append(binary_preds[idx])\n",
    "    \n",
    "    dam_acc = accuracy_score(y_pred = pred_damaged, y_true= [1]*len(pred_damaged))\n",
    "    undam_acc = accuracy_score(y_pred = pred_undamaged, y_true= [0]*len(pred_undamaged))\n",
    "    mean_acc = np.mean([dam_acc, undam_acc])\n",
    "    if mean_acc > max_acc:\n",
    "        max_acc = mean_acc\n",
    "        max_acc_thresh = i\n",
    "        \n",
    "print(max_acc, max_acc_thresh)"
   ]
  },
  {
   "cell_type": "code",
   "execution_count": 125,
   "metadata": {},
   "outputs": [
    {
     "name": "stdout",
     "output_type": "stream",
     "text": [
      "0.7204166297790976 0.7204166297790976 0.691244032069183\n"
     ]
    }
   ],
   "source": [
    "from sklearn.metrics import f1_score, recall_score\n",
    "\n",
    "f1_damaged = f1_score(y_pred=binary_preds, y_true=test_ground_truths, average = 'weighted')\n",
    "f1_undamaged = f1_score(y_pred=binary_preds, y_true=test_ground_truths, average = 'weighted')\n",
    "\n",
    "recall_score = recall_score(y_pred=binary_preds, y_true=test_ground_truths, average = 'weighted')\n",
    "\n",
    "print(f1_damaged, f1_undamaged, recall_score)"
   ]
  },
  {
   "cell_type": "code",
   "execution_count": 123,
   "metadata": {},
   "outputs": [
    {
     "data": {
      "text/plain": [
       "Counter({0: 4504, 1: 17698})"
      ]
     },
     "execution_count": 123,
     "metadata": {},
     "output_type": "execute_result"
    }
   ],
   "source": [
    "Counter(test_ground_truths)"
   ]
  },
  {
   "cell_type": "code",
   "execution_count": null,
   "metadata": {},
   "outputs": [],
   "source": [
    "plt.imshow(test_imgs[13])"
   ]
  },
  {
   "cell_type": "code",
   "execution_count": 181,
   "metadata": {},
   "outputs": [
    {
     "data": {
      "text/plain": [
       "(0, 1)"
      ]
     },
     "execution_count": 181,
     "metadata": {},
     "output_type": "execute_result"
    }
   ],
   "source": [
    "binary_preds[13], test_ground_truths[13]"
   ]
  },
  {
   "cell_type": "code",
   "execution_count": null,
   "metadata": {
    "scrolled": true
   },
   "outputs": [],
   "source": [
    "fig, axes = plt.subplots(1, 4, figsize = (10, 10))\n",
    "for i in range(4):\n",
    "    ax = axes[i]\n",
    "    ax.imshow(query_images[i])\n",
    "    ax.set_title(\"Query Image %s\"%(i + 1))\n",
    "plt.tight_layout()\n",
    "plt.show()"
   ]
  },
  {
   "cell_type": "code",
   "execution_count": 114,
   "metadata": {},
   "outputs": [
    {
     "name": "stdout",
     "output_type": "stream",
     "text": [
      "\n",
      "Text Results for Image 1: \n",
      "\n",
      "Text:               frt bumper cover \t Distance: 0.8283585873260687\n",
      "Text:             cover front bumper \t Distance: 1.004734417438029\n",
      "Text:             reinf front bumper \t Distance: 1.1108477877974219\n",
      "Text:       brkt front bumper mtg rt \t Distance: 1.1313845800953166\n",
      "Text:          absorber front bumper \t Distance: 1.2002995436408512\n",
      "\n",
      "Text Results for Image 2: \n",
      "\n",
      "Text:                 r fender panel \t Distance: 0.8161453508119828\n",
      "Text:                 l fender panel \t Distance: 0.8728903557268125\n",
      "Text:                 r fender liner \t Distance: 1.0515356728909384\n",
      "Text:                     hood panel \t Distance: 1.0936171962610985\n",
      "Text:        r frt otr belt moulding \t Distance: 1.0985950143845893\n",
      "\n",
      "Text Results for Image 3: \n",
      "\n",
      "Text:                grille assembly \t Distance: 0.7528252738689917\n",
      "Text:                         grille \t Distance: 0.8065327041963776\n",
      "Text:                    grille assy \t Distance: 0.839851781866243\n",
      "Text:                     panel hood \t Distance: 1.1727012915636879\n",
      "Text:                     hood panel \t Distance: 1.1741405656586297\n",
      "\n",
      "Text Results for Image 4: \n",
      "\n",
      "Text:              rear bumper cover \t Distance: 0.8529085216636728\n",
      "Text:              cover rear bumper \t Distance: 1.015411789297911\n",
      "Text:        l rear combination lamp \t Distance: 1.2173320321157028\n",
      "Text:                       radiator \t Distance: 1.2238523218850095\n",
      "Text:         l frt rear view mirror \t Distance: 1.224586309420705\n"
     ]
    }
   ],
   "source": [
    "for img in range(4):\n",
    "    print(\"\\nText Results for Image {}: \\n\".format(img + 1))\n",
    "    for n in range(5):\n",
    "        print(\"Text: {:>30} \\t Distance: {}\".format(common_text[preds_text[img, n]], distances_text[img, n]))"
   ]
  },
  {
   "cell_type": "code",
   "execution_count": null,
   "metadata": {},
   "outputs": [],
   "source": [
    "print(cleaned_descriptions[test_idx[preds[0, 0]]], \"\\n\", cleaned_descriptions[test_idx[preds[2, 0]]], \"\\n\", cleaned_descriptions[test_idx[preds[4, 0]]], \"\\n\", cleaned_descriptions[test_idx[preds[5, 0]]])"
   ]
  }
 ],
 "metadata": {
  "kernelspec": {
   "display_name": "Python 3",
   "language": "python",
   "name": "python3"
  },
  "language_info": {
   "codemirror_mode": {
    "name": "ipython",
    "version": 3
   },
   "file_extension": ".py",
   "mimetype": "text/x-python",
   "name": "python",
   "nbconvert_exporter": "python",
   "pygments_lexer": "ipython3",
   "version": "3.7.4"
  }
 },
 "nbformat": 4,
 "nbformat_minor": 4
}
