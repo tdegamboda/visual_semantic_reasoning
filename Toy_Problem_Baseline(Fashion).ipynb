{
  "nbformat": 4,
  "nbformat_minor": 0,
  "metadata": {
    "colab": {
      "name": "Toy_Problem_Baseline(Fashion).ipynb",
      "provenance": [],
      "collapsed_sections": [],
      "authorship_tag": "ABX9TyNHIbrxCytQNFVTLCq6QsTI",
      "include_colab_link": true
    },
    "kernelspec": {
      "name": "python3",
      "display_name": "Python 3"
    },
    "accelerator": "GPU"
  },
  "cells": [
    {
      "cell_type": "markdown",
      "metadata": {
        "id": "view-in-github",
        "colab_type": "text"
      },
      "source": [
        "<a href=\"https://colab.research.google.com/github/tdegamboda/visual_semantic_reasoning/blob/master/Toy_Problem_Baseline(Fashion).ipynb\" target=\"_parent\"><img src=\"https://colab.research.google.com/assets/colab-badge.svg\" alt=\"Open In Colab\"/></a>"
      ]
    },
    {
      "cell_type": "markdown",
      "metadata": {
        "id": "Ce2qJ-HlxeTy",
        "colab_type": "text"
      },
      "source": [
        "Import Libraries"
      ]
    },
    {
      "cell_type": "code",
      "metadata": {
        "id": "65cDV7cxxgjM",
        "colab_type": "code",
        "colab": {
          "base_uri": "https://localhost:8080/",
          "height": 72
        },
        "outputId": "f7ecafb1-e2f1-4fd5-e85f-4d2e8e2f7bbf"
      },
      "source": [
        "import sys\n",
        "import time\n",
        "import os\n",
        "import math\n",
        "import copy\n",
        "import string\n",
        "import re\n",
        "import random\n",
        "from IPython.display import clear_output\n",
        "\n",
        "import numpy as np\n",
        "import matplotlib.pyplot as plt\n",
        "import pandas as pd\n",
        "import seaborn as sns\n",
        "\n",
        "from sklearn.preprocessing import LabelEncoder\n",
        "from keras.utils import np_utils\n",
        "\n",
        "import torch\n",
        "import torch.nn as nn\n",
        "import torch.functional as F\n",
        "import torch.optim as optim\n",
        "from torch.utils.data import Dataset, DataLoader, Subset, ConcatDataset, TensorDataset\n",
        "from torch.autograd import Variable\n",
        "\n",
        "import tensorflow as tf\n",
        "import tensorflow.keras.backend as K\n",
        "from tensorflow.keras.applications import ResNet50\n",
        "from tensorflow.keras.applications.imagenet_utils import preprocess_input\n",
        "from tensorflow.keras.callbacks import ModelCheckpoint, ReduceLROnPlateau, EarlyStopping\n",
        "from tensorflow.keras.layers import Input, GlobalMaxPool2D, Conv2D, MaxPooling2D, Flatten, GlobalMaxPool1D, Dense, Embedding, GRU, \\\n",
        "    Bidirectional, Concatenate, Lambda, SpatialDropout1D\n",
        "from tensorflow.keras.models import Model\n",
        "from tensorflow.keras.optimizers import Adam\n",
        "\n",
        "import gensim\n",
        "from gensim.models import Word2Vec\n",
        "from gensim.models import KeyedVectors"
      ],
      "execution_count": null,
      "outputs": [
        {
          "output_type": "stream",
          "text": [
            "/usr/local/lib/python3.6/dist-packages/statsmodels/tools/_testing.py:19: FutureWarning: pandas.util.testing is deprecated. Use the functions in the public API at pandas.testing instead.\n",
            "  import pandas.util.testing as tm\n"
          ],
          "name": "stderr"
        }
      ]
    },
    {
      "cell_type": "markdown",
      "metadata": {
        "id": "bKP_YtuSkUhz",
        "colab_type": "text"
      },
      "source": [
        "We are going to import the genism model in order to implement the pretrained word2vec embeddings"
      ]
    },
    {
      "cell_type": "code",
      "metadata": {
        "id": "KkwYQNmSxsMW",
        "colab_type": "code",
        "colab": {
          "base_uri": "https://localhost:8080/",
          "height": 34
        },
        "outputId": "dfd930f0-db4b-4d09-956e-9578c3e566da"
      },
      "source": [
        "from google.colab import drive, files\n",
        "drive.mount('/content/gdrive')"
      ],
      "execution_count": null,
      "outputs": [
        {
          "output_type": "stream",
          "text": [
            "Mounted at /content/gdrive\n"
          ],
          "name": "stdout"
        }
      ]
    },
    {
      "cell_type": "code",
      "metadata": {
        "id": "Oh45dS1545Kb",
        "colab_type": "code",
        "colab": {}
      },
      "source": [
        "filepath_1 = \"gdrive/My Drive/rfashionMNIST.npz\"\n",
        "\n",
        "data = np.load(filepath_1)"
      ],
      "execution_count": null,
      "outputs": []
    },
    {
      "cell_type": "code",
      "metadata": {
        "id": "YpANzqAxlKkU",
        "colab_type": "code",
        "colab": {
          "base_uri": "https://localhost:8080/",
          "height": 158
        },
        "outputId": "ffa11eaf-7e0b-4ba9-c375-758c1122a67e"
      },
      "source": [
        "fashion_mnist = tf.keras.datasets.fashion_mnist\n",
        "(X, y_original), (x_test, y_test_original) = fashion_mnist.load_data()"
      ],
      "execution_count": null,
      "outputs": [
        {
          "output_type": "stream",
          "text": [
            "Downloading data from https://storage.googleapis.com/tensorflow/tf-keras-datasets/train-labels-idx1-ubyte.gz\n",
            "32768/29515 [=================================] - 0s 0us/step\n",
            "Downloading data from https://storage.googleapis.com/tensorflow/tf-keras-datasets/train-images-idx3-ubyte.gz\n",
            "26427392/26421880 [==============================] - 0s 0us/step\n",
            "Downloading data from https://storage.googleapis.com/tensorflow/tf-keras-datasets/t10k-labels-idx1-ubyte.gz\n",
            "8192/5148 [===============================================] - 0s 0us/step\n",
            "Downloading data from https://storage.googleapis.com/tensorflow/tf-keras-datasets/t10k-images-idx3-ubyte.gz\n",
            "4423680/4422102 [==============================] - 0s 0us/step\n"
          ],
          "name": "stdout"
        }
      ]
    },
    {
      "cell_type": "code",
      "metadata": {
        "id": "IAnSKXQMzbiq",
        "colab_type": "code",
        "colab": {
          "base_uri": "https://localhost:8080/",
          "height": 34
        },
        "outputId": "4363b4f2-6f53-4ee3-9127-89da7167d43f"
      },
      "source": [
        "type(X)"
      ],
      "execution_count": null,
      "outputs": [
        {
          "output_type": "execute_result",
          "data": {
            "text/plain": [
              "numpy.ndarray"
            ]
          },
          "metadata": {
            "tags": []
          },
          "execution_count": 6
        }
      ]
    },
    {
      "cell_type": "code",
      "metadata": {
        "id": "Lpwznr1z54s4",
        "colab_type": "code",
        "colab": {}
      },
      "source": [
        "#X = data['img']\n",
        "y_train = data['positive_labels']\n",
        "y_test = data['positive_labels_test']"
      ],
      "execution_count": null,
      "outputs": []
    },
    {
      "cell_type": "code",
      "metadata": {
        "id": "QHDd6tcYlgMn",
        "colab_type": "code",
        "colab": {}
      },
      "source": [
        "int_to_label = {0 : \"t-shirt\", 1 : \"trouser\", 2 : \"pullover\", 3 : \"dress\", 4 : \"coat\", 5 : \"sandal\", 6 : \"shirt\", 7 : \"sneaker\", 8 : \"bag\", 9 : \"boot\"}"
      ],
      "execution_count": null,
      "outputs": []
    },
    {
      "cell_type": "code",
      "metadata": {
        "id": "s-OoC_m5_KLX",
        "colab_type": "code",
        "colab": {
          "base_uri": "https://localhost:8080/",
          "height": 368
        },
        "outputId": "4a0ad929-266d-4b00-f803-bdf21de70e77"
      },
      "source": [
        "fig2, ax2 = plt.subplots(2, 5, figsize = (20, 5))\n",
        "list1 = []\n",
        "count = 0\n",
        "idx_list = list(range(len(y_original)))\n",
        "np.random.shuffle(idx_list)\n",
        "for i in idx_list:\n",
        "    if y_original[i] not in list1:\n",
        "        list1.append(y_original[i])\n",
        "\n",
        "        ax = ax2[count // 5, count % 5]\n",
        "        ax.imshow(X[i], cmap = 'gray')\n",
        "        ax.set_title(\"Positive : \" + y_train[i])\n",
        "        \n",
        "        count += 1\n",
        "plt.tight_layout()\n",
        "plt.show()"
      ],
      "execution_count": null,
      "outputs": [
        {
          "output_type": "display_data",
          "data": {
            "image/png": "[encoded data removed]",
            "text/plain": [
              "<Figure size 1440x360 with 10 Axes>"
            ]
          },
          "metadata": {
            "tags": [],
            "needs_background": "light"
          }
        }
      ]
    },
    {
      "cell_type": "markdown",
      "metadata": {
        "id": "xWPoZeUyjO4u",
        "colab_type": "text"
      },
      "source": [
        "We will start be preprocessing the label descriptions. It is important that though we use label descriptions without punctuation, it is important that the tokenizer considers potential punctuation"
      ]
    },
    {
      "cell_type": "code",
      "metadata": {
        "id": "tb7_IbKcghSH",
        "colab_type": "code",
        "colab": {}
      },
      "source": [
        "encoder = LabelEncoder()\n",
        "encoder = encoder.fit(y_train)\n",
        "y_train_encoded = encoder.transform(y_train)\n",
        "y_test_encoded = encoder.transform(y_test)\n",
        "\n",
        "y_train_oh = np_utils.to_categorical(y_train_encoded)\n",
        "y_test_oh = np_utils.to_categorical(y_test_encoded)"
      ],
      "execution_count": null,
      "outputs": []
    },
    {
      "cell_type": "code",
      "metadata": {
        "id": "lNvrNvGkysbH",
        "colab_type": "code",
        "colab": {
          "base_uri": "https://localhost:8080/",
          "height": 54
        },
        "outputId": "155e4193-471b-413a-b4b9-bc5dda67afc4"
      },
      "source": [
        "keys = encoder.classes_\n",
        "values = encoder.transform(encoder.classes_)\n",
        "dictionary = dict(zip(keys, values))\n",
        "print(dictionary)"
      ],
      "execution_count": null,
      "outputs": [
        {
          "output_type": "stream",
          "text": [
            "{'ankle boots': 0, 'backpack': 1, 'bag': 2, 'boots': 3, 'button down': 4, 'button up': 5, 'coat': 6, 'denims': 7, 'dress': 8, 'footwear': 9, 'frock': 10, 'galoshes': 11, 'gown': 12, 'handbag': 13, 'hoodie': 14, 'jacket': 15, 'jumper': 16, 'moccasin': 17, 'overcoat': 18, 'pants': 19, 'polo': 20, 'pullover': 21, 'purse': 22, 'robe': 23, 'running shoes': 24, 'sandal': 25, 'shirt': 26, 'slacks': 27, 'slip on': 28, 'slipper': 29, 'sneaker': 30, 'snow shoes': 31, 'sweater': 32, 't-shirt': 33, 'tennis shoes': 34, 'top': 35, 'trousers': 36, 'tunic': 37, 'turtleneck': 38, 'windbreaker': 39}\n"
          ],
          "name": "stdout"
        }
      ]
    },
    {
      "cell_type": "code",
      "metadata": {
        "id": "Y6eS9k2dhQUh",
        "colab_type": "code",
        "colab": {}
      },
      "source": [
        "class_labels = [[\"turtleneck\", \"top\", \"t-shirt\", \"tunic\"],\n",
        "                [\"pants\", \"slacks\", \"trousers\", \"denims\"],\n",
        "                [\"pullover\", \"jumper\", \"hoodie\", \"sweater\"],\n",
        "                [\"dress\", \"gown\", \"frock\", \"robe\"],\n",
        "                [\"coat\", \"jacket\", \"overcoat\", \"windbreaker\"],\n",
        "                [\"slipper\", \"moccasin\", \"slip on\", \"sandal\"],\n",
        "                [\"shirt\", \"button up\", \"button down\", \"polo\"],\n",
        "                [\"sneaker\", \"running shoes\", \"footwear\", \"tennis shoes\"],\n",
        "                [\"bag\", \"handbag\", \"purse\", \"backpack\"],\n",
        "                [\"boots\", \"ankle boots\", \"galoshes\", \"snow shoes\"]]\n",
        "\n",
        "class_to_superclass_dict = {}\n",
        "\n",
        "for idx, class_ in enumerate(class_labels):\n",
        "    for syns in class_:\n",
        "        class_to_superclass_dict[dictionary[syns]] = idx\n"
      ],
      "execution_count": null,
      "outputs": []
    },
    {
      "cell_type": "code",
      "metadata": {
        "id": "-Lthw-8NEmHJ",
        "colab_type": "code",
        "colab": {
          "base_uri": "https://localhost:8080/",
          "height": 34
        },
        "outputId": "eed0efdc-7237-4254-cacc-f74bc23b03dc"
      },
      "source": [
        "a = [1, 2, 6, 5, 4]\n",
        "np.argmax(a)"
      ],
      "execution_count": null,
      "outputs": [
        {
          "output_type": "execute_result",
          "data": {
            "text/plain": [
              "2"
            ]
          },
          "metadata": {
            "tags": []
          },
          "execution_count": 13
        }
      ]
    },
    {
      "cell_type": "code",
      "metadata": {
        "id": "_CVTfHO00d6K",
        "colab_type": "code",
        "colab": {}
      },
      "source": [
        "from collections import Counter\n",
        "\n",
        "cnt = Counter(y_train)\n",
        "count = dict(cnt)\n",
        "\n",
        "most_common_syns = []\n",
        "\n",
        "for class_ in class_labels:\n",
        "    syn_count = [count[syn] for syn in class_]\n",
        "    most_common_syn = np.argmax(syn_count)\n",
        "    most_common_syns.append(class_[most_common_syn])"
      ],
      "execution_count": null,
      "outputs": []
    },
    {
      "cell_type": "code",
      "metadata": {
        "id": "3h1kutunE2-2",
        "colab_type": "code",
        "colab": {
          "base_uri": "https://localhost:8080/",
          "height": 194
        },
        "outputId": "a89ccec9-372f-417e-d5fd-a654d259ff9a"
      },
      "source": [
        "most_common_syns"
      ],
      "execution_count": null,
      "outputs": [
        {
          "output_type": "execute_result",
          "data": {
            "text/plain": [
              "['top',\n",
              " 'trousers',\n",
              " 'jumper',\n",
              " 'robe',\n",
              " 'jacket',\n",
              " 'moccasin',\n",
              " 'button down',\n",
              " 'tennis shoes',\n",
              " 'bag',\n",
              " 'snow shoes']"
            ]
          },
          "metadata": {
            "tags": []
          },
          "execution_count": 15
        }
      ]
    },
    {
      "cell_type": "code",
      "metadata": {
        "id": "yP-AULDBE_fR",
        "colab_type": "code",
        "colab": {
          "base_uri": "https://localhost:8080/",
          "height": 34
        },
        "outputId": "52d10c5e-6ea8-449c-d176-a03a2c9b47ea"
      },
      "source": [
        "most_common_syns_enc = [dictionary[x] for x in most_common_syns]\n",
        "most_common_syns_enc"
      ],
      "execution_count": null,
      "outputs": [
        {
          "output_type": "execute_result",
          "data": {
            "text/plain": [
              "[35, 36, 16, 23, 15, 17, 4, 34, 2, 31]"
            ]
          },
          "metadata": {
            "tags": []
          },
          "execution_count": 16
        }
      ]
    },
    {
      "cell_type": "code",
      "metadata": {
        "id": "BsVQh_0xlpZG",
        "colab_type": "code",
        "colab": {}
      },
      "source": [
        "def chunker(sequence, size, shuffle = False):\n",
        "    seq = sequence.copy()\n",
        "    if shuffle == True:\n",
        "        random.shuffle(seq)\n",
        "    return [seq[pos:pos + size] for pos in range(0, len(seq), size)]"
      ],
      "execution_count": null,
      "outputs": []
    },
    {
      "cell_type": "code",
      "metadata": {
        "id": "rIFmBVreSyZG",
        "colab_type": "code",
        "colab": {}
      },
      "source": [
        "def gen(list_images, list_captions_positive, batch_size=16, shuffle_batches = True):\n",
        "    indexes = list(range(len(list_images)))\n",
        "    while True:\n",
        "        batches = chunker(indexes, batch_size, shuffle = shuffle_batches)\n",
        "\n",
        "        for batch_indexes in batches:\n",
        "\n",
        "            candidate_images = [list_images[i].reshape(28, 28, 1) for i in batch_indexes]\n",
        "            candidate_labels = [list_captions_positive[i] for i in batch_indexes]\n",
        "\n",
        "            X1 = np.array(candidate_images)\n",
        "            X2 = np.array(candidate_labels)\n",
        "\n",
        "            yield X1, X2"
      ],
      "execution_count": null,
      "outputs": []
    },
    {
      "cell_type": "code",
      "metadata": {
        "id": "tONbewa4S9C-",
        "colab_type": "code",
        "colab": {
          "base_uri": "https://localhost:8080/",
          "height": 1000
        },
        "outputId": "c7839545-a479-43d1-86c0-7f9268f7a5b4"
      },
      "source": [
        "next(gen(X, y_train_oh))"
      ],
      "execution_count": null,
      "outputs": [
        {
          "output_type": "execute_result",
          "data": {
            "text/plain": [
              "(array([[[[  0],\n",
              "          [  0],\n",
              "          [  0],\n",
              "          ...,\n",
              "          [  0],\n",
              "          [  0],\n",
              "          [  0]],\n",
              " \n",
              "         [[  0],\n",
              "          [  0],\n",
              "          [  0],\n",
              "          ...,\n",
              "          [  0],\n",
              "          [  0],\n",
              "          [  0]],\n",
              " \n",
              "         [[  0],\n",
              "          [  0],\n",
              "          [  0],\n",
              "          ...,\n",
              "          [  0],\n",
              "          [  0],\n",
              "          [  0]],\n",
              " \n",
              "         ...,\n",
              " \n",
              "         [[  0],\n",
              "          [  0],\n",
              "          [  0],\n",
              "          ...,\n",
              "          [  0],\n",
              "          [  0],\n",
              "          [  0]],\n",
              " \n",
              "         [[  0],\n",
              "          [  0],\n",
              "          [  0],\n",
              "          ...,\n",
              "          [  0],\n",
              "          [  0],\n",
              "          [  0]],\n",
              " \n",
              "         [[  0],\n",
              "          [  0],\n",
              "          [  0],\n",
              "          ...,\n",
              "          [  0],\n",
              "          [  0],\n",
              "          [  0]]],\n",
              " \n",
              " \n",
              "        [[[  0],\n",
              "          [  0],\n",
              "          [  0],\n",
              "          ...,\n",
              "          [  0],\n",
              "          [  0],\n",
              "          [  0]],\n",
              " \n",
              "         [[  0],\n",
              "          [  0],\n",
              "          [  0],\n",
              "          ...,\n",
              "          [  0],\n",
              "          [  0],\n",
              "          [  0]],\n",
              " \n",
              "         [[  0],\n",
              "          [  0],\n",
              "          [  0],\n",
              "          ...,\n",
              "          [  0],\n",
              "          [  0],\n",
              "          [  0]],\n",
              " \n",
              "         ...,\n",
              " \n",
              "         [[  0],\n",
              "          [  0],\n",
              "          [  0],\n",
              "          ...,\n",
              "          [  0],\n",
              "          [  0],\n",
              "          [  0]],\n",
              " \n",
              "         [[  0],\n",
              "          [  0],\n",
              "          [  0],\n",
              "          ...,\n",
              "          [  0],\n",
              "          [  0],\n",
              "          [  0]],\n",
              " \n",
              "         [[  0],\n",
              "          [  0],\n",
              "          [  0],\n",
              "          ...,\n",
              "          [  0],\n",
              "          [  0],\n",
              "          [  0]]],\n",
              " \n",
              " \n",
              "        [[[  0],\n",
              "          [  0],\n",
              "          [  1],\n",
              "          ...,\n",
              "          [  0],\n",
              "          [  0],\n",
              "          [  0]],\n",
              " \n",
              "         [[  0],\n",
              "          [  0],\n",
              "          [  0],\n",
              "          ...,\n",
              "          [  0],\n",
              "          [  0],\n",
              "          [  0]],\n",
              " \n",
              "         [[  0],\n",
              "          [  0],\n",
              "          [  2],\n",
              "          ...,\n",
              "          [  2],\n",
              "          [  0],\n",
              "          [  0]],\n",
              " \n",
              "         ...,\n",
              " \n",
              "         [[  0],\n",
              "          [  0],\n",
              "          [ 89],\n",
              "          ...,\n",
              "          [121],\n",
              "          [  0],\n",
              "          [  0]],\n",
              " \n",
              "         [[  0],\n",
              "          [  0],\n",
              "          [110],\n",
              "          ...,\n",
              "          [ 51],\n",
              "          [  0],\n",
              "          [  0]],\n",
              " \n",
              "         [[  0],\n",
              "          [  0],\n",
              "          [ 56],\n",
              "          ...,\n",
              "          [ 56],\n",
              "          [  0],\n",
              "          [  0]]],\n",
              " \n",
              " \n",
              "        ...,\n",
              " \n",
              " \n",
              "        [[[  0],\n",
              "          [  0],\n",
              "          [  0],\n",
              "          ...,\n",
              "          [  0],\n",
              "          [  0],\n",
              "          [  0]],\n",
              " \n",
              "         [[  0],\n",
              "          [  0],\n",
              "          [  0],\n",
              "          ...,\n",
              "          [  0],\n",
              "          [  0],\n",
              "          [  0]],\n",
              " \n",
              "         [[  0],\n",
              "          [  0],\n",
              "          [  0],\n",
              "          ...,\n",
              "          [  0],\n",
              "          [  0],\n",
              "          [  0]],\n",
              " \n",
              "         ...,\n",
              " \n",
              "         [[  0],\n",
              "          [  0],\n",
              "          [  0],\n",
              "          ...,\n",
              "          [  0],\n",
              "          [  0],\n",
              "          [  0]],\n",
              " \n",
              "         [[  0],\n",
              "          [  0],\n",
              "          [  0],\n",
              "          ...,\n",
              "          [  0],\n",
              "          [  0],\n",
              "          [  0]],\n",
              " \n",
              "         [[  0],\n",
              "          [  0],\n",
              "          [  0],\n",
              "          ...,\n",
              "          [  0],\n",
              "          [  0],\n",
              "          [  0]]],\n",
              " \n",
              " \n",
              "        [[[  0],\n",
              "          [  0],\n",
              "          [  0],\n",
              "          ...,\n",
              "          [  0],\n",
              "          [  0],\n",
              "          [  0]],\n",
              " \n",
              "         [[  0],\n",
              "          [  0],\n",
              "          [  0],\n",
              "          ...,\n",
              "          [  0],\n",
              "          [  0],\n",
              "          [  0]],\n",
              " \n",
              "         [[  0],\n",
              "          [  0],\n",
              "          [  0],\n",
              "          ...,\n",
              "          [  0],\n",
              "          [  0],\n",
              "          [  0]],\n",
              " \n",
              "         ...,\n",
              " \n",
              "         [[  0],\n",
              "          [  0],\n",
              "          [  0],\n",
              "          ...,\n",
              "          [  0],\n",
              "          [  0],\n",
              "          [  0]],\n",
              " \n",
              "         [[  0],\n",
              "          [  0],\n",
              "          [  0],\n",
              "          ...,\n",
              "          [  0],\n",
              "          [  0],\n",
              "          [  0]],\n",
              " \n",
              "         [[  0],\n",
              "          [  0],\n",
              "          [  0],\n",
              "          ...,\n",
              "          [  0],\n",
              "          [  0],\n",
              "          [  0]]],\n",
              " \n",
              " \n",
              "        [[[  0],\n",
              "          [  1],\n",
              "          [  0],\n",
              "          ...,\n",
              "          [  0],\n",
              "          [  0],\n",
              "          [  0]],\n",
              " \n",
              "         [[  0],\n",
              "          [  0],\n",
              "          [  0],\n",
              "          ...,\n",
              "          [  0],\n",
              "          [  0],\n",
              "          [  0]],\n",
              " \n",
              "         [[  0],\n",
              "          [  0],\n",
              "          [  0],\n",
              "          ...,\n",
              "          [  0],\n",
              "          [  0],\n",
              "          [  0]],\n",
              " \n",
              "         ...,\n",
              " \n",
              "         [[  0],\n",
              "          [ 42],\n",
              "          [ 48],\n",
              "          ...,\n",
              "          [ 37],\n",
              "          [ 24],\n",
              "          [  0]],\n",
              " \n",
              "         [[  0],\n",
              "          [ 45],\n",
              "          [ 55],\n",
              "          ...,\n",
              "          [ 52],\n",
              "          [ 38],\n",
              "          [  0]],\n",
              " \n",
              "         [[  0],\n",
              "          [ 27],\n",
              "          [ 50],\n",
              "          ...,\n",
              "          [ 33],\n",
              "          [ 17],\n",
              "          [  0]]]], dtype=uint8),\n",
              " array([[0., 0., 0., 0., 0., 0., 0., 0., 0., 0., 0., 0., 0., 0., 0., 0.,\n",
              "         0., 0., 0., 0., 0., 0., 1., 0., 0., 0., 0., 0., 0., 0., 0., 0.,\n",
              "         0., 0., 0., 0., 0., 0., 0., 0.],\n",
              "        [0., 0., 0., 0., 0., 0., 0., 0., 0., 0., 0., 0., 0., 0., 0., 0.,\n",
              "         0., 0., 0., 0., 0., 0., 0., 0., 0., 0., 0., 0., 0., 0., 0., 0.,\n",
              "         0., 0., 0., 0., 1., 0., 0., 0.],\n",
              "        [0., 0., 0., 0., 0., 0., 0., 0., 0., 0., 0., 0., 0., 0., 0., 0.,\n",
              "         1., 0., 0., 0., 0., 0., 0., 0., 0., 0., 0., 0., 0., 0., 0., 0.,\n",
              "         0., 0., 0., 0., 0., 0., 0., 0.],\n",
              "        [0., 0., 0., 0., 0., 0., 1., 0., 0., 0., 0., 0., 0., 0., 0., 0.,\n",
              "         0., 0., 0., 0., 0., 0., 0., 0., 0., 0., 0., 0., 0., 0., 0., 0.,\n",
              "         0., 0., 0., 0., 0., 0., 0., 0.],\n",
              "        [0., 0., 0., 0., 0., 0., 0., 0., 0., 1., 0., 0., 0., 0., 0., 0.,\n",
              "         0., 0., 0., 0., 0., 0., 0., 0., 0., 0., 0., 0., 0., 0., 0., 0.,\n",
              "         0., 0., 0., 0., 0., 0., 0., 0.],\n",
              "        [0., 0., 0., 0., 0., 0., 0., 0., 0., 0., 0., 0., 1., 0., 0., 0.,\n",
              "         0., 0., 0., 0., 0., 0., 0., 0., 0., 0., 0., 0., 0., 0., 0., 0.,\n",
              "         0., 0., 0., 0., 0., 0., 0., 0.],\n",
              "        [0., 0., 0., 0., 0., 0., 0., 0., 0., 0., 0., 0., 0., 0., 0., 0.,\n",
              "         0., 1., 0., 0., 0., 0., 0., 0., 0., 0., 0., 0., 0., 0., 0., 0.,\n",
              "         0., 0., 0., 0., 0., 0., 0., 0.],\n",
              "        [0., 0., 0., 0., 0., 0., 0., 0., 0., 0., 0., 0., 0., 0., 0., 0.,\n",
              "         0., 0., 0., 0., 0., 0., 0., 0., 0., 0., 0., 0., 0., 0., 0., 0.,\n",
              "         0., 0., 0., 0., 0., 0., 1., 0.],\n",
              "        [0., 0., 0., 0., 0., 0., 0., 0., 0., 0., 0., 0., 0., 0., 0., 0.,\n",
              "         0., 0., 0., 0., 0., 0., 0., 0., 0., 0., 0., 0., 0., 0., 0., 1.,\n",
              "         0., 0., 0., 0., 0., 0., 0., 0.],\n",
              "        [0., 0., 0., 0., 0., 0., 0., 0., 0., 0., 0., 0., 0., 0., 0., 0.,\n",
              "         0., 0., 1., 0., 0., 0., 0., 0., 0., 0., 0., 0., 0., 0., 0., 0.,\n",
              "         0., 0., 0., 0., 0., 0., 0., 0.],\n",
              "        [0., 0., 0., 0., 0., 0., 0., 0., 0., 0., 0., 0., 0., 0., 0., 0.,\n",
              "         0., 0., 0., 0., 0., 0., 0., 0., 0., 0., 0., 0., 0., 0., 0., 0.,\n",
              "         0., 0., 0., 1., 0., 0., 0., 0.],\n",
              "        [0., 0., 0., 0., 0., 0., 0., 0., 0., 0., 0., 0., 0., 0., 0., 0.,\n",
              "         0., 0., 0., 0., 0., 0., 0., 0., 0., 0., 1., 0., 0., 0., 0., 0.,\n",
              "         0., 0., 0., 0., 0., 0., 0., 0.],\n",
              "        [0., 0., 0., 0., 0., 0., 0., 0., 0., 0., 0., 0., 0., 0., 0., 1.,\n",
              "         0., 0., 0., 0., 0., 0., 0., 0., 0., 0., 0., 0., 0., 0., 0., 0.,\n",
              "         0., 0., 0., 0., 0., 0., 0., 0.],\n",
              "        [0., 0., 0., 0., 0., 0., 0., 0., 0., 0., 0., 0., 0., 0., 0., 0.,\n",
              "         0., 0., 0., 0., 0., 0., 0., 0., 0., 0., 0., 0., 0., 0., 0., 0.,\n",
              "         0., 0., 0., 0., 1., 0., 0., 0.],\n",
              "        [0., 0., 0., 0., 0., 0., 0., 0., 0., 0., 0., 0., 0., 0., 0., 0.,\n",
              "         0., 1., 0., 0., 0., 0., 0., 0., 0., 0., 0., 0., 0., 0., 0., 0.,\n",
              "         0., 0., 0., 0., 0., 0., 0., 0.],\n",
              "        [0., 0., 0., 0., 0., 0., 0., 0., 0., 0., 0., 0., 0., 0., 0., 0.,\n",
              "         1., 0., 0., 0., 0., 0., 0., 0., 0., 0., 0., 0., 0., 0., 0., 0.,\n",
              "         0., 0., 0., 0., 0., 0., 0., 0.]], dtype=float32))"
            ]
          },
          "metadata": {
            "tags": []
          },
          "execution_count": 19
        }
      ]
    },
    {
      "cell_type": "code",
      "metadata": {
        "id": "CJRYE0cxiXsS",
        "colab_type": "code",
        "colab": {}
      },
      "source": [
        "def model(lr = 0.0001):\n",
        "    input_1 = Input(shape=(28, 28, 1))\n",
        "\n",
        "    conv_1 = Conv2D(32, (3, 3), activation='relu', kernel_initializer='he_uniform', input_shape=(28, 28, 1), name = \"conv_1\")\n",
        "    pool_1 = MaxPooling2D((2, 2), name = \"pool_1\")\n",
        "    dense_1 = Dense(40, activation = 'softmax', name = \"dense_image_1\")\n",
        "\n",
        "    x1 = conv_1(input_1)\n",
        "    x1 = pool_1(x1)\n",
        "    x1 = Flatten()(x1)\n",
        "    x1 = dense_1(x1)\n",
        "\n",
        "    model = Model([input_1], x1)\n",
        "\n",
        "    model.compile(loss = 'categorical_crossentropy', optimizer = Adam(lr), metrics = ['accuracy'])\n",
        "\n",
        "    model.summary()\n",
        "\n",
        "    return model"
      ],
      "execution_count": null,
      "outputs": []
    },
    {
      "cell_type": "code",
      "metadata": {
        "id": "lxovSnAdksZU",
        "colab_type": "code",
        "colab": {
          "base_uri": "https://localhost:8080/",
          "height": 336
        },
        "outputId": "dee7f332-41c0-41d1-b345-109999db0e69"
      },
      "source": [
        "model = model(lr = 0.00001)"
      ],
      "execution_count": null,
      "outputs": [
        {
          "output_type": "stream",
          "text": [
            "Model: \"functional_1\"\n",
            "_________________________________________________________________\n",
            "Layer (type)                 Output Shape              Param #   \n",
            "=================================================================\n",
            "input_1 (InputLayer)         [(None, 28, 28, 1)]       0         \n",
            "_________________________________________________________________\n",
            "conv_1 (Conv2D)              (None, 26, 26, 32)        320       \n",
            "_________________________________________________________________\n",
            "pool_1 (MaxPooling2D)        (None, 13, 13, 32)        0         \n",
            "_________________________________________________________________\n",
            "flatten (Flatten)            (None, 5408)              0         \n",
            "_________________________________________________________________\n",
            "dense_image_1 (Dense)        (None, 40)                216360    \n",
            "=================================================================\n",
            "Total params: 216,680\n",
            "Trainable params: 216,680\n",
            "Non-trainable params: 0\n",
            "_________________________________________________________________\n"
          ],
          "name": "stdout"
        }
      ]
    },
    {
      "cell_type": "code",
      "metadata": {
        "id": "Sfrfio52hPSJ",
        "colab_type": "code",
        "colab": {}
      },
      "source": [
        "#Split the data into train and val\n",
        "from sklearn.model_selection import train_test_split\n",
        "\n",
        "idx_list = list(range(len(X)))\n",
        "train_idx, val_idx = train_test_split(idx_list, test_size = 0.2, shuffle = True, random_state = 2020)\n",
        "\n",
        "train_imgs, train_labels = X[train_idx], y_train_oh[train_idx]\n",
        "val_imgs, val_labels = X[val_idx], y_train_oh[val_idx]"
      ],
      "execution_count": null,
      "outputs": []
    },
    {
      "cell_type": "code",
      "metadata": {
        "id": "Qj28cMCzfxYP",
        "colab_type": "code",
        "colab": {
          "base_uri": "https://localhost:8080/",
          "height": 1000
        },
        "outputId": "1a43d795-9b8f-494d-c502-9c1a3838bf65"
      },
      "source": [
        "file_path = \"model_triplet.h5\"\n",
        "BATCH_SIZE = 32\n",
        "\n",
        "checkpoint = ModelCheckpoint(file_path, monitor='val_accuracy', verbose=1, save_best_only=True, mode='auto')\n",
        "es = EarlyStopping(monitor='val_accuracy', mode='auto', verbose=1, patience=10)\n",
        "reduce_ = ReduceLROnPlateau(monitor=\"val_accuracy\", mode='auto', patience=10, min_lr=1e-7)\n",
        "\n",
        "history = model.fit(gen(train_imgs, train_labels, batch_size=BATCH_SIZE),\n",
        "                    use_multiprocessing=True,\n",
        "                    validation_data=gen(val_imgs, val_labels, batch_size=BATCH_SIZE), epochs=100,\n",
        "                    verbose=1, workers=-1, steps_per_epoch=np.ceil(len(train_imgs) / BATCH_SIZE), validation_steps=np.ceil(len(val_imgs) / BATCH_SIZE), callbacks=[es, checkpoint, reduce_])\n",
        "model.save_weights(file_path)"
      ],
      "execution_count": null,
      "outputs": [
        {
          "output_type": "stream",
          "text": [
            "Epoch 1/100\n",
            "1496/1500 [============================>.] - ETA: 0s - loss: 85.9074 - accuracy: 0.1253\n",
            "Epoch 00001: val_accuracy improved from -inf to 0.16275, saving model to model_triplet.h5\n",
            "1500/1500 [==============================] - 5s 3ms/step - loss: 85.8412 - accuracy: 0.1253 - val_loss: 57.3860 - val_accuracy: 0.1628\n",
            "Epoch 2/100\n",
            "1494/1500 [============================>.] - ETA: 0s - loss: 50.4165 - accuracy: 0.1754\n",
            "Epoch 00002: val_accuracy improved from 0.16275 to 0.17800, saving model to model_triplet.h5\n",
            "1500/1500 [==============================] - 5s 3ms/step - loss: 50.3809 - accuracy: 0.1754 - val_loss: 46.4578 - val_accuracy: 0.1780\n",
            "Epoch 3/100\n",
            "1496/1500 [============================>.] - ETA: 0s - loss: 42.6765 - accuracy: 0.1876\n",
            "Epoch 00003: val_accuracy improved from 0.17800 to 0.18592, saving model to model_triplet.h5\n",
            "1500/1500 [==============================] - 5s 3ms/step - loss: 42.6669 - accuracy: 0.1878 - val_loss: 41.5667 - val_accuracy: 0.1859\n",
            "Epoch 4/100\n",
            "1495/1500 [============================>.] - ETA: 0s - loss: 38.2270 - accuracy: 0.1945\n",
            "Epoch 00004: val_accuracy improved from 0.18592 to 0.18750, saving model to model_triplet.h5\n",
            "1500/1500 [==============================] - 5s 3ms/step - loss: 38.2109 - accuracy: 0.1945 - val_loss: 38.6676 - val_accuracy: 0.1875\n",
            "Epoch 5/100\n",
            "1489/1500 [============================>.] - ETA: 0s - loss: 35.1285 - accuracy: 0.2013\n",
            "Epoch 00005: val_accuracy improved from 0.18750 to 0.19292, saving model to model_triplet.h5\n",
            "1500/1500 [==============================] - 5s 3ms/step - loss: 35.1378 - accuracy: 0.2013 - val_loss: 35.8979 - val_accuracy: 0.1929\n",
            "Epoch 6/100\n",
            "1488/1500 [============================>.] - ETA: 0s - loss: 32.7592 - accuracy: 0.2049\n",
            "Epoch 00006: val_accuracy improved from 0.19292 to 0.19692, saving model to model_triplet.h5\n",
            "1500/1500 [==============================] - 5s 3ms/step - loss: 32.7415 - accuracy: 0.2051 - val_loss: 34.2983 - val_accuracy: 0.1969\n",
            "Epoch 7/100\n",
            "1499/1500 [============================>.] - ETA: 0s - loss: 30.8014 - accuracy: 0.2095\n",
            "Epoch 00007: val_accuracy improved from 0.19692 to 0.19925, saving model to model_triplet.h5\n",
            "1500/1500 [==============================] - 5s 3ms/step - loss: 30.8001 - accuracy: 0.2095 - val_loss: 32.8375 - val_accuracy: 0.1992\n",
            "Epoch 8/100\n",
            "1481/1500 [============================>.] - ETA: 0s - loss: 29.2327 - accuracy: 0.2149\n",
            "Epoch 00008: val_accuracy improved from 0.19925 to 0.20117, saving model to model_triplet.h5\n",
            "1500/1500 [==============================] - 5s 3ms/step - loss: 29.2383 - accuracy: 0.2150 - val_loss: 31.2801 - val_accuracy: 0.2012\n",
            "Epoch 9/100\n",
            "1495/1500 [============================>.] - ETA: 0s - loss: 27.8973 - accuracy: 0.2187\n",
            "Epoch 00009: val_accuracy did not improve from 0.20117\n",
            "1500/1500 [==============================] - 5s 3ms/step - loss: 27.8899 - accuracy: 0.2186 - val_loss: 30.1524 - val_accuracy: 0.1973\n",
            "Epoch 10/100\n",
            "1481/1500 [============================>.] - ETA: 0s - loss: 26.6915 - accuracy: 0.2220\n",
            "Epoch 00010: val_accuracy did not improve from 0.20117\n",
            "1500/1500 [==============================] - 5s 3ms/step - loss: 26.6866 - accuracy: 0.2219 - val_loss: 29.8210 - val_accuracy: 0.1984\n",
            "Epoch 11/100\n",
            "1497/1500 [============================>.] - ETA: 0s - loss: 25.6104 - accuracy: 0.2255\n",
            "Epoch 00011: val_accuracy improved from 0.20117 to 0.20133, saving model to model_triplet.h5\n",
            "1500/1500 [==============================] - 5s 3ms/step - loss: 25.6085 - accuracy: 0.2256 - val_loss: 28.7895 - val_accuracy: 0.2013\n",
            "Epoch 12/100\n",
            "1492/1500 [============================>.] - ETA: 0s - loss: 24.6284 - accuracy: 0.2289\n",
            "Epoch 00012: val_accuracy improved from 0.20133 to 0.20225, saving model to model_triplet.h5\n",
            "1500/1500 [==============================] - 5s 3ms/step - loss: 24.6405 - accuracy: 0.2287 - val_loss: 28.5124 - val_accuracy: 0.2023\n",
            "Epoch 13/100\n",
            "1494/1500 [============================>.] - ETA: 0s - loss: 23.8173 - accuracy: 0.2307\n",
            "Epoch 00013: val_accuracy improved from 0.20225 to 0.20583, saving model to model_triplet.h5\n",
            "1500/1500 [==============================] - 4s 3ms/step - loss: 23.8241 - accuracy: 0.2309 - val_loss: 27.5567 - val_accuracy: 0.2058\n",
            "Epoch 14/100\n",
            "1497/1500 [============================>.] - ETA: 0s - loss: 23.0409 - accuracy: 0.2341\n",
            "Epoch 00014: val_accuracy did not improve from 0.20583\n",
            "1500/1500 [==============================] - 4s 3ms/step - loss: 23.0408 - accuracy: 0.2341 - val_loss: 27.1259 - val_accuracy: 0.2002\n",
            "Epoch 15/100\n",
            "1483/1500 [============================>.] - ETA: 0s - loss: 22.3139 - accuracy: 0.2365\n",
            "Epoch 00015: val_accuracy did not improve from 0.20583\n",
            "1500/1500 [==============================] - 4s 3ms/step - loss: 22.3198 - accuracy: 0.2364 - val_loss: 26.4787 - val_accuracy: 0.2013\n",
            "Epoch 16/100\n",
            "1496/1500 [============================>.] - ETA: 0s - loss: 21.5838 - accuracy: 0.2403\n",
            "Epoch 00016: val_accuracy improved from 0.20583 to 0.20642, saving model to model_triplet.h5\n",
            "1500/1500 [==============================] - 5s 3ms/step - loss: 21.5820 - accuracy: 0.2403 - val_loss: 26.4483 - val_accuracy: 0.2064\n",
            "Epoch 17/100\n",
            "1492/1500 [============================>.] - ETA: 0s - loss: 21.0204 - accuracy: 0.2399\n",
            "Epoch 00017: val_accuracy did not improve from 0.20642\n",
            "1500/1500 [==============================] - 5s 3ms/step - loss: 21.0036 - accuracy: 0.2400 - val_loss: 26.3536 - val_accuracy: 0.2023\n",
            "Epoch 18/100\n",
            "1483/1500 [============================>.] - ETA: 0s - loss: 20.3920 - accuracy: 0.2441\n",
            "Epoch 00018: val_accuracy improved from 0.20642 to 0.20700, saving model to model_triplet.h5\n",
            "1500/1500 [==============================] - 4s 3ms/step - loss: 20.4087 - accuracy: 0.2438 - val_loss: 25.5547 - val_accuracy: 0.2070\n",
            "Epoch 19/100\n",
            "1487/1500 [============================>.] - ETA: 0s - loss: 19.9043 - accuracy: 0.2489\n",
            "Epoch 00019: val_accuracy improved from 0.20700 to 0.20758, saving model to model_triplet.h5\n",
            "1500/1500 [==============================] - 5s 3ms/step - loss: 19.8976 - accuracy: 0.2489 - val_loss: 24.9069 - val_accuracy: 0.2076\n",
            "Epoch 20/100\n",
            "1492/1500 [============================>.] - ETA: 0s - loss: 19.3877 - accuracy: 0.2495\n",
            "Epoch 00020: val_accuracy did not improve from 0.20758\n",
            "1500/1500 [==============================] - 5s 3ms/step - loss: 19.3938 - accuracy: 0.2494 - val_loss: 24.3766 - val_accuracy: 0.2065\n",
            "Epoch 21/100\n",
            "1494/1500 [============================>.] - ETA: 0s - loss: 18.8852 - accuracy: 0.2540\n",
            "Epoch 00021: val_accuracy improved from 0.20758 to 0.20783, saving model to model_triplet.h5\n",
            "1500/1500 [==============================] - 5s 3ms/step - loss: 18.8918 - accuracy: 0.2536 - val_loss: 23.9603 - val_accuracy: 0.2078\n",
            "Epoch 22/100\n",
            "1492/1500 [============================>.] - ETA: 0s - loss: 18.4537 - accuracy: 0.2553\n",
            "Epoch 00022: val_accuracy improved from 0.20783 to 0.20908, saving model to model_triplet.h5\n",
            "1500/1500 [==============================] - 5s 3ms/step - loss: 18.4563 - accuracy: 0.2552 - val_loss: 23.6162 - val_accuracy: 0.2091\n",
            "Epoch 23/100\n",
            "1495/1500 [============================>.] - ETA: 0s - loss: 18.0016 - accuracy: 0.2596\n",
            "Epoch 00023: val_accuracy did not improve from 0.20908\n",
            "1500/1500 [==============================] - 5s 3ms/step - loss: 18.0040 - accuracy: 0.2595 - val_loss: 24.0972 - val_accuracy: 0.2052\n",
            "Epoch 24/100\n",
            "1495/1500 [============================>.] - ETA: 0s - loss: 17.6117 - accuracy: 0.2609\n",
            "Epoch 00024: val_accuracy did not improve from 0.20908\n",
            "1500/1500 [==============================] - 5s 3ms/step - loss: 17.6120 - accuracy: 0.2607 - val_loss: 23.4865 - val_accuracy: 0.2087\n",
            "Epoch 25/100\n",
            "1480/1500 [============================>.] - ETA: 0s - loss: 17.1771 - accuracy: 0.2649\n",
            "Epoch 00025: val_accuracy did not improve from 0.20908\n",
            "1500/1500 [==============================] - 4s 3ms/step - loss: 17.1824 - accuracy: 0.2649 - val_loss: 23.1744 - val_accuracy: 0.2070\n",
            "Epoch 26/100\n",
            "1495/1500 [============================>.] - ETA: 0s - loss: 16.8465 - accuracy: 0.2668\n",
            "Epoch 00026: val_accuracy improved from 0.20908 to 0.21133, saving model to model_triplet.h5\n",
            "1500/1500 [==============================] - 5s 3ms/step - loss: 16.8407 - accuracy: 0.2666 - val_loss: 22.8376 - val_accuracy: 0.2113\n",
            "Epoch 27/100\n",
            "1496/1500 [============================>.] - ETA: 0s - loss: 16.4808 - accuracy: 0.2684\n",
            "Epoch 00027: val_accuracy did not improve from 0.21133\n",
            "1500/1500 [==============================] - 5s 3ms/step - loss: 16.4714 - accuracy: 0.2688 - val_loss: 22.9120 - val_accuracy: 0.2067\n",
            "Epoch 28/100\n",
            "1488/1500 [============================>.] - ETA: 0s - loss: 16.1243 - accuracy: 0.2708\n",
            "Epoch 00028: val_accuracy did not improve from 0.21133\n",
            "1500/1500 [==============================] - 5s 3ms/step - loss: 16.1280 - accuracy: 0.2707 - val_loss: 23.0763 - val_accuracy: 0.2070\n",
            "Epoch 29/100\n",
            "1479/1500 [============================>.] - ETA: 0s - loss: 15.7732 - accuracy: 0.2741\n",
            "Epoch 00029: val_accuracy did not improve from 0.21133\n",
            "1500/1500 [==============================] - 4s 3ms/step - loss: 15.7780 - accuracy: 0.2744 - val_loss: 22.4699 - val_accuracy: 0.2113\n",
            "Epoch 30/100\n",
            "1492/1500 [============================>.] - ETA: 0s - loss: 15.5136 - accuracy: 0.2760\n",
            "Epoch 00030: val_accuracy did not improve from 0.21133\n",
            "1500/1500 [==============================] - 5s 3ms/step - loss: 15.5207 - accuracy: 0.2758 - val_loss: 22.0032 - val_accuracy: 0.2080\n",
            "Epoch 31/100\n",
            "1496/1500 [============================>.] - ETA: 0s - loss: 15.1568 - accuracy: 0.2796\n",
            "Epoch 00031: val_accuracy did not improve from 0.21133\n",
            "1500/1500 [==============================] - 4s 3ms/step - loss: 15.1553 - accuracy: 0.2796 - val_loss: 21.7917 - val_accuracy: 0.2081\n",
            "Epoch 32/100\n",
            "1496/1500 [============================>.] - ETA: 0s - loss: 14.9128 - accuracy: 0.2805\n",
            "Epoch 00032: val_accuracy did not improve from 0.21133\n",
            "1500/1500 [==============================] - 4s 3ms/step - loss: 14.9230 - accuracy: 0.2805 - val_loss: 21.6560 - val_accuracy: 0.2066\n",
            "Epoch 33/100\n",
            "1480/1500 [============================>.] - ETA: 0s - loss: 14.6269 - accuracy: 0.2815\n",
            "Epoch 00033: val_accuracy improved from 0.21133 to 0.21417, saving model to model_triplet.h5\n",
            "1500/1500 [==============================] - 5s 3ms/step - loss: 14.6327 - accuracy: 0.2814 - val_loss: 21.5045 - val_accuracy: 0.2142\n",
            "Epoch 34/100\n",
            "1482/1500 [============================>.] - ETA: 0s - loss: 14.3660 - accuracy: 0.2861\n",
            "Epoch 00034: val_accuracy did not improve from 0.21417\n",
            "1500/1500 [==============================] - 4s 3ms/step - loss: 14.3663 - accuracy: 0.2861 - val_loss: 21.1315 - val_accuracy: 0.2122\n",
            "Epoch 35/100\n",
            "1483/1500 [============================>.] - ETA: 0s - loss: 14.0442 - accuracy: 0.2894\n",
            "Epoch 00035: val_accuracy did not improve from 0.21417\n",
            "1500/1500 [==============================] - 4s 3ms/step - loss: 14.0681 - accuracy: 0.2890 - val_loss: 20.8093 - val_accuracy: 0.2097\n",
            "Epoch 36/100\n",
            "1497/1500 [============================>.] - ETA: 0s - loss: 13.8532 - accuracy: 0.2909\n",
            "Epoch 00036: val_accuracy did not improve from 0.21417\n",
            "1500/1500 [==============================] - 5s 3ms/step - loss: 13.8495 - accuracy: 0.2910 - val_loss: 20.7283 - val_accuracy: 0.2088\n",
            "Epoch 37/100\n",
            "1494/1500 [============================>.] - ETA: 0s - loss: 13.5601 - accuracy: 0.2942\n",
            "Epoch 00037: val_accuracy did not improve from 0.21417\n",
            "1500/1500 [==============================] - 5s 3ms/step - loss: 13.5612 - accuracy: 0.2941 - val_loss: 20.9219 - val_accuracy: 0.2119\n",
            "Epoch 38/100\n",
            "1495/1500 [============================>.] - ETA: 0s - loss: 13.3234 - accuracy: 0.2952\n",
            "Epoch 00038: val_accuracy did not improve from 0.21417\n",
            "1500/1500 [==============================] - 5s 3ms/step - loss: 13.3254 - accuracy: 0.2951 - val_loss: 20.6798 - val_accuracy: 0.2077\n",
            "Epoch 39/100\n",
            "1493/1500 [============================>.] - ETA: 0s - loss: 13.1040 - accuracy: 0.3007\n",
            "Epoch 00039: val_accuracy did not improve from 0.21417\n",
            "1500/1500 [==============================] - 4s 3ms/step - loss: 13.1030 - accuracy: 0.3004 - val_loss: 20.4173 - val_accuracy: 0.2083\n",
            "Epoch 40/100\n",
            "1497/1500 [============================>.] - ETA: 0s - loss: 12.8894 - accuracy: 0.3011\n",
            "Epoch 00040: val_accuracy did not improve from 0.21417\n",
            "1500/1500 [==============================] - 4s 3ms/step - loss: 12.8861 - accuracy: 0.3011 - val_loss: 20.5958 - val_accuracy: 0.2081\n",
            "Epoch 41/100\n",
            "1493/1500 [============================>.] - ETA: 0s - loss: 12.6801 - accuracy: 0.3034\n",
            "Epoch 00041: val_accuracy did not improve from 0.21417\n",
            "1500/1500 [==============================] - 4s 3ms/step - loss: 12.6795 - accuracy: 0.3035 - val_loss: 20.2153 - val_accuracy: 0.2097\n",
            "Epoch 42/100\n",
            "1500/1500 [==============================] - ETA: 0s - loss: 12.4281 - accuracy: 0.3057\n",
            "Epoch 00042: val_accuracy did not improve from 0.21417\n",
            "1500/1500 [==============================] - 4s 3ms/step - loss: 12.4281 - accuracy: 0.3057 - val_loss: 20.5655 - val_accuracy: 0.2103\n",
            "Epoch 43/100\n",
            "1496/1500 [============================>.] - ETA: 0s - loss: 12.2386 - accuracy: 0.3089\n",
            "Epoch 00043: val_accuracy did not improve from 0.21417\n",
            "1500/1500 [==============================] - 5s 3ms/step - loss: 12.2354 - accuracy: 0.3088 - val_loss: 20.5522 - val_accuracy: 0.2062\n",
            "Epoch 00043: early stopping\n"
          ],
          "name": "stdout"
        }
      ]
    },
    {
      "cell_type": "markdown",
      "metadata": {
        "id": "xJ9oOAJPycb-",
        "colab_type": "text"
      },
      "source": [
        "We will now evaluate the model performance"
      ]
    },
    {
      "cell_type": "code",
      "metadata": {
        "id": "DezkuqxPKxQI",
        "colab_type": "code",
        "colab": {
          "base_uri": "https://localhost:8080/",
          "height": 34
        },
        "outputId": "189009e3-4345-4c92-c2d2-a1acabef9e84"
      },
      "source": [
        "print(history.history.keys())"
      ],
      "execution_count": null,
      "outputs": [
        {
          "output_type": "stream",
          "text": [
            "dict_keys(['loss', 'accuracy', 'val_loss', 'val_accuracy', 'lr'])\n"
          ],
          "name": "stdout"
        }
      ]
    },
    {
      "cell_type": "code",
      "metadata": {
        "id": "FMyGK8hO2ssJ",
        "colab_type": "code",
        "colab": {
          "base_uri": "https://localhost:8080/",
          "height": 282
        },
        "outputId": "9bcb8865-ecf6-4c43-e480-dc29f9a51534"
      },
      "source": [
        "plt.plot(history.history['val_accuracy'])"
      ],
      "execution_count": null,
      "outputs": [
        {
          "output_type": "execute_result",
          "data": {
            "text/plain": [
              "[<matplotlib.lines.Line2D at 0x7fc1fed74080>]"
            ]
          },
          "metadata": {
            "tags": []
          },
          "execution_count": 25
        },
        {
          "output_type": "display_data",
          "data": {
            "image/png": "[encoded data removed]",
            "text/plain": [
              "<Figure size 432x288 with 1 Axes>"
            ]
          },
          "metadata": {
            "tags": [],
            "needs_background": "light"
          }
        }
      ]
    },
    {
      "cell_type": "code",
      "metadata": {
        "id": "3Fr68CFU2zMS",
        "colab_type": "code",
        "colab": {
          "base_uri": "https://localhost:8080/",
          "height": 52
        },
        "outputId": "3b2a3e3e-395b-4011-f634-70cebd36780b"
      },
      "source": [
        "predictions = model.predict(gen(x_test, y_test_oh, BATCH_SIZE, False), steps = np.ceil(len(x_test)/BATCH_SIZE),  use_multiprocessing= True, verbose = 1)"
      ],
      "execution_count": null,
      "outputs": [
        {
          "output_type": "stream",
          "text": [
            "WARNING:tensorflow:multiprocessing can interact badly with TensorFlow, causing nondeterministic deadlocks. For high performance data pipelines tf.data is recommended.\n",
            "313/313 [==============================] - 1s 2ms/step\n"
          ],
          "name": "stdout"
        }
      ]
    },
    {
      "cell_type": "code",
      "metadata": {
        "id": "pZ-c45Fh3UgL",
        "colab_type": "code",
        "colab": {}
      },
      "source": [
        "ten_label_preds = np.zeros((len(predictions),))\n",
        "\n",
        "for i, x in enumerate(predictions):\n",
        "    syn_probs = x[most_common_syns_enc]\n",
        "    pred_class = np.argmax(syn_probs)\n",
        "    ten_label_preds[i] = pred_class"
      ],
      "execution_count": null,
      "outputs": []
    },
    {
      "cell_type": "code",
      "metadata": {
        "id": "IKLqdx3t4GZf",
        "colab_type": "code",
        "colab": {}
      },
      "source": [
        "from sklearn.metrics import accuracy_score"
      ],
      "execution_count": null,
      "outputs": []
    },
    {
      "cell_type": "code",
      "metadata": {
        "id": "NlWBs9qD2x3n",
        "colab_type": "code",
        "colab": {}
      },
      "source": [
        "class_accs = []\n",
        "for i in range(10):\n",
        "    class_preds = [ten_label_preds[id] for id, x, in enumerate(y_test_original) if x == i]\n",
        "    bin_labels = [1 if x == i else 0 for x in class_preds]\n",
        "    class_acc = accuracy_score(bin_labels, [1]*len(bin_labels))\n",
        "    class_accs.append(class_acc)"
      ],
      "execution_count": null,
      "outputs": []
    },
    {
      "cell_type": "code",
      "metadata": {
        "id": "CGAJ-3m04MLb",
        "colab_type": "code",
        "colab": {
          "base_uri": "https://localhost:8080/",
          "height": 34
        },
        "outputId": "bc05ddb4-ab85-4bc0-cd86-d0c2e1679758"
      },
      "source": [
        "np.mean(class_accs)"
      ],
      "execution_count": null,
      "outputs": [
        {
          "output_type": "execute_result",
          "data": {
            "text/plain": [
              "0.7926"
            ]
          },
          "metadata": {
            "tags": []
          },
          "execution_count": 31
        }
      ]
    },
    {
      "cell_type": "code",
      "metadata": {
        "id": "VNBvKeJT5sFz",
        "colab_type": "code",
        "colab": {
          "base_uri": "https://localhost:8080/",
          "height": 34
        },
        "outputId": "15bc22f3-2ac3-407d-be89-bcee28564bf7"
      },
      "source": [
        "np.zeros((10,))"
      ],
      "execution_count": null,
      "outputs": [
        {
          "output_type": "execute_result",
          "data": {
            "text/plain": [
              "array([0., 0., 0., 0., 0., 0., 0., 0., 0., 0.])"
            ]
          },
          "metadata": {
            "tags": []
          },
          "execution_count": 37
        }
      ]
    },
    {
      "cell_type": "code",
      "metadata": {
        "id": "knPo4MS657I3",
        "colab_type": "code",
        "colab": {}
      },
      "source": [
        ""
      ],
      "execution_count": null,
      "outputs": []
    }
  ]
}